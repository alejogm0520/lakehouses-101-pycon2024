{
 "cells": [
  {
   "cell_type": "markdown",
   "metadata": {},
   "source": [
    "Step 1.1: Setup Environment"
   ]
  },
  {
   "cell_type": "code",
   "execution_count": null,
   "metadata": {
    "vscode": {
     "languageId": "shellscript"
    }
   },
   "outputs": [],
   "source": [
    "# Install necessary packages\n",
    "!pip install pyspark\n",
    "!pip install s3fs\n",
    "!pip install minio\n",
    "!pip install pyhive"
   ]
  },
  {
   "cell_type": "code",
   "execution_count": null,
   "metadata": {},
   "outputs": [],
   "source": [
    "# Import libraries\n",
    "from pyspark.sql import SparkSession\n",
    "from pyspark.sql.functions import col, explode\n",
    "from minio import Minio\n",
    "import os"
   ]
  },
  {
   "cell_type": "code",
   "execution_count": null,
   "metadata": {},
   "outputs": [],
   "source": [
    "# Initialize Spark session\n",
    "spark = SparkSession.builder \\\n",
    "    .appName(\"RaygunErrorTraceAnalysis\") \\\n",
    "    .config(\"spark.hadoop.fs.s3a.endpoint\", \"http://localhost:9000\") \\\n",
    "    .config(\"spark.hadoop.fs.s3a.access.key\", \"minioadmin\") \\\n",
    "    .config(\"spark.hadoop.fs.s3a.secret.key\", \"minioadmin\") \\\n",
    "    .config(\"spark.hadoop.fs.s3a.path.style.access\", True) \\\n",
    "    .config(\"spark.hadoop.fs.s3a.impl\", \"org.apache.hadoop.fs.s3a.S3AFileSystem\") \\\n",
    "    .enableHiveSupport() \\\n",
    "    .getOrCreate()"
   ]
  },
  {
   "cell_type": "markdown",
   "metadata": {},
   "source": [
    "Step 1.2: Upload Multiple JSON Files to MinIO"
   ]
  },
  {
   "cell_type": "code",
   "execution_count": null,
   "metadata": {},
   "outputs": [],
   "source": [
    "# Local directory path containing JSON files\n",
    "local_directory = \"./data/raygun\"\n",
    "\n",
    "# MinIO bucket name\n",
    "bucket_name = \"raygun-analysis-bucket\"\n",
    "\n",
    "# Path to the JSON files in MinIO\n",
    "json_files_path = \"s3a://raygun-analysis-bucket/*.json\""
   ]
  },
  {
   "cell_type": "code",
   "execution_count": null,
   "metadata": {},
   "outputs": [],
   "source": [
    "# Initialize Minio client\n",
    "minio_client = Minio(\n",
    "    'localhost:9000',\n",
    "    access_key='minioadmin',\n",
    "    secret_key='minioadmin',\n",
    "    secure=False\n",
    ")"
   ]
  },
  {
   "cell_type": "code",
   "execution_count": null,
   "metadata": {},
   "outputs": [],
   "source": [
    "# Create the bucket if it doesn't exist\n",
    "if not minio_client.bucket_exists(bucket_name):\n",
    "    minio_client.make_bucket(bucket_name)\n",
    "\n",
    "# Upload JSON files to MinIO\n",
    "for filename in os.listdir(local_directory):\n",
    "    if filename.endswith(\".json\"):\n",
    "        file_path = os.path.join(local_directory, filename)\n",
    "        minio_client.fput_object(bucket_name, filename, file_path)\n",
    "        print(f\"Uploaded {filename} to {bucket_name}\")"
   ]
  },
  {
   "cell_type": "markdown",
   "metadata": {},
   "source": [
    "Step 2: Read Multiple JSON Files from MinIO"
   ]
  },
  {
   "cell_type": "code",
   "execution_count": null,
   "metadata": {},
   "outputs": [],
   "source": [
    "# Read JSON files into DataFrame\n",
    "df = spark.read.json(json_files_path)\n",
    "df.printSchema()\n",
    "df.show(truncate=False)"
   ]
  },
  {
   "cell_type": "markdown",
   "metadata": {},
   "source": [
    "Step 3: Process JSON Data"
   ]
  },
  {
   "cell_type": "code",
   "execution_count": null,
   "metadata": {},
   "outputs": [],
   "source": [
    "# Flatten the nested structure for easier analysis\n",
    "df_flattened = df.select(\n",
    "    col(\"Error.Message\").alias(\"ErrorMessage\"),\n",
    "    col(\"Error.ClassName\").alias(\"ErrorClassName\"),\n",
    "    col(\"Error.FileName\").alias(\"ErrorFileName\"),\n",
    "    explode(\"Error.StackTrace\").alias(\"StackTrace\"),\n",
    "    col(\"MachineName\"),\n",
    "    col(\"Request.HostName\").alias(\"RequestHostName\"),\n",
    "    col(\"Request.Url\").alias(\"RequestUrl\"),\n",
    "    col(\"Request.HttpMethod\").alias(\"RequestHttpMethod\"),\n",
    "    col(\"Request.IpAddress\").alias(\"RequestIpAddress\"),\n",
    "    col(\"Request.QueryString\"),\n",
    "    col(\"Request.Headers\"),\n",
    "    col(\"Request.Data\")\n",
    ")\n",
    "\n",
    "df_flattened.printSchema()\n",
    "df_flattened.show(truncate=False)"
   ]
  },
  {
   "cell_type": "markdown",
   "metadata": {},
   "source": [
    "Step 4: Save Data into Apache Hive"
   ]
  },
  {
   "cell_type": "code",
   "execution_count": null,
   "metadata": {},
   "outputs": [],
   "source": [
    "# Save the processed data into Hive table\n",
    "df_flattened.write.mode(\"overwrite\").saveAsTable(\"raygun_error_traces\")\n",
    "\n",
    "# Verify the data is saved correctly\n",
    "spark.sql(\"SELECT * FROM raygun_error_traces LIMIT 10\").show(truncate=False)"
   ]
  },
  {
   "cell_type": "markdown",
   "metadata": {},
   "source": [
    "Step 5: Query with Trino"
   ]
  },
  {
   "cell_type": "code",
   "execution_count": null,
   "metadata": {},
   "outputs": [],
   "source": [
    "# Connect to Trino\n",
    "conn = trino.connect(\n",
    "    host='localhost',\n",
    "    port=8080,\n",
    "    user='trino',\n",
    "    catalog='hive',\n",
    "    schema='default',\n",
    ")\n",
    "\n",
    "# Create a cursor object using the cursor() method\n",
    "cursor = conn.cursor()\n",
    "\n",
    "# Execute a query\n",
    "cursor.execute(\"SELECT * FROM raygun_error_traces LIMIT 10\")\n",
    "\n",
    "# Fetch the data\n",
    "rows = cursor.fetchall()\n",
    "\n",
    "# Display the data\n",
    "for row in rows:\n",
    "    print(row)"
   ]
  }
 ],
 "metadata": {
  "language_info": {
   "name": "python"
  }
 },
 "nbformat": 4,
 "nbformat_minor": 2
}
