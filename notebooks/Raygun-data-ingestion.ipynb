{
 "cells": [
  {
   "cell_type": "code",
   "execution_count": null,
   "metadata": {},
   "outputs": [],
   "source": [
    "# To connect to the Jupiter Server\n",
    "# In the docker attach screen, look for a message like this:\n",
    "#    http://127.0.0.1:8888/lab?token=xxxx\n",
    "# The \"xxxx\" is the password to be used when the Jupyter Kernel Connection ask for it...\n",
    "# Then select the \"Existing Jupiter Server\" option\n",
    "# Specify the URL: http://127.0.0.1:8888\n",
    "# Specify the password: xxxx\n",
    "# Select the desired Kernel from the list\n",
    "\n",
    "# References:\n",
    "# google: what is the default python jupiterlab server password\n",
    "# https://stackoverflow.com/questions/41117554/what-is-default-password-for-jupyter-created-on-googles-data-proc\n",
    "\n",
    "# https://github.com/jupyter/notebook/commit/7fa5d5a1be147e9c8e14f61a2f4b3c0db1e2c00b\n",
    "# For servers with token-authentication enabled, the URL in the above listing will include the token,\n",
    "# so you can copy and paste that URL into your browser to login."
   ]
  },
  {
   "cell_type": "markdown",
   "metadata": {},
   "source": [
    "Step 1.1: Setup Environment"
   ]
  },
  {
   "cell_type": "code",
   "execution_count": 1,
   "metadata": {},
   "outputs": [
    {
     "name": "stdout",
     "output_type": "stream",
     "text": [
      "\n",
      "Data subdir: data/raygun\n",
      "Source path: /home/PyCon2024/Project/data/raygun\n",
      "Platform: amd64\n",
      "\n",
      "mc already exists\n",
      "\n",
      "Check if the bucket already exists...\n",
      "\u001b]11;?\u001b\\\u001b[6n\u001b[m\u001b[32m[2024-06-12 13:42:49 UTC]\u001b[0m\u001b[33m     0B\u001b[0m\u001b[36;1m Bronze/\u001b[0;22m\u001b[m\n",
      "\u001b[m\u001b[32m[2024-06-12 13:42:49 UTC]\u001b[0m\u001b[33m     0B\u001b[0m\u001b[36;1m Gold/\u001b[0;22m\u001b[m\n",
      "\u001b[m\u001b[32m[2024-06-12 13:42:49 UTC]\u001b[0m\u001b[33m     0B\u001b[0m\u001b[36;1m Raw/\u001b[0;22m\u001b[m\n",
      "\u001b[m\u001b[32m[2024-06-12 13:42:49 UTC]\u001b[0m\u001b[33m     0B\u001b[0m\u001b[36;1m Silver/\u001b[0;22m\u001b[m\n",
      "Bucket already exists\n",
      "\n",
      "Listing data from '/home/PyCon2024/Project/data/raygun'\n",
      "\n",
      "total 76K\n",
      "drwxr-xr-x 6 root root 192 Jun 12 10:38 .\n",
      "drwxr-xr-x 9 root root 288 Jun 12 02:20 ..\n",
      "-rw-rw-rw- 1 root root 16K Jun 12 10:38 934783892384.json\n",
      "-rw-rw-rw- 1 root root 18K Jun 12 10:38 934783893022.json\n",
      "-rw-rw-rw- 1 root root 18K Jun 12 10:38 934783896823.json\n",
      "-rw-rw-rw- 1 root root 18K Jun 12 10:38 934783899185.json\n",
      "\n",
      "Uploading data from '/home/PyCon2024/Project/data/raygun' to 'minio/data-lakehouse/Raw'\n",
      "\n",
      "...93022.json: 67.28 KiB / 67.28 KiB ┃▓▓▓▓▓▓▓▓▓▓▓▓▓▓▓▓▓▓▓▓▓▓▓▓▓┃ 723.81 KiB/s 0s\u001b[0;22m\u001b[0m\u001b[m\u001b[32;1m"
     ]
    }
   ],
   "source": [
    "# Init Minio\n",
    "!sh /home/PyCon2024/Project/Scripts/1.init_minio.sh \"data/raygun\""
   ]
  },
  {
   "cell_type": "code",
   "execution_count": 41,
   "metadata": {},
   "outputs": [
    {
     "name": "stdout",
     "output_type": "stream",
     "text": [
      "Requirement already satisfied: pyspark in ./venv/lib/python3.11/site-packages (3.5.1)\n",
      "Requirement already satisfied: py4j==0.10.9.7 in ./venv/lib/python3.11/site-packages (from pyspark) (0.10.9.7)\n",
      "Requirement already satisfied: s3fs in ./venv/lib/python3.11/site-packages (2024.6.0)\n",
      "Requirement already satisfied: aiobotocore<3.0.0,>=2.5.4 in ./venv/lib/python3.11/site-packages (from s3fs) (2.13.0)\n",
      "Requirement already satisfied: fsspec==2024.6.0.* in ./venv/lib/python3.11/site-packages (from s3fs) (2024.6.0)\n",
      "Requirement already satisfied: aiohttp!=4.0.0a0,!=4.0.0a1 in ./venv/lib/python3.11/site-packages (from s3fs) (3.9.5)\n",
      "Requirement already satisfied: botocore<1.34.107,>=1.34.70 in ./venv/lib/python3.11/site-packages (from aiobotocore<3.0.0,>=2.5.4->s3fs) (1.34.106)\n",
      "Requirement already satisfied: wrapt<2.0.0,>=1.10.10 in ./venv/lib/python3.11/site-packages (from aiobotocore<3.0.0,>=2.5.4->s3fs) (1.16.0)\n",
      "Requirement already satisfied: aioitertools<1.0.0,>=0.5.1 in ./venv/lib/python3.11/site-packages (from aiobotocore<3.0.0,>=2.5.4->s3fs) (0.11.0)\n",
      "Requirement already satisfied: aiosignal>=1.1.2 in ./venv/lib/python3.11/site-packages (from aiohttp!=4.0.0a0,!=4.0.0a1->s3fs) (1.3.1)\n",
      "Requirement already satisfied: attrs>=17.3.0 in ./venv/lib/python3.11/site-packages (from aiohttp!=4.0.0a0,!=4.0.0a1->s3fs) (23.2.0)\n",
      "Requirement already satisfied: frozenlist>=1.1.1 in ./venv/lib/python3.11/site-packages (from aiohttp!=4.0.0a0,!=4.0.0a1->s3fs) (1.4.1)\n",
      "Requirement already satisfied: multidict<7.0,>=4.5 in ./venv/lib/python3.11/site-packages (from aiohttp!=4.0.0a0,!=4.0.0a1->s3fs) (6.0.5)\n",
      "Requirement already satisfied: yarl<2.0,>=1.0 in ./venv/lib/python3.11/site-packages (from aiohttp!=4.0.0a0,!=4.0.0a1->s3fs) (1.9.4)\n",
      "Requirement already satisfied: jmespath<2.0.0,>=0.7.1 in ./venv/lib/python3.11/site-packages (from botocore<1.34.107,>=1.34.70->aiobotocore<3.0.0,>=2.5.4->s3fs) (1.0.1)\n",
      "Requirement already satisfied: python-dateutil<3.0.0,>=2.1 in ./venv/lib/python3.11/site-packages (from botocore<1.34.107,>=1.34.70->aiobotocore<3.0.0,>=2.5.4->s3fs) (2.9.0.post0)\n",
      "Requirement already satisfied: urllib3!=2.2.0,<3,>=1.25.4 in ./venv/lib/python3.11/site-packages (from botocore<1.34.107,>=1.34.70->aiobotocore<3.0.0,>=2.5.4->s3fs) (2.2.1)\n",
      "Requirement already satisfied: idna>=2.0 in ./venv/lib/python3.11/site-packages (from yarl<2.0,>=1.0->aiohttp!=4.0.0a0,!=4.0.0a1->s3fs) (3.7)\n",
      "Requirement already satisfied: six>=1.5 in ./venv/lib/python3.11/site-packages (from python-dateutil<3.0.0,>=2.1->botocore<1.34.107,>=1.34.70->aiobotocore<3.0.0,>=2.5.4->s3fs) (1.16.0)\n",
      "Requirement already satisfied: minio in ./venv/lib/python3.11/site-packages (7.2.7)\n",
      "Requirement already satisfied: certifi in ./venv/lib/python3.11/site-packages (from minio) (2024.6.2)\n",
      "Requirement already satisfied: urllib3 in ./venv/lib/python3.11/site-packages (from minio) (2.2.1)\n",
      "Requirement already satisfied: argon2-cffi in ./venv/lib/python3.11/site-packages (from minio) (23.1.0)\n",
      "Requirement already satisfied: pycryptodome in ./venv/lib/python3.11/site-packages (from minio) (3.20.0)\n",
      "Requirement already satisfied: typing-extensions in ./venv/lib/python3.11/site-packages (from minio) (4.12.2)\n",
      "Requirement already satisfied: argon2-cffi-bindings in ./venv/lib/python3.11/site-packages (from argon2-cffi->minio) (21.2.0)\n",
      "Requirement already satisfied: cffi>=1.0.1 in ./venv/lib/python3.11/site-packages (from argon2-cffi-bindings->argon2-cffi->minio) (1.16.0)\n",
      "Requirement already satisfied: pycparser in ./venv/lib/python3.11/site-packages (from cffi>=1.0.1->argon2-cffi-bindings->argon2-cffi->minio) (2.22)\n",
      "Requirement already satisfied: pyhive in ./venv/lib/python3.11/site-packages (0.7.0)\n",
      "Requirement already satisfied: future in ./venv/lib/python3.11/site-packages (from pyhive) (1.0.0)\n",
      "Requirement already satisfied: python-dateutil in ./venv/lib/python3.11/site-packages (from pyhive) (2.9.0.post0)\n",
      "Requirement already satisfied: six>=1.5 in ./venv/lib/python3.11/site-packages (from python-dateutil->pyhive) (1.16.0)\n",
      "Requirement already satisfied: trino in ./venv/lib/python3.11/site-packages (0.328.0)\n",
      "Requirement already satisfied: python-dateutil in ./venv/lib/python3.11/site-packages (from trino) (2.9.0.post0)\n",
      "Requirement already satisfied: pytz in ./venv/lib/python3.11/site-packages (from trino) (2024.1)\n",
      "Requirement already satisfied: requests>=2.31.0 in ./venv/lib/python3.11/site-packages (from trino) (2.32.3)\n",
      "Requirement already satisfied: tzlocal in ./venv/lib/python3.11/site-packages (from trino) (5.2)\n",
      "Requirement already satisfied: charset-normalizer<4,>=2 in ./venv/lib/python3.11/site-packages (from requests>=2.31.0->trino) (3.3.2)\n",
      "Requirement already satisfied: idna<4,>=2.5 in ./venv/lib/python3.11/site-packages (from requests>=2.31.0->trino) (3.7)\n",
      "Requirement already satisfied: urllib3<3,>=1.21.1 in ./venv/lib/python3.11/site-packages (from requests>=2.31.0->trino) (2.2.1)\n",
      "Requirement already satisfied: certifi>=2017.4.17 in ./venv/lib/python3.11/site-packages (from requests>=2.31.0->trino) (2024.6.2)\n",
      "Requirement already satisfied: six>=1.5 in ./venv/lib/python3.11/site-packages (from python-dateutil->trino) (1.16.0)\n"
     ]
    }
   ],
   "source": [
    "# Install necessary packages\n",
    "# !pip install pyspark\n",
    "# !pip install s3fs\n",
    "# !pip install minio\n",
    "# !pip install pyhive\n",
    "import sys\n",
    "!{sys.executable} -m pip install pyspark\n",
    "!{sys.executable} -m pip install s3fs\n",
    "!{sys.executable} -m pip install minio\n",
    "!{sys.executable} -m pip install pyhive\n",
    "!{sys.executable} -m pip install trino"
   ]
  },
  {
   "cell_type": "code",
   "execution_count": 3,
   "metadata": {},
   "outputs": [
    {
     "name": "stdout",
     "output_type": "stream",
     "text": [
      "Requirement already satisfied: python-dotenv in ./venv/lib/python3.11/site-packages (1.0.1)\n"
     ]
    }
   ],
   "source": [
    "# Install dotenv to load environment variables\n",
    "!{sys.executable} -m pip install python-dotenv"
   ]
  },
  {
   "cell_type": "code",
   "execution_count": 4,
   "metadata": {},
   "outputs": [],
   "source": [
    "# Load environment variables\n",
    "import os\n",
    "from dotenv import load_dotenv\n",
    "load_dotenv('minio.env')\n",
    "\n",
    "# Access the environment variables\n",
    "minio_access_key = os.getenv('MINIO_ACCESS_KEY')\n",
    "minio_secret_key = os.getenv('MINIO_SECRET_KEY')\n",
    "minio_endpoint = os.getenv('MINIO_ENDPOINT', \"http://minio:9000\")\n",
    "minio_bucket_name = os.getenv('MINIO_BUCKET_NAME', \"data-lakehouse\")"
   ]
  },
  {
   "cell_type": "code",
   "execution_count": 5,
   "metadata": {},
   "outputs": [
    {
     "name": "stdout",
     "output_type": "stream",
     "text": [
      "Minio Access Key: minio_ak\n",
      "Minio Secret Key: minio_sk\n",
      "Minio Endpoint: http://minio:9000\n",
      "Minio Bucket Name: data-lakehouse\n"
     ]
    }
   ],
   "source": [
    "print(\"Minio Access Key:\", minio_access_key)\n",
    "print(\"Minio Secret Key:\", minio_secret_key)\n",
    "print(\"Minio Endpoint:\", minio_endpoint)\n",
    "print(\"Minio Bucket Name:\", minio_bucket_name)"
   ]
  },
  {
   "cell_type": "code",
   "execution_count": 6,
   "metadata": {
    "editable": true,
    "slideshow": {
     "slide_type": ""
    },
    "tags": []
   },
   "outputs": [],
   "source": [
    "# Import libraries\n",
    "from pyspark.sql import SparkSession\n",
    "from pyspark.sql.functions import col, explode\n",
    "from minio import Minio\n",
    "import os"
   ]
  },
  {
   "cell_type": "code",
   "execution_count": 7,
   "metadata": {},
   "outputs": [],
   "source": [
    "import pyspark\n",
    "import pyspark.sql. functions as sqlF\n",
    "\n",
    "from sqlalchemy.sql import text\n",
    "from sqlalchemy import create_engine\n",
    "\n",
    "import pandas as pd"
   ]
  },
  {
   "cell_type": "code",
   "execution_count": 8,
   "metadata": {
    "scrolled": true
   },
   "outputs": [
    {
     "name": "stderr",
     "output_type": "stream",
     "text": [
      "bash: warning: setlocale: LC_ALL: cannot change locale (en_US.UTF-8)\n",
      "bash: warning: setlocale: LC_ALL: cannot change locale (en_US.UTF-8)\n",
      "Warning: Ignoring non-Spark config property: hive.metastore.uris\n"
     ]
    },
    {
     "name": "stdout",
     "output_type": "stream",
     "text": [
      ":: loading settings :: url = jar:file:/opt/spark/jars/ivy-2.5.1.jar!/org/apache/ivy/core/settings/ivysettings.xml\n"
     ]
    },
    {
     "name": "stderr",
     "output_type": "stream",
     "text": [
      "Ivy Default Cache set to: /root/.ivy2/cache\n",
      "The jars for the packages stored in: /root/.ivy2/jars\n",
      "io.delta#delta-spark_2.12 added as a dependency\n",
      "org.apache.hadoop#hadoop-aws added as a dependency\n",
      ":: resolving dependencies :: org.apache.spark#spark-submit-parent-7df032da-5e69-4c7a-a1fa-c62c7639d4ab;1.0\n",
      "\tconfs: [default]\n",
      "\tfound io.delta#delta-spark_2.12;3.1.0 in central\n",
      "\tfound io.delta#delta-storage;3.1.0 in central\n",
      "\tfound org.antlr#antlr4-runtime;4.9.3 in central\n",
      "\tfound org.apache.hadoop#hadoop-aws;3.3.3 in central\n",
      "\tfound com.amazonaws#aws-java-sdk-bundle;1.11.1026 in central\n",
      "\tfound org.wildfly.openssl#wildfly-openssl;1.0.7.Final in central\n",
      ":: resolution report :: resolve 264ms :: artifacts dl 14ms\n",
      "\t:: modules in use:\n",
      "\tcom.amazonaws#aws-java-sdk-bundle;1.11.1026 from central in [default]\n",
      "\tio.delta#delta-spark_2.12;3.1.0 from central in [default]\n",
      "\tio.delta#delta-storage;3.1.0 from central in [default]\n",
      "\torg.antlr#antlr4-runtime;4.9.3 from central in [default]\n",
      "\torg.apache.hadoop#hadoop-aws;3.3.3 from central in [default]\n",
      "\torg.wildfly.openssl#wildfly-openssl;1.0.7.Final from central in [default]\n",
      "\t---------------------------------------------------------------------\n",
      "\t|                  |            modules            ||   artifacts   |\n",
      "\t|       conf       | number| search|dwnlded|evicted|| number|dwnlded|\n",
      "\t---------------------------------------------------------------------\n",
      "\t|      default     |   6   |   0   |   0   |   0   ||   6   |   0   |\n",
      "\t---------------------------------------------------------------------\n",
      ":: retrieving :: org.apache.spark#spark-submit-parent-7df032da-5e69-4c7a-a1fa-c62c7639d4ab\n",
      "\tconfs: [default]\n",
      "\t0 artifacts copied, 6 already retrieved (0kB/8ms)\n",
      "24/06/12 13:43:23 WARN NativeCodeLoader: Unable to load native-hadoop library for your platform... using builtin-java classes where applicable\n",
      "Setting default log level to \"WARN\".\n",
      "To adjust logging level use sc.setLogLevel(newLevel). For SparkR, use setLogLevel(newLevel).\n"
     ]
    }
   ],
   "source": [
    "# Initialize Spark session\n",
    "# spark = SparkSession.builder \\\n",
    "#     .appName(\"RaygunErrorTraceAnalysis\") \\\n",
    "#     .config(\"spark.hadoop.fs.s3a.endpoint\", minio_endpoint) \\\n",
    "#     .config(\"spark.hadoop.fs.s3a.access.key\", minio_access_key) \\\n",
    "#     .config(\"spark.hadoop.fs.s3a.secret.key\", minio_secret_key) \\\n",
    "#     .config(\"spark.hadoop.fs.s3a.path.style.access\", True) \\\n",
    "#     .config(\"spark.hadoop.fs.s3a.impl\", \"org.apache.hadoop.fs.s3a.S3AFileSystem\") \\\n",
    "#     .config(\"spark.jars.packages\", \"io.delta:delta-core_2.13:2.1.0\") \\\n",
    "#     .config(\"spark.sql.extensions\", \"io.delta.sql.DeltaSparkSessionExtension\") \\\n",
    "#     .config(\"spark.sql.catalog.spark_catalog\", \"org.apache.spark.sql.delta.catalog.DeltaCatalog\") \\\n",
    "#     .enableHiveSupport() \\\n",
    "#     .getOrCreate()\n",
    "\n",
    "spark = SparkSession.builder \\\n",
    "    .appName(\"RaygunErrorTraceAnalysis\") \\\n",
    "    .config(\"spark.driver.host\", \"localhost\") \\\n",
    "    .config(\"spark.jars.packages\", \"io.delta:delta-spark_2.12:3.1.0,org.apache.hadoop:hadoop-aws:3.3.3\") \\\n",
    "    .config(\"spark.sql.extensions\", \"io.delta.sql.DeltaSparkSessionExtension\") \\\n",
    "    .config(\"spark.sql.catalog.spark_catalog\", \"org.apache.spark.sql.delta.catalog.DeltaCatalog\") \\\n",
    "    .config(\"hive.metastore.uris\", \"thrift://metastore:9083\") \\\n",
    "    .enableHiveSupport() \\\n",
    "    .getOrCreate()"
   ]
  },
  {
   "cell_type": "code",
   "execution_count": 9,
   "metadata": {
    "scrolled": true
   },
   "outputs": [
    {
     "data": {
      "text/plain": [
       "[('spark.eventLog.enabled', 'true'),\n",
       " ('spark.hadoop.fs.s3a.connection.ssl.enabled', 'false'),\n",
       " ('spark.repl.local.jars',\n",
       "  'file:///root/.ivy2/jars/io.delta_delta-spark_2.12-3.1.0.jar,file:///root/.ivy2/jars/org.apache.hadoop_hadoop-aws-3.3.3.jar,file:///root/.ivy2/jars/io.delta_delta-storage-3.1.0.jar,file:///root/.ivy2/jars/org.antlr_antlr4-runtime-4.9.3.jar,file:///root/.ivy2/jars/com.amazonaws_aws-java-sdk-bundle-1.11.1026.jar,file:///root/.ivy2/jars/org.wildfly.openssl_wildfly-openssl-1.0.7.Final.jar'),\n",
       " ('spark.hadoop.fs.s3a.aws.credentials.provider',\n",
       "  'org.apache.hadoop.fs.s3a.SimpleAWSCredentialsProvider'),\n",
       " ('spark.hadoop.fs.s3a.imp', 'org.apache.hadoop.fs.s3a.S3AFileSystem'),\n",
       " ('spark.app.submitTime', '1718199804139'),\n",
       " ('spark.app.name', 'RaygunErrorTraceAnalysis'),\n",
       " ('spark.sql.parquet.int96RebaseModeInWrite', 'CORRECTED'),\n",
       " ('spark.serializer', 'org.apache.spark.serializer.KryoSerializer'),\n",
       " ('spark.hadoop.fs.s3a.path.style.access', 'True'),\n",
       " ('spark.app.id', 'local-1718199808090'),\n",
       " ('spark.app.startTime', '1718199804532'),\n",
       " ('spark.files',\n",
       "  'file:///root/.ivy2/jars/io.delta_delta-spark_2.12-3.1.0.jar,file:///root/.ivy2/jars/org.apache.hadoop_hadoop-aws-3.3.3.jar,file:///root/.ivy2/jars/io.delta_delta-storage-3.1.0.jar,file:///root/.ivy2/jars/org.antlr_antlr4-runtime-4.9.3.jar,file:///root/.ivy2/jars/com.amazonaws_aws-java-sdk-bundle-1.11.1026.jar,file:///root/.ivy2/jars/org.wildfly.openssl_wildfly-openssl-1.0.7.Final.jar'),\n",
       " ('spark.serializer.objectStreamReset', '100'),\n",
       " ('spark.master', 'local[*]'),\n",
       " ('spark.submit.deployMode', 'client'),\n",
       " ('spark.driver.port', '37037'),\n",
       " ('hive.metastore.uris', 'thrift://metastore:9083'),\n",
       " ('spark.sql.parquet.int96RebaseModeInRead', 'CORRECTED'),\n",
       " ('spark.jars.packages',\n",
       "  'io.delta:delta-spark_2.12:3.1.0,org.apache.hadoop:hadoop-aws:3.3.3'),\n",
       " ('spark.app.initial.jar.urls',\n",
       "  'spark://localhost:37037/jars/io.delta_delta-storage-3.1.0.jar,spark://localhost:37037/jars/io.delta_delta-spark_2.12-3.1.0.jar,spark://localhost:37037/jars/org.wildfly.openssl_wildfly-openssl-1.0.7.Final.jar,spark://localhost:37037/jars/com.amazonaws_aws-java-sdk-bundle-1.11.1026.jar,spark://localhost:37037/jars/org.apache.hadoop_hadoop-aws-3.3.3.jar,spark://localhost:37037/jars/org.antlr_antlr4-runtime-4.9.3.jar'),\n",
       " ('spark.driver.extraJavaOptions',\n",
       "  '-Djava.net.preferIPv6Addresses=false -XX:+IgnoreUnrecognizedVMOptions --add-opens=java.base/java.lang=ALL-UNNAMED --add-opens=java.base/java.lang.invoke=ALL-UNNAMED --add-opens=java.base/java.lang.reflect=ALL-UNNAMED --add-opens=java.base/java.io=ALL-UNNAMED --add-opens=java.base/java.net=ALL-UNNAMED --add-opens=java.base/java.nio=ALL-UNNAMED --add-opens=java.base/java.util=ALL-UNNAMED --add-opens=java.base/java.util.concurrent=ALL-UNNAMED --add-opens=java.base/java.util.concurrent.atomic=ALL-UNNAMED --add-opens=java.base/jdk.internal.ref=ALL-UNNAMED --add-opens=java.base/sun.nio.ch=ALL-UNNAMED --add-opens=java.base/sun.nio.cs=ALL-UNNAMED --add-opens=java.base/sun.security.action=ALL-UNNAMED --add-opens=java.base/sun.util.calendar=ALL-UNNAMED --add-opens=java.security.jgss/sun.security.krb5=ALL-UNNAMED -Djdk.reflect.useDirectMethodHandle=false'),\n",
       " ('spark.sql.parquet.datetimeRebaseModeInRead', 'CORRECTED'),\n",
       " ('spark.hadoop.fs.s3a.secret.key', 'minio_sk'),\n",
       " ('spark.executor.id', 'driver'),\n",
       " ('spark.driver.host', 'localhost'),\n",
       " ('spark.jars',\n",
       "  'file:///root/.ivy2/jars/io.delta_delta-spark_2.12-3.1.0.jar,file:///root/.ivy2/jars/org.apache.hadoop_hadoop-aws-3.3.3.jar,file:///root/.ivy2/jars/io.delta_delta-storage-3.1.0.jar,file:///root/.ivy2/jars/org.antlr_antlr4-runtime-4.9.3.jar,file:///root/.ivy2/jars/com.amazonaws_aws-java-sdk-bundle-1.11.1026.jar,file:///root/.ivy2/jars/org.wildfly.openssl_wildfly-openssl-1.0.7.Final.jar'),\n",
       " ('spark.hadoop.fs.s3a.access.key', 'minio_ak'),\n",
       " ('spark.eventLog.dir', '/tmp/spark-events'),\n",
       " ('spark.app.initial.file.urls',\n",
       "  'file:///root/.ivy2/jars/org.apache.hadoop_hadoop-aws-3.3.3.jar,file:///root/.ivy2/jars/io.delta_delta-spark_2.12-3.1.0.jar,file:///root/.ivy2/jars/io.delta_delta-storage-3.1.0.jar,file:///root/.ivy2/jars/com.amazonaws_aws-java-sdk-bundle-1.11.1026.jar,file:///root/.ivy2/jars/org.antlr_antlr4-runtime-4.9.3.jar,file:///root/.ivy2/jars/org.wildfly.openssl_wildfly-openssl-1.0.7.Final.jar'),\n",
       " ('spark.streaming.stopGracefullyOnShutdown', 'true'),\n",
       " ('spark.submit.pyFiles',\n",
       "  '/root/.ivy2/jars/io.delta_delta-spark_2.12-3.1.0.jar,/root/.ivy2/jars/org.apache.hadoop_hadoop-aws-3.3.3.jar,/root/.ivy2/jars/io.delta_delta-storage-3.1.0.jar,/root/.ivy2/jars/org.antlr_antlr4-runtime-4.9.3.jar,/root/.ivy2/jars/com.amazonaws_aws-java-sdk-bundle-1.11.1026.jar,/root/.ivy2/jars/org.wildfly.openssl_wildfly-openssl-1.0.7.Final.jar'),\n",
       " ('spark.sql.catalogImplementation', 'hive'),\n",
       " ('spark.sql.extensions', 'io.delta.sql.DeltaSparkSessionExtension'),\n",
       " ('spark.rdd.compress', 'True'),\n",
       " ('spark.executor.extraJavaOptions',\n",
       "  '-Djava.net.preferIPv6Addresses=false -XX:+IgnoreUnrecognizedVMOptions --add-opens=java.base/java.lang=ALL-UNNAMED --add-opens=java.base/java.lang.invoke=ALL-UNNAMED --add-opens=java.base/java.lang.reflect=ALL-UNNAMED --add-opens=java.base/java.io=ALL-UNNAMED --add-opens=java.base/java.net=ALL-UNNAMED --add-opens=java.base/java.nio=ALL-UNNAMED --add-opens=java.base/java.util=ALL-UNNAMED --add-opens=java.base/java.util.concurrent=ALL-UNNAMED --add-opens=java.base/java.util.concurrent.atomic=ALL-UNNAMED --add-opens=java.base/jdk.internal.ref=ALL-UNNAMED --add-opens=java.base/sun.nio.ch=ALL-UNNAMED --add-opens=java.base/sun.nio.cs=ALL-UNNAMED --add-opens=java.base/sun.security.action=ALL-UNNAMED --add-opens=java.base/sun.util.calendar=ALL-UNNAMED --add-opens=java.security.jgss/sun.security.krb5=ALL-UNNAMED -Djdk.reflect.useDirectMethodHandle=false'),\n",
       " ('spark.history.fs.logDirectory', '/tmp/spark-events'),\n",
       " ('spark.hadoop.fs.s3a.endpoint', 'http://minio:9000'),\n",
       " ('spark.ui.showConsoleProgress', 'true'),\n",
       " ('spark.sql.catalog.spark_catalog',\n",
       "  'org.apache.spark.sql.delta.catalog.DeltaCatalog')]"
      ]
     },
     "execution_count": 9,
     "metadata": {},
     "output_type": "execute_result"
    }
   ],
   "source": [
    "spark.sparkContext.getConf().getAll()"
   ]
  },
  {
   "cell_type": "markdown",
   "metadata": {},
   "source": [
    "Step 1.2: Upload Multiple JSON Files to MinIO"
   ]
  },
  {
   "cell_type": "code",
   "execution_count": 10,
   "metadata": {},
   "outputs": [
    {
     "name": "stdout",
     "output_type": "stream",
     "text": [
      "Local directory: ../data/raygun\n",
      "Minio bucket name: data-lakehouse\n",
      "JSON files path: s3a://data-lakehouse/Raw/raygun/\n",
      "Minio endpoint (domain and port only): minio:9000\n"
     ]
    }
   ],
   "source": [
    "# Local directory path containing JSON files\n",
    "local_directory = \"../data/raygun\"\n",
    "\n",
    "# MinIO bucket name\n",
    "bucket_name = minio_bucket_name\n",
    "\n",
    "# Path to the JSON files in MinIO\n",
    "json_files_path = f\"s3a://{minio_bucket_name}/Raw/raygun/\"\n",
    "\n",
    "# Minio endpoint (only domian and port)\n",
    "minio_endpoint_domain_port = minio_endpoint.replace('http://', '').replace('https://', '')\n",
    "\n",
    "print(\"Local directory:\", local_directory)\n",
    "print(\"Minio bucket name:\", bucket_name)\n",
    "print(\"JSON files path:\", json_files_path)\n",
    "print(\"Minio endpoint (domain and port only):\", minio_endpoint_domain_port)"
   ]
  },
  {
   "cell_type": "code",
   "execution_count": 11,
   "metadata": {},
   "outputs": [],
   "source": [
    "# Initialize Minio client\n",
    "minio_client = Minio(\n",
    "    minio_endpoint_domain_port,\n",
    "    access_key=minio_access_key,\n",
    "    secret_key=minio_secret_key,\n",
    "    secure=False\n",
    ")"
   ]
  },
  {
   "cell_type": "code",
   "execution_count": 13,
   "metadata": {},
   "outputs": [
    {
     "name": "stdout",
     "output_type": "stream",
     "text": [
      "Bucket data-lakehouse already exists\n"
     ]
    }
   ],
   "source": [
    "# Create the bucket if it doesn't exist\n",
    "if minio_client.bucket_exists(bucket_name):\n",
    "    print(f\"Bucket {bucket_name} already exists\")\n",
    "else:\n",
    "    minio_client.make_bucket(bucket_name)\n",
    "    # Upload JSON files to MinIO\n",
    "    for filename in os.listdir(local_directory):\n",
    "        if filename.endswith(\".json\"):\n",
    "            file_path = os.path.join(local_directory, filename)\n",
    "            minio_client.fput_object(bucket_name, filename, file_path)\n",
    "            print(f\"Uploaded {filename} to {bucket_name}\")"
   ]
  },
  {
   "cell_type": "markdown",
   "metadata": {},
   "source": [
    "Step 2: Read Multiple JSON Files from MinIO"
   ]
  },
  {
   "cell_type": "code",
   "execution_count": 14,
   "metadata": {},
   "outputs": [
    {
     "name": "stdout",
     "output_type": "stream",
     "text": [
      "Set 'df' from: s3a://data-lakehouse/Raw/raygun/\n"
     ]
    },
    {
     "name": "stderr",
     "output_type": "stream",
     "text": [
      "24/06/12 13:44:12 WARN MetricsConfig: Cannot locate configuration: tried hadoop-metrics2-s3a-file-system.properties,hadoop-metrics2.properties\n",
      "24/06/12 13:44:15 WARN SparkStringUtils: Truncated the string representation of a plan since it was too large. This behavior can be adjusted by setting 'spark.sql.debug.maxToStringFields'.\n"
     ]
    }
   ],
   "source": [
    "# Read JSON files into DataFrame\n",
    "print(f\"Set 'df' from: {json_files_path}\")\n",
    "df = spark.read.option(\"multiline\",\"true\").json(json_files_path)"
   ]
  },
  {
   "cell_type": "code",
   "execution_count": 15,
   "metadata": {
    "scrolled": true
   },
   "outputs": [
    {
     "name": "stdout",
     "output_type": "stream",
     "text": [
      "root\n",
      " |-- Client: struct (nullable = true)\n",
      " |    |-- ClientUrl: string (nullable = true)\n",
      " |    |-- Name: string (nullable = true)\n",
      " |    |-- Version: string (nullable = true)\n",
      " |-- Context: struct (nullable = true)\n",
      " |    |-- Email: string (nullable = true)\n",
      " |    |-- FirstName: string (nullable = true)\n",
      " |    |-- FullName: string (nullable = true)\n",
      " |    |-- Identifier: string (nullable = true)\n",
      " |    |-- IsAnonymous: string (nullable = true)\n",
      " |    |-- Uuid: string (nullable = true)\n",
      " |-- Environment: struct (nullable = true)\n",
      " |    |-- UtcOffset: long (nullable = true)\n",
      " |-- Error: struct (nullable = true)\n",
      " |    |-- ClassName: string (nullable = true)\n",
      " |    |-- Data: string (nullable = true)\n",
      " |    |-- FileName: string (nullable = true)\n",
      " |    |-- InnerError: struct (nullable = true)\n",
      " |    |    |-- ClassName: string (nullable = true)\n",
      " |    |    |-- Data: string (nullable = true)\n",
      " |    |    |-- FileName: string (nullable = true)\n",
      " |    |    |-- InnerError: string (nullable = true)\n",
      " |    |    |-- Message: string (nullable = true)\n",
      " |    |    |-- StackTrace: array (nullable = true)\n",
      " |    |    |    |-- element: struct (containsNull = true)\n",
      " |    |    |    |    |-- ClassName: string (nullable = true)\n",
      " |    |    |    |    |-- FileName: string (nullable = true)\n",
      " |    |    |    |    |-- LineNumber: long (nullable = true)\n",
      " |    |    |    |    |-- MethodName: string (nullable = true)\n",
      " |    |-- Message: string (nullable = true)\n",
      " |    |-- StackTrace: array (nullable = true)\n",
      " |    |    |-- element: struct (containsNull = true)\n",
      " |    |    |    |-- ClassName: string (nullable = true)\n",
      " |    |    |    |-- FileName: string (nullable = true)\n",
      " |    |    |    |-- LineNumber: long (nullable = true)\n",
      " |    |    |    |-- MethodName: string (nullable = true)\n",
      " |-- GroupingKey: string (nullable = true)\n",
      " |-- MachineName: string (nullable = true)\n",
      " |-- OccurredOn: string (nullable = true)\n",
      " |-- Request: struct (nullable = true)\n",
      " |    |-- Data: struct (nullable = true)\n",
      " |    |    |-- CONTENT_LENGTH: string (nullable = true)\n",
      " |    |    |-- CONTENT_TYPE: string (nullable = true)\n",
      " |    |    |-- DOCUMENT_ROOT: string (nullable = true)\n",
      " |    |    |-- DOCUMENT_URI: string (nullable = true)\n",
      " |    |    |-- FCGI_ROLE: string (nullable = true)\n",
      " |    |    |-- GATEWAY_INTERFACE: string (nullable = true)\n",
      " |    |    |-- GEOIP_CITY: string (nullable = true)\n",
      " |    |    |-- GEOIP_CONTINENT_CODE: string (nullable = true)\n",
      " |    |    |-- GEOIP_COUNTRY_CODE: string (nullable = true)\n",
      " |    |    |-- GEOIP_POSTAL_CODE: string (nullable = true)\n",
      " |    |    |-- GEOIP_REGION: string (nullable = true)\n",
      " |    |    |-- HOME: string (nullable = true)\n",
      " |    |    |-- HTTPS: string (nullable = true)\n",
      " |    |    |-- HTTP_ACCEPT: string (nullable = true)\n",
      " |    |    |-- HTTP_ACCEPT_ENCODING: string (nullable = true)\n",
      " |    |    |-- HTTP_ACCEPT_LANGUAGE: string (nullable = true)\n",
      " |    |    |-- HTTP_HOST: string (nullable = true)\n",
      " |    |    |-- HTTP_REFERER: string (nullable = true)\n",
      " |    |    |-- HTTP_SEC_FETCH_DEST: string (nullable = true)\n",
      " |    |    |-- HTTP_SEC_FETCH_MODE: string (nullable = true)\n",
      " |    |    |-- HTTP_SEC_FETCH_SITE: string (nullable = true)\n",
      " |    |    |-- HTTP_USER_AGENT: string (nullable = true)\n",
      " |    |    |-- HTTP_X_AMZN_TRACE_ID: string (nullable = true)\n",
      " |    |    |-- HTTP_X_FORWARDED_FOR: string (nullable = true)\n",
      " |    |    |-- HTTP_X_FORWARDED_PORT: string (nullable = true)\n",
      " |    |    |-- HTTP_X_FORWARDED_PROTO: string (nullable = true)\n",
      " |    |    |-- NSS_SDB_USE_CACHE: string (nullable = true)\n",
      " |    |    |-- PHP_SELF: string (nullable = true)\n",
      " |    |    |-- QUERY_STRING: string (nullable = true)\n",
      " |    |    |-- REDIRECT_STATUS: string (nullable = true)\n",
      " |    |    |-- REMOTE_ADDR: string (nullable = true)\n",
      " |    |    |-- REMOTE_PORT: string (nullable = true)\n",
      " |    |    |-- REQUEST_METHOD: string (nullable = true)\n",
      " |    |    |-- REQUEST_SCHEME: string (nullable = true)\n",
      " |    |    |-- REQUEST_TIME: string (nullable = true)\n",
      " |    |    |-- REQUEST_TIME_FLOAT: string (nullable = true)\n",
      " |    |    |-- REQUEST_URI: string (nullable = true)\n",
      " |    |    |-- SCRIPT_FILENAME: string (nullable = true)\n",
      " |    |    |-- SCRIPT_NAME: string (nullable = true)\n",
      " |    |    |-- SERVER_ADDR: string (nullable = true)\n",
      " |    |    |-- SERVER_NAME: string (nullable = true)\n",
      " |    |    |-- SERVER_PORT: string (nullable = true)\n",
      " |    |    |-- SERVER_PROTOCOL: string (nullable = true)\n",
      " |    |    |-- SERVER_SOFTWARE: string (nullable = true)\n",
      " |    |    |-- USER: string (nullable = true)\n",
      " |    |-- Form: array (nullable = true)\n",
      " |    |    |-- element: string (containsNull = true)\n",
      " |    |-- Headers: struct (nullable = true)\n",
      " |    |    |-- Accept: string (nullable = true)\n",
      " |    |    |-- Accept-Encoding: string (nullable = true)\n",
      " |    |    |-- Accept-Language: string (nullable = true)\n",
      " |    |    |-- Content-Length: string (nullable = true)\n",
      " |    |    |-- Content-Type: string (nullable = true)\n",
      " |    |    |-- Host: string (nullable = true)\n",
      " |    |    |-- Referer: string (nullable = true)\n",
      " |    |    |-- Sec-Fetch-Dest: string (nullable = true)\n",
      " |    |    |-- Sec-Fetch-Mode: string (nullable = true)\n",
      " |    |    |-- Sec-Fetch-Site: string (nullable = true)\n",
      " |    |    |-- User-Agent: string (nullable = true)\n",
      " |    |    |-- X-Amzn-Trace-Id: string (nullable = true)\n",
      " |    |    |-- X-Forwarded-For: string (nullable = true)\n",
      " |    |    |-- X-Forwarded-Port: string (nullable = true)\n",
      " |    |    |-- X-Forwarded-Proto: string (nullable = true)\n",
      " |    |-- HostName: string (nullable = true)\n",
      " |    |-- HttpMethod: string (nullable = true)\n",
      " |    |-- IpAddress: string (nullable = true)\n",
      " |    |-- QueryString: struct (nullable = true)\n",
      " |    |    |-- lac: string (nullable = true)\n",
      " |    |    |-- lck: string (nullable = true)\n",
      " |    |    |-- methods: string (nullable = true)\n",
      " |    |    |-- token: string (nullable = true)\n",
      " |    |    |-- uuid: string (nullable = true)\n",
      " |    |-- RawData: string (nullable = true)\n",
      " |    |-- Url: string (nullable = true)\n",
      " |-- Tags: string (nullable = true)\n",
      " |-- User: struct (nullable = true)\n",
      " |    |-- Email: string (nullable = true)\n",
      " |    |-- FirstName: string (nullable = true)\n",
      " |    |-- FullName: string (nullable = true)\n",
      " |    |-- Identifier: string (nullable = true)\n",
      " |    |-- IsAnonymous: boolean (nullable = true)\n",
      " |    |-- Uuid: string (nullable = true)\n",
      " |-- UserCustomData: struct (nullable = true)\n",
      " |    |-- http: array (nullable = true)\n",
      " |    |    |-- element: struct (containsNull = true)\n",
      " |    |    |    |-- appconnect_time: long (nullable = true)\n",
      " |    |    |    |-- appconnect_time_us: long (nullable = true)\n",
      " |    |    |    |-- certinfo: array (nullable = true)\n",
      " |    |    |    |    |-- element: string (containsNull = true)\n",
      " |    |    |    |-- connect_time: long (nullable = true)\n",
      " |    |    |    |-- connect_time_us: long (nullable = true)\n",
      " |    |    |    |-- content_type: string (nullable = true)\n",
      " |    |    |    |-- download_content_length: long (nullable = true)\n",
      " |    |    |    |-- filetime: long (nullable = true)\n",
      " |    |    |    |-- header_size: long (nullable = true)\n",
      " |    |    |    |-- http_code: long (nullable = true)\n",
      " |    |    |    |-- http_version: long (nullable = true)\n",
      " |    |    |    |-- local_ip: string (nullable = true)\n",
      " |    |    |    |-- local_port: long (nullable = true)\n",
      " |    |    |    |-- namelookup_time: double (nullable = true)\n",
      " |    |    |    |-- namelookup_time_us: long (nullable = true)\n",
      " |    |    |    |-- pretransfer_time: double (nullable = true)\n",
      " |    |    |    |-- pretransfer_time_us: long (nullable = true)\n",
      " |    |    |    |-- primary_ip: string (nullable = true)\n",
      " |    |    |    |-- primary_port: long (nullable = true)\n",
      " |    |    |    |-- protocol: long (nullable = true)\n",
      " |    |    |    |-- redirect_count: long (nullable = true)\n",
      " |    |    |    |-- redirect_time: long (nullable = true)\n",
      " |    |    |    |-- redirect_time_us: long (nullable = true)\n",
      " |    |    |    |-- redirect_url: string (nullable = true)\n",
      " |    |    |    |-- request_size: long (nullable = true)\n",
      " |    |    |    |-- scheme: string (nullable = true)\n",
      " |    |    |    |-- size_download: long (nullable = true)\n",
      " |    |    |    |-- size_upload: long (nullable = true)\n",
      " |    |    |    |-- speed_download: long (nullable = true)\n",
      " |    |    |    |-- speed_upload: long (nullable = true)\n",
      " |    |    |    |-- ssl_verify_result: long (nullable = true)\n",
      " |    |    |    |-- ssl_verifyresult: long (nullable = true)\n",
      " |    |    |    |-- starttransfer_time: double (nullable = true)\n",
      " |    |    |    |-- starttransfer_time_us: long (nullable = true)\n",
      " |    |    |    |-- total_time: double (nullable = true)\n",
      " |    |    |    |-- total_time_us: long (nullable = true)\n",
      " |    |    |    |-- upload_content_length: long (nullable = true)\n",
      " |    |    |    |-- url: string (nullable = true)\n",
      " |    |-- operation: string (nullable = true)\n",
      " |    |-- requestBody: string (nullable = true)\n",
      " |    |-- requestUrl: string (nullable = true)\n",
      " |    |-- response: string (nullable = true)\n",
      " |    |-- tableName: string (nullable = true)\n",
      " |    |-- token: string (nullable = true)\n",
      " |    |-- total_time: double (nullable = true)\n",
      " |-- Version: string (nullable = true)\n",
      "\n"
     ]
    }
   ],
   "source": [
    "df.printSchema()"
   ]
  },
  {
   "cell_type": "code",
   "execution_count": 16,
   "metadata": {},
   "outputs": [
    {
     "name": "stderr",
     "output_type": "stream",
     "text": [
      "                                                                                \r"
     ]
    },
    {
     "name": "stdout",
     "output_type": "stream",
     "text": [
      "+--------------------+--------------------+-----------+--------------------+-----------+--------------------+--------------------+--------------------+----+--------------------+--------------------+-------+\n",
      "|              Client|             Context|Environment|               Error|GroupingKey|         MachineName|          OccurredOn|             Request|Tags|                User|      UserCustomData|Version|\n",
      "+--------------------+--------------------+-----------+--------------------+-----------+--------------------+--------------------+--------------------+----+--------------------+--------------------+-------+\n",
      "|{https://github.c...|{NULL, NULL, NULL...|        {0}|{Aws\\DynamoDb\\Exc...|       NULL|create-other-prod...|2024-03-10T00:58:31Z|{{, , /var/www/cr...|NULL|{NULL, NULL, NULL...|{[{0, 0, [], 0, 0...| 2.12.1|\n",
      "|{https://github.c...|{NULL, NULL, NULL...|        {0}|{Aws\\DynamoDb\\Exc...|       NULL|create-other-prod...|2024-03-10T00:58:57Z|{{, , /var/www/cr...|NULL|{NULL, NULL, NULL...|{[{0, 0, [], 0, 0...| 2.12.1|\n",
      "|{https://github.c...|{NULL, NULL, NULL...|        {0}|{Aws\\DynamoDb\\Exc...|       NULL|create-other-prod...|2024-03-10T00:59:12Z|{{, , /var/www/cr...|NULL|{NULL, NULL, NULL...|{[{0, 0, [], 0, 0...| 2.12.1|\n",
      "|{https://github.c...|{NULL, NULL, NULL...|        {0}|{Aws\\DynamoDb\\Exc...|       NULL|create-other-prod...|2024-03-10T00:58:27Z|{{, , /var/www/cr...|NULL|{NULL, NULL, NULL...|{NULL, NULL, NULL...| 2.12.1|\n",
      "+--------------------+--------------------+-----------+--------------------+-----------+--------------------+--------------------+--------------------+----+--------------------+--------------------+-------+\n",
      "\n"
     ]
    }
   ],
   "source": [
    "# df.show(truncate=False)\n",
    "df.show()"
   ]
  },
  {
   "cell_type": "markdown",
   "metadata": {},
   "source": [
    "Step 3: Process JSON Data"
   ]
  },
  {
   "cell_type": "code",
   "execution_count": 17,
   "metadata": {
    "scrolled": true
   },
   "outputs": [],
   "source": [
    "# Flatten the nested structure for easier analysis\n",
    "df_flattened = df.select(\n",
    "    col(\"Error.Message\").alias(\"ErrorMessage\"),\n",
    "    col(\"Error.ClassName\").alias(\"ErrorClassName\"),\n",
    "    col(\"Error.FileName\").alias(\"ErrorFileName\"),\n",
    "    explode(\"Error.StackTrace\").alias(\"StackTrace\"),\n",
    "    col(\"MachineName\"),\n",
    "    col(\"Request.HostName\").alias(\"RequestHostName\"),\n",
    "    col(\"Request.Url\").alias(\"RequestUrl\"),\n",
    "    col(\"Request.HttpMethod\").alias(\"RequestHttpMethod\"),\n",
    "    col(\"Request.IpAddress\").alias(\"RequestIpAddress\"),\n",
    "    col(\"Request.QueryString\"),\n",
    "    col(\"Request.Headers\"),\n",
    "    col(\"Request.Data\")\n",
    ")"
   ]
  },
  {
   "cell_type": "code",
   "execution_count": 18,
   "metadata": {
    "scrolled": true
   },
   "outputs": [
    {
     "name": "stdout",
     "output_type": "stream",
     "text": [
      "root\n",
      " |-- ErrorMessage: string (nullable = true)\n",
      " |-- ErrorClassName: string (nullable = true)\n",
      " |-- ErrorFileName: string (nullable = true)\n",
      " |-- StackTrace: struct (nullable = true)\n",
      " |    |-- ClassName: string (nullable = true)\n",
      " |    |-- FileName: string (nullable = true)\n",
      " |    |-- LineNumber: long (nullable = true)\n",
      " |    |-- MethodName: string (nullable = true)\n",
      " |-- MachineName: string (nullable = true)\n",
      " |-- RequestHostName: string (nullable = true)\n",
      " |-- RequestUrl: string (nullable = true)\n",
      " |-- RequestHttpMethod: string (nullable = true)\n",
      " |-- RequestIpAddress: string (nullable = true)\n",
      " |-- QueryString: struct (nullable = true)\n",
      " |    |-- lac: string (nullable = true)\n",
      " |    |-- lck: string (nullable = true)\n",
      " |    |-- methods: string (nullable = true)\n",
      " |    |-- token: string (nullable = true)\n",
      " |    |-- uuid: string (nullable = true)\n",
      " |-- Headers: struct (nullable = true)\n",
      " |    |-- Accept: string (nullable = true)\n",
      " |    |-- Accept-Encoding: string (nullable = true)\n",
      " |    |-- Accept-Language: string (nullable = true)\n",
      " |    |-- Content-Length: string (nullable = true)\n",
      " |    |-- Content-Type: string (nullable = true)\n",
      " |    |-- Host: string (nullable = true)\n",
      " |    |-- Referer: string (nullable = true)\n",
      " |    |-- Sec-Fetch-Dest: string (nullable = true)\n",
      " |    |-- Sec-Fetch-Mode: string (nullable = true)\n",
      " |    |-- Sec-Fetch-Site: string (nullable = true)\n",
      " |    |-- User-Agent: string (nullable = true)\n",
      " |    |-- X-Amzn-Trace-Id: string (nullable = true)\n",
      " |    |-- X-Forwarded-For: string (nullable = true)\n",
      " |    |-- X-Forwarded-Port: string (nullable = true)\n",
      " |    |-- X-Forwarded-Proto: string (nullable = true)\n",
      " |-- Data: struct (nullable = true)\n",
      " |    |-- CONTENT_LENGTH: string (nullable = true)\n",
      " |    |-- CONTENT_TYPE: string (nullable = true)\n",
      " |    |-- DOCUMENT_ROOT: string (nullable = true)\n",
      " |    |-- DOCUMENT_URI: string (nullable = true)\n",
      " |    |-- FCGI_ROLE: string (nullable = true)\n",
      " |    |-- GATEWAY_INTERFACE: string (nullable = true)\n",
      " |    |-- GEOIP_CITY: string (nullable = true)\n",
      " |    |-- GEOIP_CONTINENT_CODE: string (nullable = true)\n",
      " |    |-- GEOIP_COUNTRY_CODE: string (nullable = true)\n",
      " |    |-- GEOIP_POSTAL_CODE: string (nullable = true)\n",
      " |    |-- GEOIP_REGION: string (nullable = true)\n",
      " |    |-- HOME: string (nullable = true)\n",
      " |    |-- HTTPS: string (nullable = true)\n",
      " |    |-- HTTP_ACCEPT: string (nullable = true)\n",
      " |    |-- HTTP_ACCEPT_ENCODING: string (nullable = true)\n",
      " |    |-- HTTP_ACCEPT_LANGUAGE: string (nullable = true)\n",
      " |    |-- HTTP_HOST: string (nullable = true)\n",
      " |    |-- HTTP_REFERER: string (nullable = true)\n",
      " |    |-- HTTP_SEC_FETCH_DEST: string (nullable = true)\n",
      " |    |-- HTTP_SEC_FETCH_MODE: string (nullable = true)\n",
      " |    |-- HTTP_SEC_FETCH_SITE: string (nullable = true)\n",
      " |    |-- HTTP_USER_AGENT: string (nullable = true)\n",
      " |    |-- HTTP_X_AMZN_TRACE_ID: string (nullable = true)\n",
      " |    |-- HTTP_X_FORWARDED_FOR: string (nullable = true)\n",
      " |    |-- HTTP_X_FORWARDED_PORT: string (nullable = true)\n",
      " |    |-- HTTP_X_FORWARDED_PROTO: string (nullable = true)\n",
      " |    |-- NSS_SDB_USE_CACHE: string (nullable = true)\n",
      " |    |-- PHP_SELF: string (nullable = true)\n",
      " |    |-- QUERY_STRING: string (nullable = true)\n",
      " |    |-- REDIRECT_STATUS: string (nullable = true)\n",
      " |    |-- REMOTE_ADDR: string (nullable = true)\n",
      " |    |-- REMOTE_PORT: string (nullable = true)\n",
      " |    |-- REQUEST_METHOD: string (nullable = true)\n",
      " |    |-- REQUEST_SCHEME: string (nullable = true)\n",
      " |    |-- REQUEST_TIME: string (nullable = true)\n",
      " |    |-- REQUEST_TIME_FLOAT: string (nullable = true)\n",
      " |    |-- REQUEST_URI: string (nullable = true)\n",
      " |    |-- SCRIPT_FILENAME: string (nullable = true)\n",
      " |    |-- SCRIPT_NAME: string (nullable = true)\n",
      " |    |-- SERVER_ADDR: string (nullable = true)\n",
      " |    |-- SERVER_NAME: string (nullable = true)\n",
      " |    |-- SERVER_PORT: string (nullable = true)\n",
      " |    |-- SERVER_PROTOCOL: string (nullable = true)\n",
      " |    |-- SERVER_SOFTWARE: string (nullable = true)\n",
      " |    |-- USER: string (nullable = true)\n",
      "\n"
     ]
    }
   ],
   "source": [
    "df_flattened.printSchema()"
   ]
  },
  {
   "cell_type": "code",
   "execution_count": 19,
   "metadata": {
    "scrolled": true
   },
   "outputs": [
    {
     "name": "stdout",
     "output_type": "stream",
     "text": [
      "+-------------------------------------------------------------------------------------------------------------------------------------------------------------------------------------------------------------------------------------------------------------------------------------------------------------------------------------------------------------------------------------------------------------------------------------------------------------------------------------------------------------------------------------------------------------------------------------------------------------------+----------------------------------------+----------------------+--------------------------------------------------------------------------------------------------------------------------------------------------------------+----------------------------------------------+-----------------+-----------------------------------------------------------------------------------------------------------------------------------------------------------------------------------------------------+-----------------+----------------+--------------------------------------------------------------------------------------------------------------------------------------------------------+-----------------------------------------------------------------------------------------------------------------------------------------------------------------------------------------------------------------------------------------------------------------------------------------------------------------------------------------------+--------------------------------------------------------------------------------------------------------------------------------------------------------------------------------------------------------------------------------------------------------------------------------------------------------------------------------------------------------------------------------------------------------------------------------------------------------------------------------------------------------------------------------------------------------------------------------------------------------------------------------------------------------------------------------------------------------------------------------------------------------------------------------------------------------------------------------------------------------------------------------------------------------------------------------------------------------------------------------------------------------------------------------------------------------------------------------------------------+\n",
      "|ErrorMessage                                                                                                                                                                                                                                                                                                                                                                                                                                                                                                                                                                                                       |ErrorClassName                          |ErrorFileName         |StackTrace                                                                                                                                                    |MachineName                                   |RequestHostName  |RequestUrl                                                                                                                                                                                           |RequestHttpMethod|RequestIpAddress|QueryString                                                                                                                                             |Headers                                                                                                                                                                                                                                                                                                                                        |Data                                                                                                                                                                                                                                                                                                                                                                                                                                                                                                                                                                                                                                                                                                                                                                                                                                                                                                                                                                                                                                                                                              |\n",
      "+-------------------------------------------------------------------------------------------------------------------------------------------------------------------------------------------------------------------------------------------------------------------------------------------------------------------------------------------------------------------------------------------------------------------------------------------------------------------------------------------------------------------------------------------------------------------------------------------------------------------+----------------------------------------+----------------------+--------------------------------------------------------------------------------------------------------------------------------------------------------------+----------------------------------------------+-----------------+-----------------------------------------------------------------------------------------------------------------------------------------------------------------------------------------------------+-----------------+----------------+--------------------------------------------------------------------------------------------------------------------------------------------------------+-----------------------------------------------------------------------------------------------------------------------------------------------------------------------------------------------------------------------------------------------------------------------------------------------------------------------------------------------+--------------------------------------------------------------------------------------------------------------------------------------------------------------------------------------------------------------------------------------------------------------------------------------------------------------------------------------------------------------------------------------------------------------------------------------------------------------------------------------------------------------------------------------------------------------------------------------------------------------------------------------------------------------------------------------------------------------------------------------------------------------------------------------------------------------------------------------------------------------------------------------------------------------------------------------------------------------------------------------------------------------------------------------------------------------------------------------------------+\n",
      "|Aws\\DynamoDb\\Exception\\DynamoDbException: Error executing \"UpdateItem\" on \"https://dynamodb.us-east-1.amazonaws.com\"; AWS HTTP error: Client error: `POST https://dynamodb.us-east-1.amazonaws.com` resulted in a `400 Bad Request` response:\\n{\"__type\":\"com.amazon.coral.validate#ValidationException\",\"message\":\"Item size to update has exceeded the maximum allowe (truncated...)\\n ValidationException (client): Item size to update has exceeded the maximum allowed size - {\"__type\":\"com.amazon.coral.validate#ValidationException\",\"message\":\"Item size to update has exceeded the maximum allowed size\"}|Aws\\DynamoDb\\Exception\\DynamoDbException|WrappedHttpHandler.php|{Aws\\WrappedHttpHandler, /var/www/create.leadid.com/webroot/2.12.1/vendor/aws/aws-sdk-php/src/WrappedHttpHandler.php, 97, parseError}                         |create-other-prod-05d8f8084c83e3e7d.leadid.com|create.leadid.com|/2.12.1/SaveDeviceId.js?lac=CEC22BC0-D61E-81AA-EDC7-D24BFA82BE71&lck=CEC22BC0-FEED-BEEF-CAFE-D24BFA82BE71&methods=32&token=5EE73786-56CC-A0C1-3C6B-C6D1BCE8FC9D&uuid=42dd32a9740b425f8637e0a6800f2ba1|GET              |47.34.163.48    |{CEC22BC0-D61E-81AA-EDC7-D24BFA82BE71, CEC22BC0-FEED-BEEF-CAFE-D24BFA82BE71, 32, 5EE73786-56CC-A0C1-3C6B-C6D1BCE8FC9D, 42dd32a9740b425f8637e0a6800f2ba1}|{*/*, gzip, deflate, br, en-US,en;q=0.9, , , create.leadid.com, https://deviceid.trueleadid.com/, script, no-cors, cross-site, Mozilla/5.0 (iPhone; CPU iPhone OS 17_3_1 like Mac OS X) AppleWebKit/605.1.15 (KHTML, like Gecko) Version/17.3.1 Mobile/15E148 Safari/604.1, Root=1-65ed05b7-0f0024fa754ef5927f01277c, 47.34.163.48, 443, https}|{, , /var/www/create.leadid.com/webroot, /2.12.1/index.php, RESPONDER, CGI/1.1, Norwalk, NA, US, 90650, CA, /home/leadid, on, */*, gzip, deflate, br, en-US,en;q=0.9, create.leadid.com, https://deviceid.trueleadid.com/, script, no-cors, cross-site, Mozilla/5.0 (iPhone; CPU iPhone OS 17_3_1 like Mac OS X) AppleWebKit/605.1.15 (KHTML, like Gecko) Version/17.3.1 Mobile/15E148 Safari/604.1, Root=1-65ed05b7-0f0024fa754ef5927f01277c, 47.34.163.48, 443, https, 1, /2.12.1/index.php, lac=CEC22BC0-D61E-81AA-EDC7-D24BFA82BE71&lck=CEC22BC0-FEED-BEEF-CAFE-D24BFA82BE71&methods=32&token=5EE73786-56CC-A0C1-3C6B-C6D1BCE8FC9D&uuid=42dd32a9740b425f8637e0a6800f2ba1, 200, 10.3.1.165, 32372, GET, https, 1710032311, 1710032311.1935, /2.12.1/SaveDeviceId.js?lac=CEC22BC0-D61E-81AA-EDC7-D24BFA82BE71&lck=CEC22BC0-FEED-BEEF-CAFE-D24BFA82BE71&methods=32&token=5EE73786-56CC-A0C1-3C6B-C6D1BCE8FC9D&uuid=42dd32a9740b425f8637e0a6800f2ba1, /var/www/create.leadid.com/webroot/2.12.1/index.php, /2.12.1/index.php, 10.3.10.103, create.leadid.com, 443, HTTP/1.1, nginx/1.20.2, leadid}|\n",
      "|Aws\\DynamoDb\\Exception\\DynamoDbException: Error executing \"UpdateItem\" on \"https://dynamodb.us-east-1.amazonaws.com\"; AWS HTTP error: Client error: `POST https://dynamodb.us-east-1.amazonaws.com` resulted in a `400 Bad Request` response:\\n{\"__type\":\"com.amazon.coral.validate#ValidationException\",\"message\":\"Item size to update has exceeded the maximum allowe (truncated...)\\n ValidationException (client): Item size to update has exceeded the maximum allowed size - {\"__type\":\"com.amazon.coral.validate#ValidationException\",\"message\":\"Item size to update has exceeded the maximum allowed size\"}|Aws\\DynamoDb\\Exception\\DynamoDbException|WrappedHttpHandler.php|{Aws\\WrappedHttpHandler, /var/www/create.leadid.com/webroot/2.12.1/vendor/guzzlehttp/promises/src/Promise.php, 204, Aws\\{closure}}                            |create-other-prod-05d8f8084c83e3e7d.leadid.com|create.leadid.com|/2.12.1/SaveDeviceId.js?lac=CEC22BC0-D61E-81AA-EDC7-D24BFA82BE71&lck=CEC22BC0-FEED-BEEF-CAFE-D24BFA82BE71&methods=32&token=5EE73786-56CC-A0C1-3C6B-C6D1BCE8FC9D&uuid=42dd32a9740b425f8637e0a6800f2ba1|GET              |47.34.163.48    |{CEC22BC0-D61E-81AA-EDC7-D24BFA82BE71, CEC22BC0-FEED-BEEF-CAFE-D24BFA82BE71, 32, 5EE73786-56CC-A0C1-3C6B-C6D1BCE8FC9D, 42dd32a9740b425f8637e0a6800f2ba1}|{*/*, gzip, deflate, br, en-US,en;q=0.9, , , create.leadid.com, https://deviceid.trueleadid.com/, script, no-cors, cross-site, Mozilla/5.0 (iPhone; CPU iPhone OS 17_3_1 like Mac OS X) AppleWebKit/605.1.15 (KHTML, like Gecko) Version/17.3.1 Mobile/15E148 Safari/604.1, Root=1-65ed05b7-0f0024fa754ef5927f01277c, 47.34.163.48, 443, https}|{, , /var/www/create.leadid.com/webroot, /2.12.1/index.php, RESPONDER, CGI/1.1, Norwalk, NA, US, 90650, CA, /home/leadid, on, */*, gzip, deflate, br, en-US,en;q=0.9, create.leadid.com, https://deviceid.trueleadid.com/, script, no-cors, cross-site, Mozilla/5.0 (iPhone; CPU iPhone OS 17_3_1 like Mac OS X) AppleWebKit/605.1.15 (KHTML, like Gecko) Version/17.3.1 Mobile/15E148 Safari/604.1, Root=1-65ed05b7-0f0024fa754ef5927f01277c, 47.34.163.48, 443, https, 1, /2.12.1/index.php, lac=CEC22BC0-D61E-81AA-EDC7-D24BFA82BE71&lck=CEC22BC0-FEED-BEEF-CAFE-D24BFA82BE71&methods=32&token=5EE73786-56CC-A0C1-3C6B-C6D1BCE8FC9D&uuid=42dd32a9740b425f8637e0a6800f2ba1, 200, 10.3.1.165, 32372, GET, https, 1710032311, 1710032311.1935, /2.12.1/SaveDeviceId.js?lac=CEC22BC0-D61E-81AA-EDC7-D24BFA82BE71&lck=CEC22BC0-FEED-BEEF-CAFE-D24BFA82BE71&methods=32&token=5EE73786-56CC-A0C1-3C6B-C6D1BCE8FC9D&uuid=42dd32a9740b425f8637e0a6800f2ba1, /var/www/create.leadid.com/webroot/2.12.1/index.php, /2.12.1/index.php, 10.3.10.103, create.leadid.com, 443, HTTP/1.1, nginx/1.20.2, leadid}|\n",
      "|Aws\\DynamoDb\\Exception\\DynamoDbException: Error executing \"UpdateItem\" on \"https://dynamodb.us-east-1.amazonaws.com\"; AWS HTTP error: Client error: `POST https://dynamodb.us-east-1.amazonaws.com` resulted in a `400 Bad Request` response:\\n{\"__type\":\"com.amazon.coral.validate#ValidationException\",\"message\":\"Item size to update has exceeded the maximum allowe (truncated...)\\n ValidationException (client): Item size to update has exceeded the maximum allowed size - {\"__type\":\"com.amazon.coral.validate#ValidationException\",\"message\":\"Item size to update has exceeded the maximum allowed size\"}|Aws\\DynamoDb\\Exception\\DynamoDbException|WrappedHttpHandler.php|{GuzzleHttp\\Promise\\Promise, /var/www/create.leadid.com/webroot/2.12.1/vendor/guzzlehttp/promises/src/Promise.php, 169, callHandler}                          |create-other-prod-05d8f8084c83e3e7d.leadid.com|create.leadid.com|/2.12.1/SaveDeviceId.js?lac=CEC22BC0-D61E-81AA-EDC7-D24BFA82BE71&lck=CEC22BC0-FEED-BEEF-CAFE-D24BFA82BE71&methods=32&token=5EE73786-56CC-A0C1-3C6B-C6D1BCE8FC9D&uuid=42dd32a9740b425f8637e0a6800f2ba1|GET              |47.34.163.48    |{CEC22BC0-D61E-81AA-EDC7-D24BFA82BE71, CEC22BC0-FEED-BEEF-CAFE-D24BFA82BE71, 32, 5EE73786-56CC-A0C1-3C6B-C6D1BCE8FC9D, 42dd32a9740b425f8637e0a6800f2ba1}|{*/*, gzip, deflate, br, en-US,en;q=0.9, , , create.leadid.com, https://deviceid.trueleadid.com/, script, no-cors, cross-site, Mozilla/5.0 (iPhone; CPU iPhone OS 17_3_1 like Mac OS X) AppleWebKit/605.1.15 (KHTML, like Gecko) Version/17.3.1 Mobile/15E148 Safari/604.1, Root=1-65ed05b7-0f0024fa754ef5927f01277c, 47.34.163.48, 443, https}|{, , /var/www/create.leadid.com/webroot, /2.12.1/index.php, RESPONDER, CGI/1.1, Norwalk, NA, US, 90650, CA, /home/leadid, on, */*, gzip, deflate, br, en-US,en;q=0.9, create.leadid.com, https://deviceid.trueleadid.com/, script, no-cors, cross-site, Mozilla/5.0 (iPhone; CPU iPhone OS 17_3_1 like Mac OS X) AppleWebKit/605.1.15 (KHTML, like Gecko) Version/17.3.1 Mobile/15E148 Safari/604.1, Root=1-65ed05b7-0f0024fa754ef5927f01277c, 47.34.163.48, 443, https, 1, /2.12.1/index.php, lac=CEC22BC0-D61E-81AA-EDC7-D24BFA82BE71&lck=CEC22BC0-FEED-BEEF-CAFE-D24BFA82BE71&methods=32&token=5EE73786-56CC-A0C1-3C6B-C6D1BCE8FC9D&uuid=42dd32a9740b425f8637e0a6800f2ba1, 200, 10.3.1.165, 32372, GET, https, 1710032311, 1710032311.1935, /2.12.1/SaveDeviceId.js?lac=CEC22BC0-D61E-81AA-EDC7-D24BFA82BE71&lck=CEC22BC0-FEED-BEEF-CAFE-D24BFA82BE71&methods=32&token=5EE73786-56CC-A0C1-3C6B-C6D1BCE8FC9D&uuid=42dd32a9740b425f8637e0a6800f2ba1, /var/www/create.leadid.com/webroot/2.12.1/index.php, /2.12.1/index.php, 10.3.10.103, create.leadid.com, 443, HTTP/1.1, nginx/1.20.2, leadid}|\n",
      "|Aws\\DynamoDb\\Exception\\DynamoDbException: Error executing \"UpdateItem\" on \"https://dynamodb.us-east-1.amazonaws.com\"; AWS HTTP error: Client error: `POST https://dynamodb.us-east-1.amazonaws.com` resulted in a `400 Bad Request` response:\\n{\"__type\":\"com.amazon.coral.validate#ValidationException\",\"message\":\"Item size to update has exceeded the maximum allowe (truncated...)\\n ValidationException (client): Item size to update has exceeded the maximum allowed size - {\"__type\":\"com.amazon.coral.validate#ValidationException\",\"message\":\"Item size to update has exceeded the maximum allowed size\"}|Aws\\DynamoDb\\Exception\\DynamoDbException|WrappedHttpHandler.php|{GuzzleHttp\\Promise\\Promise, /var/www/create.leadid.com/webroot/2.12.1/vendor/guzzlehttp/promises/src/RejectedPromise.php, 42, GuzzleHttp\\Promise\\{closure}}  |create-other-prod-05d8f8084c83e3e7d.leadid.com|create.leadid.com|/2.12.1/SaveDeviceId.js?lac=CEC22BC0-D61E-81AA-EDC7-D24BFA82BE71&lck=CEC22BC0-FEED-BEEF-CAFE-D24BFA82BE71&methods=32&token=5EE73786-56CC-A0C1-3C6B-C6D1BCE8FC9D&uuid=42dd32a9740b425f8637e0a6800f2ba1|GET              |47.34.163.48    |{CEC22BC0-D61E-81AA-EDC7-D24BFA82BE71, CEC22BC0-FEED-BEEF-CAFE-D24BFA82BE71, 32, 5EE73786-56CC-A0C1-3C6B-C6D1BCE8FC9D, 42dd32a9740b425f8637e0a6800f2ba1}|{*/*, gzip, deflate, br, en-US,en;q=0.9, , , create.leadid.com, https://deviceid.trueleadid.com/, script, no-cors, cross-site, Mozilla/5.0 (iPhone; CPU iPhone OS 17_3_1 like Mac OS X) AppleWebKit/605.1.15 (KHTML, like Gecko) Version/17.3.1 Mobile/15E148 Safari/604.1, Root=1-65ed05b7-0f0024fa754ef5927f01277c, 47.34.163.48, 443, https}|{, , /var/www/create.leadid.com/webroot, /2.12.1/index.php, RESPONDER, CGI/1.1, Norwalk, NA, US, 90650, CA, /home/leadid, on, */*, gzip, deflate, br, en-US,en;q=0.9, create.leadid.com, https://deviceid.trueleadid.com/, script, no-cors, cross-site, Mozilla/5.0 (iPhone; CPU iPhone OS 17_3_1 like Mac OS X) AppleWebKit/605.1.15 (KHTML, like Gecko) Version/17.3.1 Mobile/15E148 Safari/604.1, Root=1-65ed05b7-0f0024fa754ef5927f01277c, 47.34.163.48, 443, https, 1, /2.12.1/index.php, lac=CEC22BC0-D61E-81AA-EDC7-D24BFA82BE71&lck=CEC22BC0-FEED-BEEF-CAFE-D24BFA82BE71&methods=32&token=5EE73786-56CC-A0C1-3C6B-C6D1BCE8FC9D&uuid=42dd32a9740b425f8637e0a6800f2ba1, 200, 10.3.1.165, 32372, GET, https, 1710032311, 1710032311.1935, /2.12.1/SaveDeviceId.js?lac=CEC22BC0-D61E-81AA-EDC7-D24BFA82BE71&lck=CEC22BC0-FEED-BEEF-CAFE-D24BFA82BE71&methods=32&token=5EE73786-56CC-A0C1-3C6B-C6D1BCE8FC9D&uuid=42dd32a9740b425f8637e0a6800f2ba1, /var/www/create.leadid.com/webroot/2.12.1/index.php, /2.12.1/index.php, 10.3.10.103, create.leadid.com, 443, HTTP/1.1, nginx/1.20.2, leadid}|\n",
      "|Aws\\DynamoDb\\Exception\\DynamoDbException: Error executing \"UpdateItem\" on \"https://dynamodb.us-east-1.amazonaws.com\"; AWS HTTP error: Client error: `POST https://dynamodb.us-east-1.amazonaws.com` resulted in a `400 Bad Request` response:\\n{\"__type\":\"com.amazon.coral.validate#ValidationException\",\"message\":\"Item size to update has exceeded the maximum allowe (truncated...)\\n ValidationException (client): Item size to update has exceeded the maximum allowed size - {\"__type\":\"com.amazon.coral.validate#ValidationException\",\"message\":\"Item size to update has exceeded the maximum allowed size\"}|Aws\\DynamoDb\\Exception\\DynamoDbException|WrappedHttpHandler.php|{GuzzleHttp\\Promise\\RejectedPromise, /var/www/create.leadid.com/webroot/2.12.1/vendor/guzzlehttp/promises/src/TaskQueue.php, 48, GuzzleHttp\\Promise\\{closure}}|create-other-prod-05d8f8084c83e3e7d.leadid.com|create.leadid.com|/2.12.1/SaveDeviceId.js?lac=CEC22BC0-D61E-81AA-EDC7-D24BFA82BE71&lck=CEC22BC0-FEED-BEEF-CAFE-D24BFA82BE71&methods=32&token=5EE73786-56CC-A0C1-3C6B-C6D1BCE8FC9D&uuid=42dd32a9740b425f8637e0a6800f2ba1|GET              |47.34.163.48    |{CEC22BC0-D61E-81AA-EDC7-D24BFA82BE71, CEC22BC0-FEED-BEEF-CAFE-D24BFA82BE71, 32, 5EE73786-56CC-A0C1-3C6B-C6D1BCE8FC9D, 42dd32a9740b425f8637e0a6800f2ba1}|{*/*, gzip, deflate, br, en-US,en;q=0.9, , , create.leadid.com, https://deviceid.trueleadid.com/, script, no-cors, cross-site, Mozilla/5.0 (iPhone; CPU iPhone OS 17_3_1 like Mac OS X) AppleWebKit/605.1.15 (KHTML, like Gecko) Version/17.3.1 Mobile/15E148 Safari/604.1, Root=1-65ed05b7-0f0024fa754ef5927f01277c, 47.34.163.48, 443, https}|{, , /var/www/create.leadid.com/webroot, /2.12.1/index.php, RESPONDER, CGI/1.1, Norwalk, NA, US, 90650, CA, /home/leadid, on, */*, gzip, deflate, br, en-US,en;q=0.9, create.leadid.com, https://deviceid.trueleadid.com/, script, no-cors, cross-site, Mozilla/5.0 (iPhone; CPU iPhone OS 17_3_1 like Mac OS X) AppleWebKit/605.1.15 (KHTML, like Gecko) Version/17.3.1 Mobile/15E148 Safari/604.1, Root=1-65ed05b7-0f0024fa754ef5927f01277c, 47.34.163.48, 443, https, 1, /2.12.1/index.php, lac=CEC22BC0-D61E-81AA-EDC7-D24BFA82BE71&lck=CEC22BC0-FEED-BEEF-CAFE-D24BFA82BE71&methods=32&token=5EE73786-56CC-A0C1-3C6B-C6D1BCE8FC9D&uuid=42dd32a9740b425f8637e0a6800f2ba1, 200, 10.3.1.165, 32372, GET, https, 1710032311, 1710032311.1935, /2.12.1/SaveDeviceId.js?lac=CEC22BC0-D61E-81AA-EDC7-D24BFA82BE71&lck=CEC22BC0-FEED-BEEF-CAFE-D24BFA82BE71&methods=32&token=5EE73786-56CC-A0C1-3C6B-C6D1BCE8FC9D&uuid=42dd32a9740b425f8637e0a6800f2ba1, /var/www/create.leadid.com/webroot/2.12.1/index.php, /2.12.1/index.php, 10.3.10.103, create.leadid.com, 443, HTTP/1.1, nginx/1.20.2, leadid}|\n",
      "|Aws\\DynamoDb\\Exception\\DynamoDbException: Error executing \"UpdateItem\" on \"https://dynamodb.us-east-1.amazonaws.com\"; AWS HTTP error: Client error: `POST https://dynamodb.us-east-1.amazonaws.com` resulted in a `400 Bad Request` response:\\n{\"__type\":\"com.amazon.coral.validate#ValidationException\",\"message\":\"Item size to update has exceeded the maximum allowe (truncated...)\\n ValidationException (client): Item size to update has exceeded the maximum allowed size - {\"__type\":\"com.amazon.coral.validate#ValidationException\",\"message\":\"Item size to update has exceeded the maximum allowed size\"}|Aws\\DynamoDb\\Exception\\DynamoDbException|WrappedHttpHandler.php|{GuzzleHttp\\Promise\\TaskQueue, /var/www/create.leadid.com/webroot/2.12.1/vendor/guzzlehttp/guzzle/src/Handler/CurlMultiHandler.php, 158, run}                 |create-other-prod-05d8f8084c83e3e7d.leadid.com|create.leadid.com|/2.12.1/SaveDeviceId.js?lac=CEC22BC0-D61E-81AA-EDC7-D24BFA82BE71&lck=CEC22BC0-FEED-BEEF-CAFE-D24BFA82BE71&methods=32&token=5EE73786-56CC-A0C1-3C6B-C6D1BCE8FC9D&uuid=42dd32a9740b425f8637e0a6800f2ba1|GET              |47.34.163.48    |{CEC22BC0-D61E-81AA-EDC7-D24BFA82BE71, CEC22BC0-FEED-BEEF-CAFE-D24BFA82BE71, 32, 5EE73786-56CC-A0C1-3C6B-C6D1BCE8FC9D, 42dd32a9740b425f8637e0a6800f2ba1}|{*/*, gzip, deflate, br, en-US,en;q=0.9, , , create.leadid.com, https://deviceid.trueleadid.com/, script, no-cors, cross-site, Mozilla/5.0 (iPhone; CPU iPhone OS 17_3_1 like Mac OS X) AppleWebKit/605.1.15 (KHTML, like Gecko) Version/17.3.1 Mobile/15E148 Safari/604.1, Root=1-65ed05b7-0f0024fa754ef5927f01277c, 47.34.163.48, 443, https}|{, , /var/www/create.leadid.com/webroot, /2.12.1/index.php, RESPONDER, CGI/1.1, Norwalk, NA, US, 90650, CA, /home/leadid, on, */*, gzip, deflate, br, en-US,en;q=0.9, create.leadid.com, https://deviceid.trueleadid.com/, script, no-cors, cross-site, Mozilla/5.0 (iPhone; CPU iPhone OS 17_3_1 like Mac OS X) AppleWebKit/605.1.15 (KHTML, like Gecko) Version/17.3.1 Mobile/15E148 Safari/604.1, Root=1-65ed05b7-0f0024fa754ef5927f01277c, 47.34.163.48, 443, https, 1, /2.12.1/index.php, lac=CEC22BC0-D61E-81AA-EDC7-D24BFA82BE71&lck=CEC22BC0-FEED-BEEF-CAFE-D24BFA82BE71&methods=32&token=5EE73786-56CC-A0C1-3C6B-C6D1BCE8FC9D&uuid=42dd32a9740b425f8637e0a6800f2ba1, 200, 10.3.1.165, 32372, GET, https, 1710032311, 1710032311.1935, /2.12.1/SaveDeviceId.js?lac=CEC22BC0-D61E-81AA-EDC7-D24BFA82BE71&lck=CEC22BC0-FEED-BEEF-CAFE-D24BFA82BE71&methods=32&token=5EE73786-56CC-A0C1-3C6B-C6D1BCE8FC9D&uuid=42dd32a9740b425f8637e0a6800f2ba1, /var/www/create.leadid.com/webroot/2.12.1/index.php, /2.12.1/index.php, 10.3.10.103, create.leadid.com, 443, HTTP/1.1, nginx/1.20.2, leadid}|\n",
      "|Aws\\DynamoDb\\Exception\\DynamoDbException: Error executing \"UpdateItem\" on \"https://dynamodb.us-east-1.amazonaws.com\"; AWS HTTP error: Client error: `POST https://dynamodb.us-east-1.amazonaws.com` resulted in a `400 Bad Request` response:\\n{\"__type\":\"com.amazon.coral.validate#ValidationException\",\"message\":\"Item size to update has exceeded the maximum allowe (truncated...)\\n ValidationException (client): Item size to update has exceeded the maximum allowed size - {\"__type\":\"com.amazon.coral.validate#ValidationException\",\"message\":\"Item size to update has exceeded the maximum allowed size\"}|Aws\\DynamoDb\\Exception\\DynamoDbException|WrappedHttpHandler.php|{GuzzleHttp\\Handler\\CurlMultiHandler, /var/www/create.leadid.com/webroot/2.12.1/vendor/guzzlehttp/guzzle/src/Handler/CurlMultiHandler.php, 183, tick}         |create-other-prod-05d8f8084c83e3e7d.leadid.com|create.leadid.com|/2.12.1/SaveDeviceId.js?lac=CEC22BC0-D61E-81AA-EDC7-D24BFA82BE71&lck=CEC22BC0-FEED-BEEF-CAFE-D24BFA82BE71&methods=32&token=5EE73786-56CC-A0C1-3C6B-C6D1BCE8FC9D&uuid=42dd32a9740b425f8637e0a6800f2ba1|GET              |47.34.163.48    |{CEC22BC0-D61E-81AA-EDC7-D24BFA82BE71, CEC22BC0-FEED-BEEF-CAFE-D24BFA82BE71, 32, 5EE73786-56CC-A0C1-3C6B-C6D1BCE8FC9D, 42dd32a9740b425f8637e0a6800f2ba1}|{*/*, gzip, deflate, br, en-US,en;q=0.9, , , create.leadid.com, https://deviceid.trueleadid.com/, script, no-cors, cross-site, Mozilla/5.0 (iPhone; CPU iPhone OS 17_3_1 like Mac OS X) AppleWebKit/605.1.15 (KHTML, like Gecko) Version/17.3.1 Mobile/15E148 Safari/604.1, Root=1-65ed05b7-0f0024fa754ef5927f01277c, 47.34.163.48, 443, https}|{, , /var/www/create.leadid.com/webroot, /2.12.1/index.php, RESPONDER, CGI/1.1, Norwalk, NA, US, 90650, CA, /home/leadid, on, */*, gzip, deflate, br, en-US,en;q=0.9, create.leadid.com, https://deviceid.trueleadid.com/, script, no-cors, cross-site, Mozilla/5.0 (iPhone; CPU iPhone OS 17_3_1 like Mac OS X) AppleWebKit/605.1.15 (KHTML, like Gecko) Version/17.3.1 Mobile/15E148 Safari/604.1, Root=1-65ed05b7-0f0024fa754ef5927f01277c, 47.34.163.48, 443, https, 1, /2.12.1/index.php, lac=CEC22BC0-D61E-81AA-EDC7-D24BFA82BE71&lck=CEC22BC0-FEED-BEEF-CAFE-D24BFA82BE71&methods=32&token=5EE73786-56CC-A0C1-3C6B-C6D1BCE8FC9D&uuid=42dd32a9740b425f8637e0a6800f2ba1, 200, 10.3.1.165, 32372, GET, https, 1710032311, 1710032311.1935, /2.12.1/SaveDeviceId.js?lac=CEC22BC0-D61E-81AA-EDC7-D24BFA82BE71&lck=CEC22BC0-FEED-BEEF-CAFE-D24BFA82BE71&methods=32&token=5EE73786-56CC-A0C1-3C6B-C6D1BCE8FC9D&uuid=42dd32a9740b425f8637e0a6800f2ba1, /var/www/create.leadid.com/webroot/2.12.1/index.php, /2.12.1/index.php, 10.3.10.103, create.leadid.com, 443, HTTP/1.1, nginx/1.20.2, leadid}|\n",
      "|Aws\\DynamoDb\\Exception\\DynamoDbException: Error executing \"UpdateItem\" on \"https://dynamodb.us-east-1.amazonaws.com\"; AWS HTTP error: Client error: `POST https://dynamodb.us-east-1.amazonaws.com` resulted in a `400 Bad Request` response:\\n{\"__type\":\"com.amazon.coral.validate#ValidationException\",\"message\":\"Item size to update has exceeded the maximum allowe (truncated...)\\n ValidationException (client): Item size to update has exceeded the maximum allowed size - {\"__type\":\"com.amazon.coral.validate#ValidationException\",\"message\":\"Item size to update has exceeded the maximum allowed size\"}|Aws\\DynamoDb\\Exception\\DynamoDbException|WrappedHttpHandler.php|{GuzzleHttp\\Handler\\CurlMultiHandler, /var/www/create.leadid.com/webroot/2.12.1/vendor/guzzlehttp/promises/src/Promise.php, 248, execute}                     |create-other-prod-05d8f8084c83e3e7d.leadid.com|create.leadid.com|/2.12.1/SaveDeviceId.js?lac=CEC22BC0-D61E-81AA-EDC7-D24BFA82BE71&lck=CEC22BC0-FEED-BEEF-CAFE-D24BFA82BE71&methods=32&token=5EE73786-56CC-A0C1-3C6B-C6D1BCE8FC9D&uuid=42dd32a9740b425f8637e0a6800f2ba1|GET              |47.34.163.48    |{CEC22BC0-D61E-81AA-EDC7-D24BFA82BE71, CEC22BC0-FEED-BEEF-CAFE-D24BFA82BE71, 32, 5EE73786-56CC-A0C1-3C6B-C6D1BCE8FC9D, 42dd32a9740b425f8637e0a6800f2ba1}|{*/*, gzip, deflate, br, en-US,en;q=0.9, , , create.leadid.com, https://deviceid.trueleadid.com/, script, no-cors, cross-site, Mozilla/5.0 (iPhone; CPU iPhone OS 17_3_1 like Mac OS X) AppleWebKit/605.1.15 (KHTML, like Gecko) Version/17.3.1 Mobile/15E148 Safari/604.1, Root=1-65ed05b7-0f0024fa754ef5927f01277c, 47.34.163.48, 443, https}|{, , /var/www/create.leadid.com/webroot, /2.12.1/index.php, RESPONDER, CGI/1.1, Norwalk, NA, US, 90650, CA, /home/leadid, on, */*, gzip, deflate, br, en-US,en;q=0.9, create.leadid.com, https://deviceid.trueleadid.com/, script, no-cors, cross-site, Mozilla/5.0 (iPhone; CPU iPhone OS 17_3_1 like Mac OS X) AppleWebKit/605.1.15 (KHTML, like Gecko) Version/17.3.1 Mobile/15E148 Safari/604.1, Root=1-65ed05b7-0f0024fa754ef5927f01277c, 47.34.163.48, 443, https, 1, /2.12.1/index.php, lac=CEC22BC0-D61E-81AA-EDC7-D24BFA82BE71&lck=CEC22BC0-FEED-BEEF-CAFE-D24BFA82BE71&methods=32&token=5EE73786-56CC-A0C1-3C6B-C6D1BCE8FC9D&uuid=42dd32a9740b425f8637e0a6800f2ba1, 200, 10.3.1.165, 32372, GET, https, 1710032311, 1710032311.1935, /2.12.1/SaveDeviceId.js?lac=CEC22BC0-D61E-81AA-EDC7-D24BFA82BE71&lck=CEC22BC0-FEED-BEEF-CAFE-D24BFA82BE71&methods=32&token=5EE73786-56CC-A0C1-3C6B-C6D1BCE8FC9D&uuid=42dd32a9740b425f8637e0a6800f2ba1, /var/www/create.leadid.com/webroot/2.12.1/index.php, /2.12.1/index.php, 10.3.10.103, create.leadid.com, 443, HTTP/1.1, nginx/1.20.2, leadid}|\n",
      "|Aws\\DynamoDb\\Exception\\DynamoDbException: Error executing \"UpdateItem\" on \"https://dynamodb.us-east-1.amazonaws.com\"; AWS HTTP error: Client error: `POST https://dynamodb.us-east-1.amazonaws.com` resulted in a `400 Bad Request` response:\\n{\"__type\":\"com.amazon.coral.validate#ValidationException\",\"message\":\"Item size to update has exceeded the maximum allowe (truncated...)\\n ValidationException (client): Item size to update has exceeded the maximum allowed size - {\"__type\":\"com.amazon.coral.validate#ValidationException\",\"message\":\"Item size to update has exceeded the maximum allowed size\"}|Aws\\DynamoDb\\Exception\\DynamoDbException|WrappedHttpHandler.php|{GuzzleHttp\\Promise\\Promise, /var/www/create.leadid.com/webroot/2.12.1/vendor/guzzlehttp/promises/src/Promise.php, 224, invokeWaitFn}                         |create-other-prod-05d8f8084c83e3e7d.leadid.com|create.leadid.com|/2.12.1/SaveDeviceId.js?lac=CEC22BC0-D61E-81AA-EDC7-D24BFA82BE71&lck=CEC22BC0-FEED-BEEF-CAFE-D24BFA82BE71&methods=32&token=5EE73786-56CC-A0C1-3C6B-C6D1BCE8FC9D&uuid=42dd32a9740b425f8637e0a6800f2ba1|GET              |47.34.163.48    |{CEC22BC0-D61E-81AA-EDC7-D24BFA82BE71, CEC22BC0-FEED-BEEF-CAFE-D24BFA82BE71, 32, 5EE73786-56CC-A0C1-3C6B-C6D1BCE8FC9D, 42dd32a9740b425f8637e0a6800f2ba1}|{*/*, gzip, deflate, br, en-US,en;q=0.9, , , create.leadid.com, https://deviceid.trueleadid.com/, script, no-cors, cross-site, Mozilla/5.0 (iPhone; CPU iPhone OS 17_3_1 like Mac OS X) AppleWebKit/605.1.15 (KHTML, like Gecko) Version/17.3.1 Mobile/15E148 Safari/604.1, Root=1-65ed05b7-0f0024fa754ef5927f01277c, 47.34.163.48, 443, https}|{, , /var/www/create.leadid.com/webroot, /2.12.1/index.php, RESPONDER, CGI/1.1, Norwalk, NA, US, 90650, CA, /home/leadid, on, */*, gzip, deflate, br, en-US,en;q=0.9, create.leadid.com, https://deviceid.trueleadid.com/, script, no-cors, cross-site, Mozilla/5.0 (iPhone; CPU iPhone OS 17_3_1 like Mac OS X) AppleWebKit/605.1.15 (KHTML, like Gecko) Version/17.3.1 Mobile/15E148 Safari/604.1, Root=1-65ed05b7-0f0024fa754ef5927f01277c, 47.34.163.48, 443, https, 1, /2.12.1/index.php, lac=CEC22BC0-D61E-81AA-EDC7-D24BFA82BE71&lck=CEC22BC0-FEED-BEEF-CAFE-D24BFA82BE71&methods=32&token=5EE73786-56CC-A0C1-3C6B-C6D1BCE8FC9D&uuid=42dd32a9740b425f8637e0a6800f2ba1, 200, 10.3.1.165, 32372, GET, https, 1710032311, 1710032311.1935, /2.12.1/SaveDeviceId.js?lac=CEC22BC0-D61E-81AA-EDC7-D24BFA82BE71&lck=CEC22BC0-FEED-BEEF-CAFE-D24BFA82BE71&methods=32&token=5EE73786-56CC-A0C1-3C6B-C6D1BCE8FC9D&uuid=42dd32a9740b425f8637e0a6800f2ba1, /var/www/create.leadid.com/webroot/2.12.1/index.php, /2.12.1/index.php, 10.3.10.103, create.leadid.com, 443, HTTP/1.1, nginx/1.20.2, leadid}|\n",
      "|Aws\\DynamoDb\\Exception\\DynamoDbException: Error executing \"UpdateItem\" on \"https://dynamodb.us-east-1.amazonaws.com\"; AWS HTTP error: Client error: `POST https://dynamodb.us-east-1.amazonaws.com` resulted in a `400 Bad Request` response:\\n{\"__type\":\"com.amazon.coral.validate#ValidationException\",\"message\":\"Item size to update has exceeded the maximum allowe (truncated...)\\n ValidationException (client): Item size to update has exceeded the maximum allowed size - {\"__type\":\"com.amazon.coral.validate#ValidationException\",\"message\":\"Item size to update has exceeded the maximum allowed size\"}|Aws\\DynamoDb\\Exception\\DynamoDbException|WrappedHttpHandler.php|{GuzzleHttp\\Promise\\Promise, /var/www/create.leadid.com/webroot/2.12.1/vendor/guzzlehttp/promises/src/Promise.php, 269, waitIfPending}                        |create-other-prod-05d8f8084c83e3e7d.leadid.com|create.leadid.com|/2.12.1/SaveDeviceId.js?lac=CEC22BC0-D61E-81AA-EDC7-D24BFA82BE71&lck=CEC22BC0-FEED-BEEF-CAFE-D24BFA82BE71&methods=32&token=5EE73786-56CC-A0C1-3C6B-C6D1BCE8FC9D&uuid=42dd32a9740b425f8637e0a6800f2ba1|GET              |47.34.163.48    |{CEC22BC0-D61E-81AA-EDC7-D24BFA82BE71, CEC22BC0-FEED-BEEF-CAFE-D24BFA82BE71, 32, 5EE73786-56CC-A0C1-3C6B-C6D1BCE8FC9D, 42dd32a9740b425f8637e0a6800f2ba1}|{*/*, gzip, deflate, br, en-US,en;q=0.9, , , create.leadid.com, https://deviceid.trueleadid.com/, script, no-cors, cross-site, Mozilla/5.0 (iPhone; CPU iPhone OS 17_3_1 like Mac OS X) AppleWebKit/605.1.15 (KHTML, like Gecko) Version/17.3.1 Mobile/15E148 Safari/604.1, Root=1-65ed05b7-0f0024fa754ef5927f01277c, 47.34.163.48, 443, https}|{, , /var/www/create.leadid.com/webroot, /2.12.1/index.php, RESPONDER, CGI/1.1, Norwalk, NA, US, 90650, CA, /home/leadid, on, */*, gzip, deflate, br, en-US,en;q=0.9, create.leadid.com, https://deviceid.trueleadid.com/, script, no-cors, cross-site, Mozilla/5.0 (iPhone; CPU iPhone OS 17_3_1 like Mac OS X) AppleWebKit/605.1.15 (KHTML, like Gecko) Version/17.3.1 Mobile/15E148 Safari/604.1, Root=1-65ed05b7-0f0024fa754ef5927f01277c, 47.34.163.48, 443, https, 1, /2.12.1/index.php, lac=CEC22BC0-D61E-81AA-EDC7-D24BFA82BE71&lck=CEC22BC0-FEED-BEEF-CAFE-D24BFA82BE71&methods=32&token=5EE73786-56CC-A0C1-3C6B-C6D1BCE8FC9D&uuid=42dd32a9740b425f8637e0a6800f2ba1, 200, 10.3.1.165, 32372, GET, https, 1710032311, 1710032311.1935, /2.12.1/SaveDeviceId.js?lac=CEC22BC0-D61E-81AA-EDC7-D24BFA82BE71&lck=CEC22BC0-FEED-BEEF-CAFE-D24BFA82BE71&methods=32&token=5EE73786-56CC-A0C1-3C6B-C6D1BCE8FC9D&uuid=42dd32a9740b425f8637e0a6800f2ba1, /var/www/create.leadid.com/webroot/2.12.1/index.php, /2.12.1/index.php, 10.3.10.103, create.leadid.com, 443, HTTP/1.1, nginx/1.20.2, leadid}|\n",
      "|Aws\\DynamoDb\\Exception\\DynamoDbException: Error executing \"UpdateItem\" on \"https://dynamodb.us-east-1.amazonaws.com\"; AWS HTTP error: Client error: `POST https://dynamodb.us-east-1.amazonaws.com` resulted in a `400 Bad Request` response:\\n{\"__type\":\"com.amazon.coral.validate#ValidationException\",\"message\":\"Item size to update has exceeded the maximum allowe (truncated...)\\n ValidationException (client): Item size to update has exceeded the maximum allowed size - {\"__type\":\"com.amazon.coral.validate#ValidationException\",\"message\":\"Item size to update has exceeded the maximum allowed size\"}|Aws\\DynamoDb\\Exception\\DynamoDbException|WrappedHttpHandler.php|{GuzzleHttp\\Promise\\Promise, /var/www/create.leadid.com/webroot/2.12.1/vendor/guzzlehttp/promises/src/Promise.php, 226, invokeWaitList}                       |create-other-prod-05d8f8084c83e3e7d.leadid.com|create.leadid.com|/2.12.1/SaveDeviceId.js?lac=CEC22BC0-D61E-81AA-EDC7-D24BFA82BE71&lck=CEC22BC0-FEED-BEEF-CAFE-D24BFA82BE71&methods=32&token=5EE73786-56CC-A0C1-3C6B-C6D1BCE8FC9D&uuid=42dd32a9740b425f8637e0a6800f2ba1|GET              |47.34.163.48    |{CEC22BC0-D61E-81AA-EDC7-D24BFA82BE71, CEC22BC0-FEED-BEEF-CAFE-D24BFA82BE71, 32, 5EE73786-56CC-A0C1-3C6B-C6D1BCE8FC9D, 42dd32a9740b425f8637e0a6800f2ba1}|{*/*, gzip, deflate, br, en-US,en;q=0.9, , , create.leadid.com, https://deviceid.trueleadid.com/, script, no-cors, cross-site, Mozilla/5.0 (iPhone; CPU iPhone OS 17_3_1 like Mac OS X) AppleWebKit/605.1.15 (KHTML, like Gecko) Version/17.3.1 Mobile/15E148 Safari/604.1, Root=1-65ed05b7-0f0024fa754ef5927f01277c, 47.34.163.48, 443, https}|{, , /var/www/create.leadid.com/webroot, /2.12.1/index.php, RESPONDER, CGI/1.1, Norwalk, NA, US, 90650, CA, /home/leadid, on, */*, gzip, deflate, br, en-US,en;q=0.9, create.leadid.com, https://deviceid.trueleadid.com/, script, no-cors, cross-site, Mozilla/5.0 (iPhone; CPU iPhone OS 17_3_1 like Mac OS X) AppleWebKit/605.1.15 (KHTML, like Gecko) Version/17.3.1 Mobile/15E148 Safari/604.1, Root=1-65ed05b7-0f0024fa754ef5927f01277c, 47.34.163.48, 443, https, 1, /2.12.1/index.php, lac=CEC22BC0-D61E-81AA-EDC7-D24BFA82BE71&lck=CEC22BC0-FEED-BEEF-CAFE-D24BFA82BE71&methods=32&token=5EE73786-56CC-A0C1-3C6B-C6D1BCE8FC9D&uuid=42dd32a9740b425f8637e0a6800f2ba1, 200, 10.3.1.165, 32372, GET, https, 1710032311, 1710032311.1935, /2.12.1/SaveDeviceId.js?lac=CEC22BC0-D61E-81AA-EDC7-D24BFA82BE71&lck=CEC22BC0-FEED-BEEF-CAFE-D24BFA82BE71&methods=32&token=5EE73786-56CC-A0C1-3C6B-C6D1BCE8FC9D&uuid=42dd32a9740b425f8637e0a6800f2ba1, /var/www/create.leadid.com/webroot/2.12.1/index.php, /2.12.1/index.php, 10.3.10.103, create.leadid.com, 443, HTTP/1.1, nginx/1.20.2, leadid}|\n",
      "|Aws\\DynamoDb\\Exception\\DynamoDbException: Error executing \"UpdateItem\" on \"https://dynamodb.us-east-1.amazonaws.com\"; AWS HTTP error: Client error: `POST https://dynamodb.us-east-1.amazonaws.com` resulted in a `400 Bad Request` response:\\n{\"__type\":\"com.amazon.coral.validate#ValidationException\",\"message\":\"Item size to update has exceeded the maximum allowe (truncated...)\\n ValidationException (client): Item size to update has exceeded the maximum allowed size - {\"__type\":\"com.amazon.coral.validate#ValidationException\",\"message\":\"Item size to update has exceeded the maximum allowed size\"}|Aws\\DynamoDb\\Exception\\DynamoDbException|WrappedHttpHandler.php|{GuzzleHttp\\Promise\\Promise, /var/www/create.leadid.com/webroot/2.12.1/vendor/guzzlehttp/promises/src/Promise.php, 269, waitIfPending}                        |create-other-prod-05d8f8084c83e3e7d.leadid.com|create.leadid.com|/2.12.1/SaveDeviceId.js?lac=CEC22BC0-D61E-81AA-EDC7-D24BFA82BE71&lck=CEC22BC0-FEED-BEEF-CAFE-D24BFA82BE71&methods=32&token=5EE73786-56CC-A0C1-3C6B-C6D1BCE8FC9D&uuid=42dd32a9740b425f8637e0a6800f2ba1|GET              |47.34.163.48    |{CEC22BC0-D61E-81AA-EDC7-D24BFA82BE71, CEC22BC0-FEED-BEEF-CAFE-D24BFA82BE71, 32, 5EE73786-56CC-A0C1-3C6B-C6D1BCE8FC9D, 42dd32a9740b425f8637e0a6800f2ba1}|{*/*, gzip, deflate, br, en-US,en;q=0.9, , , create.leadid.com, https://deviceid.trueleadid.com/, script, no-cors, cross-site, Mozilla/5.0 (iPhone; CPU iPhone OS 17_3_1 like Mac OS X) AppleWebKit/605.1.15 (KHTML, like Gecko) Version/17.3.1 Mobile/15E148 Safari/604.1, Root=1-65ed05b7-0f0024fa754ef5927f01277c, 47.34.163.48, 443, https}|{, , /var/www/create.leadid.com/webroot, /2.12.1/index.php, RESPONDER, CGI/1.1, Norwalk, NA, US, 90650, CA, /home/leadid, on, */*, gzip, deflate, br, en-US,en;q=0.9, create.leadid.com, https://deviceid.trueleadid.com/, script, no-cors, cross-site, Mozilla/5.0 (iPhone; CPU iPhone OS 17_3_1 like Mac OS X) AppleWebKit/605.1.15 (KHTML, like Gecko) Version/17.3.1 Mobile/15E148 Safari/604.1, Root=1-65ed05b7-0f0024fa754ef5927f01277c, 47.34.163.48, 443, https, 1, /2.12.1/index.php, lac=CEC22BC0-D61E-81AA-EDC7-D24BFA82BE71&lck=CEC22BC0-FEED-BEEF-CAFE-D24BFA82BE71&methods=32&token=5EE73786-56CC-A0C1-3C6B-C6D1BCE8FC9D&uuid=42dd32a9740b425f8637e0a6800f2ba1, 200, 10.3.1.165, 32372, GET, https, 1710032311, 1710032311.1935, /2.12.1/SaveDeviceId.js?lac=CEC22BC0-D61E-81AA-EDC7-D24BFA82BE71&lck=CEC22BC0-FEED-BEEF-CAFE-D24BFA82BE71&methods=32&token=5EE73786-56CC-A0C1-3C6B-C6D1BCE8FC9D&uuid=42dd32a9740b425f8637e0a6800f2ba1, /var/www/create.leadid.com/webroot/2.12.1/index.php, /2.12.1/index.php, 10.3.10.103, create.leadid.com, 443, HTTP/1.1, nginx/1.20.2, leadid}|\n",
      "|Aws\\DynamoDb\\Exception\\DynamoDbException: Error executing \"UpdateItem\" on \"https://dynamodb.us-east-1.amazonaws.com\"; AWS HTTP error: Client error: `POST https://dynamodb.us-east-1.amazonaws.com` resulted in a `400 Bad Request` response:\\n{\"__type\":\"com.amazon.coral.validate#ValidationException\",\"message\":\"Item size to update has exceeded the maximum allowe (truncated...)\\n ValidationException (client): Item size to update has exceeded the maximum allowed size - {\"__type\":\"com.amazon.coral.validate#ValidationException\",\"message\":\"Item size to update has exceeded the maximum allowed size\"}|Aws\\DynamoDb\\Exception\\DynamoDbException|WrappedHttpHandler.php|{GuzzleHttp\\Promise\\Promise, /var/www/create.leadid.com/webroot/2.12.1/vendor/guzzlehttp/promises/src/Promise.php, 226, invokeWaitList}                       |create-other-prod-05d8f8084c83e3e7d.leadid.com|create.leadid.com|/2.12.1/SaveDeviceId.js?lac=CEC22BC0-D61E-81AA-EDC7-D24BFA82BE71&lck=CEC22BC0-FEED-BEEF-CAFE-D24BFA82BE71&methods=32&token=5EE73786-56CC-A0C1-3C6B-C6D1BCE8FC9D&uuid=42dd32a9740b425f8637e0a6800f2ba1|GET              |47.34.163.48    |{CEC22BC0-D61E-81AA-EDC7-D24BFA82BE71, CEC22BC0-FEED-BEEF-CAFE-D24BFA82BE71, 32, 5EE73786-56CC-A0C1-3C6B-C6D1BCE8FC9D, 42dd32a9740b425f8637e0a6800f2ba1}|{*/*, gzip, deflate, br, en-US,en;q=0.9, , , create.leadid.com, https://deviceid.trueleadid.com/, script, no-cors, cross-site, Mozilla/5.0 (iPhone; CPU iPhone OS 17_3_1 like Mac OS X) AppleWebKit/605.1.15 (KHTML, like Gecko) Version/17.3.1 Mobile/15E148 Safari/604.1, Root=1-65ed05b7-0f0024fa754ef5927f01277c, 47.34.163.48, 443, https}|{, , /var/www/create.leadid.com/webroot, /2.12.1/index.php, RESPONDER, CGI/1.1, Norwalk, NA, US, 90650, CA, /home/leadid, on, */*, gzip, deflate, br, en-US,en;q=0.9, create.leadid.com, https://deviceid.trueleadid.com/, script, no-cors, cross-site, Mozilla/5.0 (iPhone; CPU iPhone OS 17_3_1 like Mac OS X) AppleWebKit/605.1.15 (KHTML, like Gecko) Version/17.3.1 Mobile/15E148 Safari/604.1, Root=1-65ed05b7-0f0024fa754ef5927f01277c, 47.34.163.48, 443, https, 1, /2.12.1/index.php, lac=CEC22BC0-D61E-81AA-EDC7-D24BFA82BE71&lck=CEC22BC0-FEED-BEEF-CAFE-D24BFA82BE71&methods=32&token=5EE73786-56CC-A0C1-3C6B-C6D1BCE8FC9D&uuid=42dd32a9740b425f8637e0a6800f2ba1, 200, 10.3.1.165, 32372, GET, https, 1710032311, 1710032311.1935, /2.12.1/SaveDeviceId.js?lac=CEC22BC0-D61E-81AA-EDC7-D24BFA82BE71&lck=CEC22BC0-FEED-BEEF-CAFE-D24BFA82BE71&methods=32&token=5EE73786-56CC-A0C1-3C6B-C6D1BCE8FC9D&uuid=42dd32a9740b425f8637e0a6800f2ba1, /var/www/create.leadid.com/webroot/2.12.1/index.php, /2.12.1/index.php, 10.3.10.103, create.leadid.com, 443, HTTP/1.1, nginx/1.20.2, leadid}|\n",
      "|Aws\\DynamoDb\\Exception\\DynamoDbException: Error executing \"UpdateItem\" on \"https://dynamodb.us-east-1.amazonaws.com\"; AWS HTTP error: Client error: `POST https://dynamodb.us-east-1.amazonaws.com` resulted in a `400 Bad Request` response:\\n{\"__type\":\"com.amazon.coral.validate#ValidationException\",\"message\":\"Item size to update has exceeded the maximum allowe (truncated...)\\n ValidationException (client): Item size to update has exceeded the maximum allowed size - {\"__type\":\"com.amazon.coral.validate#ValidationException\",\"message\":\"Item size to update has exceeded the maximum allowed size\"}|Aws\\DynamoDb\\Exception\\DynamoDbException|WrappedHttpHandler.php|{GuzzleHttp\\Promise\\Promise, /var/www/create.leadid.com/webroot/2.12.1/vendor/guzzlehttp/promises/src/Promise.php, 62, waitIfPending}                         |create-other-prod-05d8f8084c83e3e7d.leadid.com|create.leadid.com|/2.12.1/SaveDeviceId.js?lac=CEC22BC0-D61E-81AA-EDC7-D24BFA82BE71&lck=CEC22BC0-FEED-BEEF-CAFE-D24BFA82BE71&methods=32&token=5EE73786-56CC-A0C1-3C6B-C6D1BCE8FC9D&uuid=42dd32a9740b425f8637e0a6800f2ba1|GET              |47.34.163.48    |{CEC22BC0-D61E-81AA-EDC7-D24BFA82BE71, CEC22BC0-FEED-BEEF-CAFE-D24BFA82BE71, 32, 5EE73786-56CC-A0C1-3C6B-C6D1BCE8FC9D, 42dd32a9740b425f8637e0a6800f2ba1}|{*/*, gzip, deflate, br, en-US,en;q=0.9, , , create.leadid.com, https://deviceid.trueleadid.com/, script, no-cors, cross-site, Mozilla/5.0 (iPhone; CPU iPhone OS 17_3_1 like Mac OS X) AppleWebKit/605.1.15 (KHTML, like Gecko) Version/17.3.1 Mobile/15E148 Safari/604.1, Root=1-65ed05b7-0f0024fa754ef5927f01277c, 47.34.163.48, 443, https}|{, , /var/www/create.leadid.com/webroot, /2.12.1/index.php, RESPONDER, CGI/1.1, Norwalk, NA, US, 90650, CA, /home/leadid, on, */*, gzip, deflate, br, en-US,en;q=0.9, create.leadid.com, https://deviceid.trueleadid.com/, script, no-cors, cross-site, Mozilla/5.0 (iPhone; CPU iPhone OS 17_3_1 like Mac OS X) AppleWebKit/605.1.15 (KHTML, like Gecko) Version/17.3.1 Mobile/15E148 Safari/604.1, Root=1-65ed05b7-0f0024fa754ef5927f01277c, 47.34.163.48, 443, https, 1, /2.12.1/index.php, lac=CEC22BC0-D61E-81AA-EDC7-D24BFA82BE71&lck=CEC22BC0-FEED-BEEF-CAFE-D24BFA82BE71&methods=32&token=5EE73786-56CC-A0C1-3C6B-C6D1BCE8FC9D&uuid=42dd32a9740b425f8637e0a6800f2ba1, 200, 10.3.1.165, 32372, GET, https, 1710032311, 1710032311.1935, /2.12.1/SaveDeviceId.js?lac=CEC22BC0-D61E-81AA-EDC7-D24BFA82BE71&lck=CEC22BC0-FEED-BEEF-CAFE-D24BFA82BE71&methods=32&token=5EE73786-56CC-A0C1-3C6B-C6D1BCE8FC9D&uuid=42dd32a9740b425f8637e0a6800f2ba1, /var/www/create.leadid.com/webroot/2.12.1/index.php, /2.12.1/index.php, 10.3.10.103, create.leadid.com, 443, HTTP/1.1, nginx/1.20.2, leadid}|\n",
      "|Aws\\DynamoDb\\Exception\\DynamoDbException: Error executing \"UpdateItem\" on \"https://dynamodb.us-east-1.amazonaws.com\"; AWS HTTP error: Client error: `POST https://dynamodb.us-east-1.amazonaws.com` resulted in a `400 Bad Request` response:\\n{\"__type\":\"com.amazon.coral.validate#ValidationException\",\"message\":\"Item size to update has exceeded the maximum allowe (truncated...)\\n ValidationException (client): Item size to update has exceeded the maximum allowed size - {\"__type\":\"com.amazon.coral.validate#ValidationException\",\"message\":\"Item size to update has exceeded the maximum allowed size\"}|Aws\\DynamoDb\\Exception\\DynamoDbException|WrappedHttpHandler.php|{GuzzleHttp\\Promise\\Promise, /var/www/create.leadid.com/webroot/2.12.1/vendor/aws/aws-sdk-php/src/AwsClientTrait.php, 58, wait}                               |create-other-prod-05d8f8084c83e3e7d.leadid.com|create.leadid.com|/2.12.1/SaveDeviceId.js?lac=CEC22BC0-D61E-81AA-EDC7-D24BFA82BE71&lck=CEC22BC0-FEED-BEEF-CAFE-D24BFA82BE71&methods=32&token=5EE73786-56CC-A0C1-3C6B-C6D1BCE8FC9D&uuid=42dd32a9740b425f8637e0a6800f2ba1|GET              |47.34.163.48    |{CEC22BC0-D61E-81AA-EDC7-D24BFA82BE71, CEC22BC0-FEED-BEEF-CAFE-D24BFA82BE71, 32, 5EE73786-56CC-A0C1-3C6B-C6D1BCE8FC9D, 42dd32a9740b425f8637e0a6800f2ba1}|{*/*, gzip, deflate, br, en-US,en;q=0.9, , , create.leadid.com, https://deviceid.trueleadid.com/, script, no-cors, cross-site, Mozilla/5.0 (iPhone; CPU iPhone OS 17_3_1 like Mac OS X) AppleWebKit/605.1.15 (KHTML, like Gecko) Version/17.3.1 Mobile/15E148 Safari/604.1, Root=1-65ed05b7-0f0024fa754ef5927f01277c, 47.34.163.48, 443, https}|{, , /var/www/create.leadid.com/webroot, /2.12.1/index.php, RESPONDER, CGI/1.1, Norwalk, NA, US, 90650, CA, /home/leadid, on, */*, gzip, deflate, br, en-US,en;q=0.9, create.leadid.com, https://deviceid.trueleadid.com/, script, no-cors, cross-site, Mozilla/5.0 (iPhone; CPU iPhone OS 17_3_1 like Mac OS X) AppleWebKit/605.1.15 (KHTML, like Gecko) Version/17.3.1 Mobile/15E148 Safari/604.1, Root=1-65ed05b7-0f0024fa754ef5927f01277c, 47.34.163.48, 443, https, 1, /2.12.1/index.php, lac=CEC22BC0-D61E-81AA-EDC7-D24BFA82BE71&lck=CEC22BC0-FEED-BEEF-CAFE-D24BFA82BE71&methods=32&token=5EE73786-56CC-A0C1-3C6B-C6D1BCE8FC9D&uuid=42dd32a9740b425f8637e0a6800f2ba1, 200, 10.3.1.165, 32372, GET, https, 1710032311, 1710032311.1935, /2.12.1/SaveDeviceId.js?lac=CEC22BC0-D61E-81AA-EDC7-D24BFA82BE71&lck=CEC22BC0-FEED-BEEF-CAFE-D24BFA82BE71&methods=32&token=5EE73786-56CC-A0C1-3C6B-C6D1BCE8FC9D&uuid=42dd32a9740b425f8637e0a6800f2ba1, /var/www/create.leadid.com/webroot/2.12.1/index.php, /2.12.1/index.php, 10.3.10.103, create.leadid.com, 443, HTTP/1.1, nginx/1.20.2, leadid}|\n",
      "|Aws\\DynamoDb\\Exception\\DynamoDbException: Error executing \"UpdateItem\" on \"https://dynamodb.us-east-1.amazonaws.com\"; AWS HTTP error: Client error: `POST https://dynamodb.us-east-1.amazonaws.com` resulted in a `400 Bad Request` response:\\n{\"__type\":\"com.amazon.coral.validate#ValidationException\",\"message\":\"Item size to update has exceeded the maximum allowe (truncated...)\\n ValidationException (client): Item size to update has exceeded the maximum allowed size - {\"__type\":\"com.amazon.coral.validate#ValidationException\",\"message\":\"Item size to update has exceeded the maximum allowed size\"}|Aws\\DynamoDb\\Exception\\DynamoDbException|WrappedHttpHandler.php|{Aws\\AwsClient, /var/www/create.leadid.com/webroot/2.12.1/vendor/aws/aws-sdk-php/src/AwsClientTrait.php, 86, execute}                                         |create-other-prod-05d8f8084c83e3e7d.leadid.com|create.leadid.com|/2.12.1/SaveDeviceId.js?lac=CEC22BC0-D61E-81AA-EDC7-D24BFA82BE71&lck=CEC22BC0-FEED-BEEF-CAFE-D24BFA82BE71&methods=32&token=5EE73786-56CC-A0C1-3C6B-C6D1BCE8FC9D&uuid=42dd32a9740b425f8637e0a6800f2ba1|GET              |47.34.163.48    |{CEC22BC0-D61E-81AA-EDC7-D24BFA82BE71, CEC22BC0-FEED-BEEF-CAFE-D24BFA82BE71, 32, 5EE73786-56CC-A0C1-3C6B-C6D1BCE8FC9D, 42dd32a9740b425f8637e0a6800f2ba1}|{*/*, gzip, deflate, br, en-US,en;q=0.9, , , create.leadid.com, https://deviceid.trueleadid.com/, script, no-cors, cross-site, Mozilla/5.0 (iPhone; CPU iPhone OS 17_3_1 like Mac OS X) AppleWebKit/605.1.15 (KHTML, like Gecko) Version/17.3.1 Mobile/15E148 Safari/604.1, Root=1-65ed05b7-0f0024fa754ef5927f01277c, 47.34.163.48, 443, https}|{, , /var/www/create.leadid.com/webroot, /2.12.1/index.php, RESPONDER, CGI/1.1, Norwalk, NA, US, 90650, CA, /home/leadid, on, */*, gzip, deflate, br, en-US,en;q=0.9, create.leadid.com, https://deviceid.trueleadid.com/, script, no-cors, cross-site, Mozilla/5.0 (iPhone; CPU iPhone OS 17_3_1 like Mac OS X) AppleWebKit/605.1.15 (KHTML, like Gecko) Version/17.3.1 Mobile/15E148 Safari/604.1, Root=1-65ed05b7-0f0024fa754ef5927f01277c, 47.34.163.48, 443, https, 1, /2.12.1/index.php, lac=CEC22BC0-D61E-81AA-EDC7-D24BFA82BE71&lck=CEC22BC0-FEED-BEEF-CAFE-D24BFA82BE71&methods=32&token=5EE73786-56CC-A0C1-3C6B-C6D1BCE8FC9D&uuid=42dd32a9740b425f8637e0a6800f2ba1, 200, 10.3.1.165, 32372, GET, https, 1710032311, 1710032311.1935, /2.12.1/SaveDeviceId.js?lac=CEC22BC0-D61E-81AA-EDC7-D24BFA82BE71&lck=CEC22BC0-FEED-BEEF-CAFE-D24BFA82BE71&methods=32&token=5EE73786-56CC-A0C1-3C6B-C6D1BCE8FC9D&uuid=42dd32a9740b425f8637e0a6800f2ba1, /var/www/create.leadid.com/webroot/2.12.1/index.php, /2.12.1/index.php, 10.3.10.103, create.leadid.com, 443, HTTP/1.1, nginx/1.20.2, leadid}|\n",
      "|Aws\\DynamoDb\\Exception\\DynamoDbException: Error executing \"UpdateItem\" on \"https://dynamodb.us-east-1.amazonaws.com\"; AWS HTTP error: Client error: `POST https://dynamodb.us-east-1.amazonaws.com` resulted in a `400 Bad Request` response:\\n{\"__type\":\"com.amazon.coral.validate#ValidationException\",\"message\":\"Item size to update has exceeded the maximum allowe (truncated...)\\n ValidationException (client): Item size to update has exceeded the maximum allowed size - {\"__type\":\"com.amazon.coral.validate#ValidationException\",\"message\":\"Item size to update has exceeded the maximum allowed size\"}|Aws\\DynamoDb\\Exception\\DynamoDbException|WrappedHttpHandler.php|{Aws\\AwsClient, /var/www/create.leadid.com/webroot/2.12.1/src/Create/DynamoDb/DynamoDao.php, 296, __call}                                                     |create-other-prod-05d8f8084c83e3e7d.leadid.com|create.leadid.com|/2.12.1/SaveDeviceId.js?lac=CEC22BC0-D61E-81AA-EDC7-D24BFA82BE71&lck=CEC22BC0-FEED-BEEF-CAFE-D24BFA82BE71&methods=32&token=5EE73786-56CC-A0C1-3C6B-C6D1BCE8FC9D&uuid=42dd32a9740b425f8637e0a6800f2ba1|GET              |47.34.163.48    |{CEC22BC0-D61E-81AA-EDC7-D24BFA82BE71, CEC22BC0-FEED-BEEF-CAFE-D24BFA82BE71, 32, 5EE73786-56CC-A0C1-3C6B-C6D1BCE8FC9D, 42dd32a9740b425f8637e0a6800f2ba1}|{*/*, gzip, deflate, br, en-US,en;q=0.9, , , create.leadid.com, https://deviceid.trueleadid.com/, script, no-cors, cross-site, Mozilla/5.0 (iPhone; CPU iPhone OS 17_3_1 like Mac OS X) AppleWebKit/605.1.15 (KHTML, like Gecko) Version/17.3.1 Mobile/15E148 Safari/604.1, Root=1-65ed05b7-0f0024fa754ef5927f01277c, 47.34.163.48, 443, https}|{, , /var/www/create.leadid.com/webroot, /2.12.1/index.php, RESPONDER, CGI/1.1, Norwalk, NA, US, 90650, CA, /home/leadid, on, */*, gzip, deflate, br, en-US,en;q=0.9, create.leadid.com, https://deviceid.trueleadid.com/, script, no-cors, cross-site, Mozilla/5.0 (iPhone; CPU iPhone OS 17_3_1 like Mac OS X) AppleWebKit/605.1.15 (KHTML, like Gecko) Version/17.3.1 Mobile/15E148 Safari/604.1, Root=1-65ed05b7-0f0024fa754ef5927f01277c, 47.34.163.48, 443, https, 1, /2.12.1/index.php, lac=CEC22BC0-D61E-81AA-EDC7-D24BFA82BE71&lck=CEC22BC0-FEED-BEEF-CAFE-D24BFA82BE71&methods=32&token=5EE73786-56CC-A0C1-3C6B-C6D1BCE8FC9D&uuid=42dd32a9740b425f8637e0a6800f2ba1, 200, 10.3.1.165, 32372, GET, https, 1710032311, 1710032311.1935, /2.12.1/SaveDeviceId.js?lac=CEC22BC0-D61E-81AA-EDC7-D24BFA82BE71&lck=CEC22BC0-FEED-BEEF-CAFE-D24BFA82BE71&methods=32&token=5EE73786-56CC-A0C1-3C6B-C6D1BCE8FC9D&uuid=42dd32a9740b425f8637e0a6800f2ba1, /var/www/create.leadid.com/webroot/2.12.1/index.php, /2.12.1/index.php, 10.3.10.103, create.leadid.com, 443, HTTP/1.1, nginx/1.20.2, leadid}|\n",
      "|Aws\\DynamoDb\\Exception\\DynamoDbException: Error executing \"UpdateItem\" on \"https://dynamodb.us-east-1.amazonaws.com\"; AWS HTTP error: Client error: `POST https://dynamodb.us-east-1.amazonaws.com` resulted in a `400 Bad Request` response:\\n{\"__type\":\"com.amazon.coral.validate#ValidationException\",\"message\":\"Item size to update has exceeded the maximum allowe (truncated...)\\n ValidationException (client): Item size to update has exceeded the maximum allowed size - {\"__type\":\"com.amazon.coral.validate#ValidationException\",\"message\":\"Item size to update has exceeded the maximum allowed size\"}|Aws\\DynamoDb\\Exception\\DynamoDbException|WrappedHttpHandler.php|{Leadid\\Create\\DynamoDb\\DynamoDao, /var/www/create.leadid.com/webroot/2.12.1/src/Create/Controller/SaveDeviceIdController.php, 39, savePii}                   |create-other-prod-05d8f8084c83e3e7d.leadid.com|create.leadid.com|/2.12.1/SaveDeviceId.js?lac=CEC22BC0-D61E-81AA-EDC7-D24BFA82BE71&lck=CEC22BC0-FEED-BEEF-CAFE-D24BFA82BE71&methods=32&token=5EE73786-56CC-A0C1-3C6B-C6D1BCE8FC9D&uuid=42dd32a9740b425f8637e0a6800f2ba1|GET              |47.34.163.48    |{CEC22BC0-D61E-81AA-EDC7-D24BFA82BE71, CEC22BC0-FEED-BEEF-CAFE-D24BFA82BE71, 32, 5EE73786-56CC-A0C1-3C6B-C6D1BCE8FC9D, 42dd32a9740b425f8637e0a6800f2ba1}|{*/*, gzip, deflate, br, en-US,en;q=0.9, , , create.leadid.com, https://deviceid.trueleadid.com/, script, no-cors, cross-site, Mozilla/5.0 (iPhone; CPU iPhone OS 17_3_1 like Mac OS X) AppleWebKit/605.1.15 (KHTML, like Gecko) Version/17.3.1 Mobile/15E148 Safari/604.1, Root=1-65ed05b7-0f0024fa754ef5927f01277c, 47.34.163.48, 443, https}|{, , /var/www/create.leadid.com/webroot, /2.12.1/index.php, RESPONDER, CGI/1.1, Norwalk, NA, US, 90650, CA, /home/leadid, on, */*, gzip, deflate, br, en-US,en;q=0.9, create.leadid.com, https://deviceid.trueleadid.com/, script, no-cors, cross-site, Mozilla/5.0 (iPhone; CPU iPhone OS 17_3_1 like Mac OS X) AppleWebKit/605.1.15 (KHTML, like Gecko) Version/17.3.1 Mobile/15E148 Safari/604.1, Root=1-65ed05b7-0f0024fa754ef5927f01277c, 47.34.163.48, 443, https, 1, /2.12.1/index.php, lac=CEC22BC0-D61E-81AA-EDC7-D24BFA82BE71&lck=CEC22BC0-FEED-BEEF-CAFE-D24BFA82BE71&methods=32&token=5EE73786-56CC-A0C1-3C6B-C6D1BCE8FC9D&uuid=42dd32a9740b425f8637e0a6800f2ba1, 200, 10.3.1.165, 32372, GET, https, 1710032311, 1710032311.1935, /2.12.1/SaveDeviceId.js?lac=CEC22BC0-D61E-81AA-EDC7-D24BFA82BE71&lck=CEC22BC0-FEED-BEEF-CAFE-D24BFA82BE71&methods=32&token=5EE73786-56CC-A0C1-3C6B-C6D1BCE8FC9D&uuid=42dd32a9740b425f8637e0a6800f2ba1, /var/www/create.leadid.com/webroot/2.12.1/index.php, /2.12.1/index.php, 10.3.10.103, create.leadid.com, 443, HTTP/1.1, nginx/1.20.2, leadid}|\n",
      "|Aws\\DynamoDb\\Exception\\DynamoDbException: Error executing \"UpdateItem\" on \"https://dynamodb.us-east-1.amazonaws.com\"; AWS HTTP error: Client error: `POST https://dynamodb.us-east-1.amazonaws.com` resulted in a `400 Bad Request` response:\\n{\"__type\":\"com.amazon.coral.validate#ValidationException\",\"message\":\"Item size to update has exceeded the maximum allowe (truncated...)\\n ValidationException (client): Item size to update has exceeded the maximum allowed size - {\"__type\":\"com.amazon.coral.validate#ValidationException\",\"message\":\"Item size to update has exceeded the maximum allowed size\"}|Aws\\DynamoDb\\Exception\\DynamoDbException|WrappedHttpHandler.php|{Leadid\\Create\\Controller\\SaveDeviceIdController, /var/www/create.leadid.com/webroot/2.12.1/vendor/leadid/simple-php-framework/src/Dispatcher.php, 74, run}   |create-other-prod-05d8f8084c83e3e7d.leadid.com|create.leadid.com|/2.12.1/SaveDeviceId.js?lac=CEC22BC0-D61E-81AA-EDC7-D24BFA82BE71&lck=CEC22BC0-FEED-BEEF-CAFE-D24BFA82BE71&methods=32&token=5EE73786-56CC-A0C1-3C6B-C6D1BCE8FC9D&uuid=42dd32a9740b425f8637e0a6800f2ba1|GET              |47.34.163.48    |{CEC22BC0-D61E-81AA-EDC7-D24BFA82BE71, CEC22BC0-FEED-BEEF-CAFE-D24BFA82BE71, 32, 5EE73786-56CC-A0C1-3C6B-C6D1BCE8FC9D, 42dd32a9740b425f8637e0a6800f2ba1}|{*/*, gzip, deflate, br, en-US,en;q=0.9, , , create.leadid.com, https://deviceid.trueleadid.com/, script, no-cors, cross-site, Mozilla/5.0 (iPhone; CPU iPhone OS 17_3_1 like Mac OS X) AppleWebKit/605.1.15 (KHTML, like Gecko) Version/17.3.1 Mobile/15E148 Safari/604.1, Root=1-65ed05b7-0f0024fa754ef5927f01277c, 47.34.163.48, 443, https}|{, , /var/www/create.leadid.com/webroot, /2.12.1/index.php, RESPONDER, CGI/1.1, Norwalk, NA, US, 90650, CA, /home/leadid, on, */*, gzip, deflate, br, en-US,en;q=0.9, create.leadid.com, https://deviceid.trueleadid.com/, script, no-cors, cross-site, Mozilla/5.0 (iPhone; CPU iPhone OS 17_3_1 like Mac OS X) AppleWebKit/605.1.15 (KHTML, like Gecko) Version/17.3.1 Mobile/15E148 Safari/604.1, Root=1-65ed05b7-0f0024fa754ef5927f01277c, 47.34.163.48, 443, https, 1, /2.12.1/index.php, lac=CEC22BC0-D61E-81AA-EDC7-D24BFA82BE71&lck=CEC22BC0-FEED-BEEF-CAFE-D24BFA82BE71&methods=32&token=5EE73786-56CC-A0C1-3C6B-C6D1BCE8FC9D&uuid=42dd32a9740b425f8637e0a6800f2ba1, 200, 10.3.1.165, 32372, GET, https, 1710032311, 1710032311.1935, /2.12.1/SaveDeviceId.js?lac=CEC22BC0-D61E-81AA-EDC7-D24BFA82BE71&lck=CEC22BC0-FEED-BEEF-CAFE-D24BFA82BE71&methods=32&token=5EE73786-56CC-A0C1-3C6B-C6D1BCE8FC9D&uuid=42dd32a9740b425f8637e0a6800f2ba1, /var/www/create.leadid.com/webroot/2.12.1/index.php, /2.12.1/index.php, 10.3.10.103, create.leadid.com, 443, HTTP/1.1, nginx/1.20.2, leadid}|\n",
      "|Aws\\DynamoDb\\Exception\\DynamoDbException: Error executing \"UpdateItem\" on \"https://dynamodb.us-east-1.amazonaws.com\"; AWS HTTP error: Client error: `POST https://dynamodb.us-east-1.amazonaws.com` resulted in a `400 Bad Request` response:\\n{\"__type\":\"com.amazon.coral.validate#ValidationException\",\"message\":\"Item size to update has exceeded the maximum allowe (truncated...)\\n ValidationException (client): Item size to update has exceeded the maximum allowed size - {\"__type\":\"com.amazon.coral.validate#ValidationException\",\"message\":\"Item size to update has exceeded the maximum allowed size\"}|Aws\\DynamoDb\\Exception\\DynamoDbException|WrappedHttpHandler.php|{Leadid\\Dispatcher, /var/www/create.leadid.com/webroot/2.12.1/vendor/leadid/simple-php-framework/src/Dispatcher.php, 65, runController}                       |create-other-prod-05d8f8084c83e3e7d.leadid.com|create.leadid.com|/2.12.1/SaveDeviceId.js?lac=CEC22BC0-D61E-81AA-EDC7-D24BFA82BE71&lck=CEC22BC0-FEED-BEEF-CAFE-D24BFA82BE71&methods=32&token=5EE73786-56CC-A0C1-3C6B-C6D1BCE8FC9D&uuid=42dd32a9740b425f8637e0a6800f2ba1|GET              |47.34.163.48    |{CEC22BC0-D61E-81AA-EDC7-D24BFA82BE71, CEC22BC0-FEED-BEEF-CAFE-D24BFA82BE71, 32, 5EE73786-56CC-A0C1-3C6B-C6D1BCE8FC9D, 42dd32a9740b425f8637e0a6800f2ba1}|{*/*, gzip, deflate, br, en-US,en;q=0.9, , , create.leadid.com, https://deviceid.trueleadid.com/, script, no-cors, cross-site, Mozilla/5.0 (iPhone; CPU iPhone OS 17_3_1 like Mac OS X) AppleWebKit/605.1.15 (KHTML, like Gecko) Version/17.3.1 Mobile/15E148 Safari/604.1, Root=1-65ed05b7-0f0024fa754ef5927f01277c, 47.34.163.48, 443, https}|{, , /var/www/create.leadid.com/webroot, /2.12.1/index.php, RESPONDER, CGI/1.1, Norwalk, NA, US, 90650, CA, /home/leadid, on, */*, gzip, deflate, br, en-US,en;q=0.9, create.leadid.com, https://deviceid.trueleadid.com/, script, no-cors, cross-site, Mozilla/5.0 (iPhone; CPU iPhone OS 17_3_1 like Mac OS X) AppleWebKit/605.1.15 (KHTML, like Gecko) Version/17.3.1 Mobile/15E148 Safari/604.1, Root=1-65ed05b7-0f0024fa754ef5927f01277c, 47.34.163.48, 443, https, 1, /2.12.1/index.php, lac=CEC22BC0-D61E-81AA-EDC7-D24BFA82BE71&lck=CEC22BC0-FEED-BEEF-CAFE-D24BFA82BE71&methods=32&token=5EE73786-56CC-A0C1-3C6B-C6D1BCE8FC9D&uuid=42dd32a9740b425f8637e0a6800f2ba1, 200, 10.3.1.165, 32372, GET, https, 1710032311, 1710032311.1935, /2.12.1/SaveDeviceId.js?lac=CEC22BC0-D61E-81AA-EDC7-D24BFA82BE71&lck=CEC22BC0-FEED-BEEF-CAFE-D24BFA82BE71&methods=32&token=5EE73786-56CC-A0C1-3C6B-C6D1BCE8FC9D&uuid=42dd32a9740b425f8637e0a6800f2ba1, /var/www/create.leadid.com/webroot/2.12.1/index.php, /2.12.1/index.php, 10.3.10.103, create.leadid.com, 443, HTTP/1.1, nginx/1.20.2, leadid}|\n",
      "+-------------------------------------------------------------------------------------------------------------------------------------------------------------------------------------------------------------------------------------------------------------------------------------------------------------------------------------------------------------------------------------------------------------------------------------------------------------------------------------------------------------------------------------------------------------------------------------------------------------------+----------------------------------------+----------------------+--------------------------------------------------------------------------------------------------------------------------------------------------------------+----------------------------------------------+-----------------+-----------------------------------------------------------------------------------------------------------------------------------------------------------------------------------------------------+-----------------+----------------+--------------------------------------------------------------------------------------------------------------------------------------------------------+-----------------------------------------------------------------------------------------------------------------------------------------------------------------------------------------------------------------------------------------------------------------------------------------------------------------------------------------------+--------------------------------------------------------------------------------------------------------------------------------------------------------------------------------------------------------------------------------------------------------------------------------------------------------------------------------------------------------------------------------------------------------------------------------------------------------------------------------------------------------------------------------------------------------------------------------------------------------------------------------------------------------------------------------------------------------------------------------------------------------------------------------------------------------------------------------------------------------------------------------------------------------------------------------------------------------------------------------------------------------------------------------------------------------------------------------------------------+\n",
      "only showing top 20 rows\n",
      "\n"
     ]
    }
   ],
   "source": [
    "df_flattened.show(truncate=False)"
   ]
  },
  {
   "cell_type": "markdown",
   "metadata": {},
   "source": [
    "Step 4: Save Data into Apache Hive"
   ]
  },
  {
   "cell_type": "code",
   "execution_count": 59,
   "metadata": {
    "scrolled": true
   },
   "outputs": [],
   "source": [
    "hive_location = \"/opt/hive/data/warehouse\"\n",
    "dest = f\"{hive_location}/raygun_error_traces\"\n",
    "\n",
    "import shutil\n",
    "shutil.rmtree(dest, ignore_errors=True)\n"
   ]
  },
  {
   "cell_type": "code",
   "execution_count": 60,
   "metadata": {},
   "outputs": [
    {
     "name": "stderr",
     "output_type": "stream",
     "text": [
      "24/06/12 15:16:17 WARN HiveExternalCatalog: Could not persist `spark_catalog`.`default`.`raygun_error_traces` in a Hive compatible way. Persisting it into Hive metastore in Spark SQL specific format.\n",
      "org.apache.spark.SparkException: [CANNOT_RECOGNIZE_HIVE_TYPE] Cannot recognize hive type string: \"STRUCT<ACCEPT:STRING,ACCEPT-ENCODING:STRING,ACCEPT-LANGUAGE:STRING,CONTENT-LENGTH:STRING,CONTENT-TYPE:STRING,HOST:STRING,REFERER:STRING,SEC-FETCH-DEST:STRING,SEC-FETCH-MODE:STRING,SEC-FETCH-SITE:STRING,USER-AGENT:STRING,X-AMZN-TRACE-ID:STRING,X-FORWARDED-FOR:STRING,X-FORWARDED-PORT:STRING,X-FORWARDED-PROTO:STRING>\", column: `Headers`. The specified data type for the field cannot be recognized by Spark SQL. Please check the data type of the specified field and ensure that it is a valid Spark SQL data type. Refer to the Spark SQL documentation for a list of valid data types and their format. If the data type is correct, please ensure that you are using a supported version of Spark SQL.\n",
      "\tat org.apache.spark.sql.errors.QueryExecutionErrors$.cannotRecognizeHiveTypeError(QueryExecutionErrors.scala:1698)\n",
      "\tat org.apache.spark.sql.hive.client.HiveClientImpl$.getSparkSQLDataType(HiveClientImpl.scala:1069)\n",
      "\tat org.apache.spark.sql.hive.client.HiveClientImpl$.$anonfun$verifyColumnDataType$1(HiveClientImpl.scala:1084)\n",
      "\tat scala.collection.Iterator.foreach(Iterator.scala:943)\n",
      "\tat scala.collection.Iterator.foreach$(Iterator.scala:943)\n",
      "\tat scala.collection.AbstractIterator.foreach(Iterator.scala:1431)\n",
      "\tat scala.collection.IterableLike.foreach(IterableLike.scala:74)\n",
      "\tat scala.collection.IterableLike.foreach$(IterableLike.scala:73)\n",
      "\tat org.apache.spark.sql.types.StructType.foreach(StructType.scala:102)\n",
      "\tat org.apache.spark.sql.hive.client.HiveClientImpl$.org$apache$spark$sql$hive$client$HiveClientImpl$$verifyColumnDataType(HiveClientImpl.scala:1084)\n",
      "\tat org.apache.spark.sql.hive.client.HiveClientImpl.$anonfun$createTable$1(HiveClientImpl.scala:572)\n",
      "\tat scala.runtime.java8.JFunction0$mcV$sp.apply(JFunction0$mcV$sp.java:23)\n",
      "\tat org.apache.spark.sql.hive.client.HiveClientImpl.$anonfun$withHiveState$1(HiveClientImpl.scala:303)\n",
      "\tat org.apache.spark.sql.hive.client.HiveClientImpl.liftedTree1$1(HiveClientImpl.scala:234)\n",
      "\tat org.apache.spark.sql.hive.client.HiveClientImpl.retryLocked(HiveClientImpl.scala:233)\n",
      "\tat org.apache.spark.sql.hive.client.HiveClientImpl.withHiveState(HiveClientImpl.scala:283)\n",
      "\tat org.apache.spark.sql.hive.client.HiveClientImpl.createTable(HiveClientImpl.scala:571)\n",
      "\tat org.apache.spark.sql.hive.HiveExternalCatalog.saveTableIntoHive(HiveExternalCatalog.scala:526)\n",
      "\tat org.apache.spark.sql.hive.HiveExternalCatalog.createDataSourceTable(HiveExternalCatalog.scala:415)\n",
      "\tat org.apache.spark.sql.hive.HiveExternalCatalog.$anonfun$createTable$1(HiveExternalCatalog.scala:274)\n",
      "\tat scala.runtime.java8.JFunction0$mcV$sp.apply(JFunction0$mcV$sp.java:23)\n",
      "\tat org.apache.spark.sql.hive.HiveExternalCatalog.withClient(HiveExternalCatalog.scala:99)\n",
      "\tat org.apache.spark.sql.hive.HiveExternalCatalog.createTable(HiveExternalCatalog.scala:245)\n",
      "\tat org.apache.spark.sql.catalyst.catalog.ExternalCatalogWithListener.createTable(ExternalCatalogWithListener.scala:94)\n",
      "\tat org.apache.spark.sql.catalyst.catalog.SessionCatalog.createTable(SessionCatalog.scala:402)\n",
      "\tat org.apache.spark.sql.execution.command.CreateDataSourceTableAsSelectCommand.run(createDataSourceTables.scala:193)\n",
      "\tat org.apache.spark.sql.execution.command.ExecutedCommandExec.sideEffectResult$lzycompute(commands.scala:75)\n",
      "\tat org.apache.spark.sql.execution.command.ExecutedCommandExec.sideEffectResult(commands.scala:73)\n",
      "\tat org.apache.spark.sql.execution.command.ExecutedCommandExec.executeCollect(commands.scala:84)\n",
      "\tat org.apache.spark.sql.execution.QueryExecution$$anonfun$eagerlyExecuteCommands$1.$anonfun$applyOrElse$1(QueryExecution.scala:107)\n",
      "\tat org.apache.spark.sql.execution.SQLExecution$.$anonfun$withNewExecutionId$6(SQLExecution.scala:125)\n",
      "\tat org.apache.spark.sql.execution.SQLExecution$.withSQLConfPropagated(SQLExecution.scala:201)\n",
      "\tat org.apache.spark.sql.execution.SQLExecution$.$anonfun$withNewExecutionId$1(SQLExecution.scala:108)\n",
      "\tat org.apache.spark.sql.SparkSession.withActive(SparkSession.scala:900)\n",
      "\tat org.apache.spark.sql.execution.SQLExecution$.withNewExecutionId(SQLExecution.scala:66)\n",
      "\tat org.apache.spark.sql.execution.QueryExecution$$anonfun$eagerlyExecuteCommands$1.applyOrElse(QueryExecution.scala:107)\n",
      "\tat org.apache.spark.sql.execution.QueryExecution$$anonfun$eagerlyExecuteCommands$1.applyOrElse(QueryExecution.scala:98)\n",
      "\tat org.apache.spark.sql.catalyst.trees.TreeNode.$anonfun$transformDownWithPruning$1(TreeNode.scala:461)\n",
      "\tat org.apache.spark.sql.catalyst.trees.CurrentOrigin$.withOrigin(origin.scala:76)\n",
      "\tat org.apache.spark.sql.catalyst.trees.TreeNode.transformDownWithPruning(TreeNode.scala:461)\n",
      "\tat org.apache.spark.sql.catalyst.plans.logical.LogicalPlan.org$apache$spark$sql$catalyst$plans$logical$AnalysisHelper$$super$transformDownWithPruning(LogicalPlan.scala:32)\n",
      "\tat org.apache.spark.sql.catalyst.plans.logical.AnalysisHelper.transformDownWithPruning(AnalysisHelper.scala:267)\n",
      "\tat org.apache.spark.sql.catalyst.plans.logical.AnalysisHelper.transformDownWithPruning$(AnalysisHelper.scala:263)\n",
      "\tat org.apache.spark.sql.catalyst.plans.logical.LogicalPlan.transformDownWithPruning(LogicalPlan.scala:32)\n",
      "\tat org.apache.spark.sql.catalyst.plans.logical.LogicalPlan.transformDownWithPruning(LogicalPlan.scala:32)\n",
      "\tat org.apache.spark.sql.catalyst.trees.TreeNode.transformDown(TreeNode.scala:437)\n",
      "\tat org.apache.spark.sql.execution.QueryExecution.eagerlyExecuteCommands(QueryExecution.scala:98)\n",
      "\tat org.apache.spark.sql.execution.QueryExecution.commandExecuted$lzycompute(QueryExecution.scala:85)\n",
      "\tat org.apache.spark.sql.execution.QueryExecution.commandExecuted(QueryExecution.scala:83)\n",
      "\tat org.apache.spark.sql.execution.QueryExecution.assertCommandExecuted(QueryExecution.scala:142)\n",
      "\tat org.apache.spark.sql.DataFrameWriter.runCommand(DataFrameWriter.scala:859)\n",
      "\tat org.apache.spark.sql.DataFrameWriter.createTable(DataFrameWriter.scala:700)\n",
      "\tat org.apache.spark.sql.DataFrameWriter.saveAsTable(DataFrameWriter.scala:678)\n",
      "\tat org.apache.spark.sql.DataFrameWriter.saveAsTable(DataFrameWriter.scala:571)\n",
      "\tat java.base/jdk.internal.reflect.NativeMethodAccessorImpl.invoke0(Native Method)\n",
      "\tat java.base/jdk.internal.reflect.NativeMethodAccessorImpl.invoke(NativeMethodAccessorImpl.java:77)\n",
      "\tat java.base/jdk.internal.reflect.DelegatingMethodAccessorImpl.invoke(DelegatingMethodAccessorImpl.java:43)\n",
      "\tat java.base/java.lang.reflect.Method.invoke(Method.java:568)\n",
      "\tat py4j.reflection.MethodInvoker.invoke(MethodInvoker.java:244)\n",
      "\tat py4j.reflection.ReflectionEngine.invoke(ReflectionEngine.java:374)\n",
      "\tat py4j.Gateway.invoke(Gateway.java:282)\n",
      "\tat py4j.commands.AbstractCommand.invokeMethod(AbstractCommand.java:132)\n",
      "\tat py4j.commands.CallCommand.execute(CallCommand.java:79)\n",
      "\tat py4j.ClientServerConnection.waitForCommands(ClientServerConnection.java:182)\n",
      "\tat py4j.ClientServerConnection.run(ClientServerConnection.java:106)\n",
      "\tat java.base/java.lang.Thread.run(Thread.java:840)\n",
      "Caused by: org.apache.spark.sql.catalyst.parser.ParseException: \n",
      "[PARSE_SYNTAX_ERROR] Syntax error at or near '-'.(line 1, pos 27)\n",
      "\n",
      "== SQL ==\n",
      "struct<Accept:string,Accept-Encoding:string,Accept-Language:string,Content-Length:string,Content-Type:string,Host:string,Referer:string,Sec-Fetch-Dest:string,Sec-Fetch-Mode:string,Sec-Fetch-Site:string,User-Agent:string,X-Amzn-Trace-Id:string,X-Forwarded-For:string,X-Forwarded-Port:string,X-Forwarded-Proto:string>\n",
      "---------------------------^^^\n",
      "\n",
      "\tat org.apache.spark.sql.catalyst.parser.ParseException.withCommand(parsers.scala:257)\n",
      "\tat org.apache.spark.sql.catalyst.parser.AbstractParser.parse(parsers.scala:98)\n",
      "\tat org.apache.spark.sql.catalyst.parser.AbstractParser.parseDataType(parsers.scala:40)\n",
      "\tat org.apache.spark.sql.hive.client.HiveClientImpl$.getSparkSQLDataType(HiveClientImpl.scala:1066)\n",
      "\t... 64 more\n"
     ]
    }
   ],
   "source": [
    "# Save the processed data into Hive table\n",
    "df_flattened \\\n",
    "    .write \\\n",
    "    .mode(\"overwrite\") \\\n",
    "    .saveAsTable(\"raygun_error_traces\")\n"
   ]
  },
  {
   "cell_type": "code",
   "execution_count": 61,
   "metadata": {},
   "outputs": [
    {
     "name": "stdout",
     "output_type": "stream",
     "text": [
      "+-------------------------------------------------------------------------------------------------------------------------------------------------------------------------------------------------------------------------------------------------------------------------------------------------------------------------------------------------------------------------------------------------------------------------------------------------------------------------------------------------------------------------------------------------------------------------------------------------------------------+----------------------------------------+----------------------+--------------------------------------------------------------------------------------------------------------------------------------------------------------+----------------------------------------------+-----------------+-----------------------------------------------------------------------------------------------------------------------------------------------------------------------------------------------------+-----------------+----------------+--------------------------------------------------------------------------------------------------------------------------------------------------------+-----------------------------------------------------------------------------------------------------------------------------------------------------------------------------------------------------------------------------------------------------------------------------------------------------------------------------------------------+------------------------------------------------------------------------------------------------------------------------------------------------------------------------------------------------------------------------------------------------------------------------------------------------------------------------------------------------------------------------------------------------------------------------------------------------------------------------------------------------------------------------------------------------------------------------------------------------------------------------------------------------------------------------------------------------------------------------------------------------------------------------------------------------------------------------------------------------------------------------------------------------------------------------------------------------------------------------------------------------------------------------------------------------------------------------------------------------+\n",
      "|ErrorMessage                                                                                                                                                                                                                                                                                                                                                                                                                                                                                                                                                                                                       |ErrorClassName                          |ErrorFileName         |StackTrace                                                                                                                                                    |MachineName                                   |RequestHostName  |RequestUrl                                                                                                                                                                                           |RequestHttpMethod|RequestIpAddress|QueryString                                                                                                                                             |Headers                                                                                                                                                                                                                                                                                                                                        |Data                                                                                                                                                                                                                                                                                                                                                                                                                                                                                                                                                                                                                                                                                                                                                                                                                                                                                                                                                                                                                                                                                            |\n",
      "+-------------------------------------------------------------------------------------------------------------------------------------------------------------------------------------------------------------------------------------------------------------------------------------------------------------------------------------------------------------------------------------------------------------------------------------------------------------------------------------------------------------------------------------------------------------------------------------------------------------------+----------------------------------------+----------------------+--------------------------------------------------------------------------------------------------------------------------------------------------------------+----------------------------------------------+-----------------+-----------------------------------------------------------------------------------------------------------------------------------------------------------------------------------------------------+-----------------+----------------+--------------------------------------------------------------------------------------------------------------------------------------------------------+-----------------------------------------------------------------------------------------------------------------------------------------------------------------------------------------------------------------------------------------------------------------------------------------------------------------------------------------------+------------------------------------------------------------------------------------------------------------------------------------------------------------------------------------------------------------------------------------------------------------------------------------------------------------------------------------------------------------------------------------------------------------------------------------------------------------------------------------------------------------------------------------------------------------------------------------------------------------------------------------------------------------------------------------------------------------------------------------------------------------------------------------------------------------------------------------------------------------------------------------------------------------------------------------------------------------------------------------------------------------------------------------------------------------------------------------------------+\n",
      "|Aws\\DynamoDb\\Exception\\DynamoDbException: Error executing \"UpdateItem\" on \"https://dynamodb.us-east-1.amazonaws.com\"; AWS HTTP error: Client error: `POST https://dynamodb.us-east-1.amazonaws.com` resulted in a `400 Bad Request` response:\\n{\"__type\":\"com.amazon.coral.validate#ValidationException\",\"message\":\"Item size to update has exceeded the maximum allowe (truncated...)\\n ValidationException (client): Item size to update has exceeded the maximum allowed size - {\"__type\":\"com.amazon.coral.validate#ValidationException\",\"message\":\"Item size to update has exceeded the maximum allowed size\"}|Aws\\DynamoDb\\Exception\\DynamoDbException|WrappedHttpHandler.php|{Aws\\WrappedHttpHandler, /var/www/create.leadid.com/webroot/2.12.1/vendor/aws/aws-sdk-php/src/WrappedHttpHandler.php, 97, parseError}                         |create-other-prod-0dab316da5be365c7.leadid.com|create.leadid.com|/2.12.1/SaveDeviceId.js?lac=CEC22BC0-D61E-81AA-EDC7-D24BFA82BE71&lck=CEC22BC0-FEED-BEEF-CAFE-D24BFA82BE71&methods=40&token=5EE73786-56CC-A0C1-3C6B-C6D1BCE8FC9D&uuid=eca4f18968dd44ea9702866fe82aa23e|GET              |141.158.48.165  |{CEC22BC0-D61E-81AA-EDC7-D24BFA82BE71, CEC22BC0-FEED-BEEF-CAFE-D24BFA82BE71, 40, 5EE73786-56CC-A0C1-3C6B-C6D1BCE8FC9D, eca4f18968dd44ea9702866fe82aa23e}|{*/*, gzip, deflate, br, en-US,en;q=0.9, , , create.leadid.com, https://deviceid.trueleadid.com/, script, no-cors, cross-site, Mozilla/5.0 (iPhone; CPU iPhone OS 16_7_5 like Mac OS X) AppleWebKit/605.1.15 (KHTML, like Gecko) Version/16.6 Mobile/15E148 Safari/604.1, Root=1-65ed05d1-422602304d53b79743e437fd, 141.158.48.165, 443, https}|{, , /var/www/create.leadid.com/webroot, /2.12.1/index.php, RESPONDER, CGI/1.1, Bristol, NA, US, 19007, PA, /home/leadid, on, */*, gzip, deflate, br, en-US,en;q=0.9, create.leadid.com, https://deviceid.trueleadid.com/, script, no-cors, cross-site, Mozilla/5.0 (iPhone; CPU iPhone OS 16_7_5 like Mac OS X) AppleWebKit/605.1.15 (KHTML, like Gecko) Version/16.6 Mobile/15E148 Safari/604.1, Root=1-65ed05d1-422602304d53b79743e437fd, 141.158.48.165, 443, https, 1, /2.12.1/index.php, lac=CEC22BC0-D61E-81AA-EDC7-D24BFA82BE71&lck=CEC22BC0-FEED-BEEF-CAFE-D24BFA82BE71&methods=40&token=5EE73786-56CC-A0C1-3C6B-C6D1BCE8FC9D&uuid=eca4f18968dd44ea9702866fe82aa23e, 200, 10.3.8.249, 15800, GET, https, 1710032337, 1710032337.037, /2.12.1/SaveDeviceId.js?lac=CEC22BC0-D61E-81AA-EDC7-D24BFA82BE71&lck=CEC22BC0-FEED-BEEF-CAFE-D24BFA82BE71&methods=40&token=5EE73786-56CC-A0C1-3C6B-C6D1BCE8FC9D&uuid=eca4f18968dd44ea9702866fe82aa23e, /var/www/create.leadid.com/webroot/2.12.1/index.php, /2.12.1/index.php, 10.3.5.235, create.leadid.com, 443, HTTP/1.1, nginx/1.20.2, leadid}|\n",
      "|Aws\\DynamoDb\\Exception\\DynamoDbException: Error executing \"UpdateItem\" on \"https://dynamodb.us-east-1.amazonaws.com\"; AWS HTTP error: Client error: `POST https://dynamodb.us-east-1.amazonaws.com` resulted in a `400 Bad Request` response:\\n{\"__type\":\"com.amazon.coral.validate#ValidationException\",\"message\":\"Item size to update has exceeded the maximum allowe (truncated...)\\n ValidationException (client): Item size to update has exceeded the maximum allowed size - {\"__type\":\"com.amazon.coral.validate#ValidationException\",\"message\":\"Item size to update has exceeded the maximum allowed size\"}|Aws\\DynamoDb\\Exception\\DynamoDbException|WrappedHttpHandler.php|{Aws\\WrappedHttpHandler, /var/www/create.leadid.com/webroot/2.12.1/vendor/guzzlehttp/promises/src/Promise.php, 204, Aws\\{closure}}                            |create-other-prod-0dab316da5be365c7.leadid.com|create.leadid.com|/2.12.1/SaveDeviceId.js?lac=CEC22BC0-D61E-81AA-EDC7-D24BFA82BE71&lck=CEC22BC0-FEED-BEEF-CAFE-D24BFA82BE71&methods=40&token=5EE73786-56CC-A0C1-3C6B-C6D1BCE8FC9D&uuid=eca4f18968dd44ea9702866fe82aa23e|GET              |141.158.48.165  |{CEC22BC0-D61E-81AA-EDC7-D24BFA82BE71, CEC22BC0-FEED-BEEF-CAFE-D24BFA82BE71, 40, 5EE73786-56CC-A0C1-3C6B-C6D1BCE8FC9D, eca4f18968dd44ea9702866fe82aa23e}|{*/*, gzip, deflate, br, en-US,en;q=0.9, , , create.leadid.com, https://deviceid.trueleadid.com/, script, no-cors, cross-site, Mozilla/5.0 (iPhone; CPU iPhone OS 16_7_5 like Mac OS X) AppleWebKit/605.1.15 (KHTML, like Gecko) Version/16.6 Mobile/15E148 Safari/604.1, Root=1-65ed05d1-422602304d53b79743e437fd, 141.158.48.165, 443, https}|{, , /var/www/create.leadid.com/webroot, /2.12.1/index.php, RESPONDER, CGI/1.1, Bristol, NA, US, 19007, PA, /home/leadid, on, */*, gzip, deflate, br, en-US,en;q=0.9, create.leadid.com, https://deviceid.trueleadid.com/, script, no-cors, cross-site, Mozilla/5.0 (iPhone; CPU iPhone OS 16_7_5 like Mac OS X) AppleWebKit/605.1.15 (KHTML, like Gecko) Version/16.6 Mobile/15E148 Safari/604.1, Root=1-65ed05d1-422602304d53b79743e437fd, 141.158.48.165, 443, https, 1, /2.12.1/index.php, lac=CEC22BC0-D61E-81AA-EDC7-D24BFA82BE71&lck=CEC22BC0-FEED-BEEF-CAFE-D24BFA82BE71&methods=40&token=5EE73786-56CC-A0C1-3C6B-C6D1BCE8FC9D&uuid=eca4f18968dd44ea9702866fe82aa23e, 200, 10.3.8.249, 15800, GET, https, 1710032337, 1710032337.037, /2.12.1/SaveDeviceId.js?lac=CEC22BC0-D61E-81AA-EDC7-D24BFA82BE71&lck=CEC22BC0-FEED-BEEF-CAFE-D24BFA82BE71&methods=40&token=5EE73786-56CC-A0C1-3C6B-C6D1BCE8FC9D&uuid=eca4f18968dd44ea9702866fe82aa23e, /var/www/create.leadid.com/webroot/2.12.1/index.php, /2.12.1/index.php, 10.3.5.235, create.leadid.com, 443, HTTP/1.1, nginx/1.20.2, leadid}|\n",
      "|Aws\\DynamoDb\\Exception\\DynamoDbException: Error executing \"UpdateItem\" on \"https://dynamodb.us-east-1.amazonaws.com\"; AWS HTTP error: Client error: `POST https://dynamodb.us-east-1.amazonaws.com` resulted in a `400 Bad Request` response:\\n{\"__type\":\"com.amazon.coral.validate#ValidationException\",\"message\":\"Item size to update has exceeded the maximum allowe (truncated...)\\n ValidationException (client): Item size to update has exceeded the maximum allowed size - {\"__type\":\"com.amazon.coral.validate#ValidationException\",\"message\":\"Item size to update has exceeded the maximum allowed size\"}|Aws\\DynamoDb\\Exception\\DynamoDbException|WrappedHttpHandler.php|{GuzzleHttp\\Promise\\Promise, /var/www/create.leadid.com/webroot/2.12.1/vendor/guzzlehttp/promises/src/Promise.php, 169, callHandler}                          |create-other-prod-0dab316da5be365c7.leadid.com|create.leadid.com|/2.12.1/SaveDeviceId.js?lac=CEC22BC0-D61E-81AA-EDC7-D24BFA82BE71&lck=CEC22BC0-FEED-BEEF-CAFE-D24BFA82BE71&methods=40&token=5EE73786-56CC-A0C1-3C6B-C6D1BCE8FC9D&uuid=eca4f18968dd44ea9702866fe82aa23e|GET              |141.158.48.165  |{CEC22BC0-D61E-81AA-EDC7-D24BFA82BE71, CEC22BC0-FEED-BEEF-CAFE-D24BFA82BE71, 40, 5EE73786-56CC-A0C1-3C6B-C6D1BCE8FC9D, eca4f18968dd44ea9702866fe82aa23e}|{*/*, gzip, deflate, br, en-US,en;q=0.9, , , create.leadid.com, https://deviceid.trueleadid.com/, script, no-cors, cross-site, Mozilla/5.0 (iPhone; CPU iPhone OS 16_7_5 like Mac OS X) AppleWebKit/605.1.15 (KHTML, like Gecko) Version/16.6 Mobile/15E148 Safari/604.1, Root=1-65ed05d1-422602304d53b79743e437fd, 141.158.48.165, 443, https}|{, , /var/www/create.leadid.com/webroot, /2.12.1/index.php, RESPONDER, CGI/1.1, Bristol, NA, US, 19007, PA, /home/leadid, on, */*, gzip, deflate, br, en-US,en;q=0.9, create.leadid.com, https://deviceid.trueleadid.com/, script, no-cors, cross-site, Mozilla/5.0 (iPhone; CPU iPhone OS 16_7_5 like Mac OS X) AppleWebKit/605.1.15 (KHTML, like Gecko) Version/16.6 Mobile/15E148 Safari/604.1, Root=1-65ed05d1-422602304d53b79743e437fd, 141.158.48.165, 443, https, 1, /2.12.1/index.php, lac=CEC22BC0-D61E-81AA-EDC7-D24BFA82BE71&lck=CEC22BC0-FEED-BEEF-CAFE-D24BFA82BE71&methods=40&token=5EE73786-56CC-A0C1-3C6B-C6D1BCE8FC9D&uuid=eca4f18968dd44ea9702866fe82aa23e, 200, 10.3.8.249, 15800, GET, https, 1710032337, 1710032337.037, /2.12.1/SaveDeviceId.js?lac=CEC22BC0-D61E-81AA-EDC7-D24BFA82BE71&lck=CEC22BC0-FEED-BEEF-CAFE-D24BFA82BE71&methods=40&token=5EE73786-56CC-A0C1-3C6B-C6D1BCE8FC9D&uuid=eca4f18968dd44ea9702866fe82aa23e, /var/www/create.leadid.com/webroot/2.12.1/index.php, /2.12.1/index.php, 10.3.5.235, create.leadid.com, 443, HTTP/1.1, nginx/1.20.2, leadid}|\n",
      "|Aws\\DynamoDb\\Exception\\DynamoDbException: Error executing \"UpdateItem\" on \"https://dynamodb.us-east-1.amazonaws.com\"; AWS HTTP error: Client error: `POST https://dynamodb.us-east-1.amazonaws.com` resulted in a `400 Bad Request` response:\\n{\"__type\":\"com.amazon.coral.validate#ValidationException\",\"message\":\"Item size to update has exceeded the maximum allowe (truncated...)\\n ValidationException (client): Item size to update has exceeded the maximum allowed size - {\"__type\":\"com.amazon.coral.validate#ValidationException\",\"message\":\"Item size to update has exceeded the maximum allowed size\"}|Aws\\DynamoDb\\Exception\\DynamoDbException|WrappedHttpHandler.php|{GuzzleHttp\\Promise\\Promise, /var/www/create.leadid.com/webroot/2.12.1/vendor/guzzlehttp/promises/src/RejectedPromise.php, 42, GuzzleHttp\\Promise\\{closure}}  |create-other-prod-0dab316da5be365c7.leadid.com|create.leadid.com|/2.12.1/SaveDeviceId.js?lac=CEC22BC0-D61E-81AA-EDC7-D24BFA82BE71&lck=CEC22BC0-FEED-BEEF-CAFE-D24BFA82BE71&methods=40&token=5EE73786-56CC-A0C1-3C6B-C6D1BCE8FC9D&uuid=eca4f18968dd44ea9702866fe82aa23e|GET              |141.158.48.165  |{CEC22BC0-D61E-81AA-EDC7-D24BFA82BE71, CEC22BC0-FEED-BEEF-CAFE-D24BFA82BE71, 40, 5EE73786-56CC-A0C1-3C6B-C6D1BCE8FC9D, eca4f18968dd44ea9702866fe82aa23e}|{*/*, gzip, deflate, br, en-US,en;q=0.9, , , create.leadid.com, https://deviceid.trueleadid.com/, script, no-cors, cross-site, Mozilla/5.0 (iPhone; CPU iPhone OS 16_7_5 like Mac OS X) AppleWebKit/605.1.15 (KHTML, like Gecko) Version/16.6 Mobile/15E148 Safari/604.1, Root=1-65ed05d1-422602304d53b79743e437fd, 141.158.48.165, 443, https}|{, , /var/www/create.leadid.com/webroot, /2.12.1/index.php, RESPONDER, CGI/1.1, Bristol, NA, US, 19007, PA, /home/leadid, on, */*, gzip, deflate, br, en-US,en;q=0.9, create.leadid.com, https://deviceid.trueleadid.com/, script, no-cors, cross-site, Mozilla/5.0 (iPhone; CPU iPhone OS 16_7_5 like Mac OS X) AppleWebKit/605.1.15 (KHTML, like Gecko) Version/16.6 Mobile/15E148 Safari/604.1, Root=1-65ed05d1-422602304d53b79743e437fd, 141.158.48.165, 443, https, 1, /2.12.1/index.php, lac=CEC22BC0-D61E-81AA-EDC7-D24BFA82BE71&lck=CEC22BC0-FEED-BEEF-CAFE-D24BFA82BE71&methods=40&token=5EE73786-56CC-A0C1-3C6B-C6D1BCE8FC9D&uuid=eca4f18968dd44ea9702866fe82aa23e, 200, 10.3.8.249, 15800, GET, https, 1710032337, 1710032337.037, /2.12.1/SaveDeviceId.js?lac=CEC22BC0-D61E-81AA-EDC7-D24BFA82BE71&lck=CEC22BC0-FEED-BEEF-CAFE-D24BFA82BE71&methods=40&token=5EE73786-56CC-A0C1-3C6B-C6D1BCE8FC9D&uuid=eca4f18968dd44ea9702866fe82aa23e, /var/www/create.leadid.com/webroot/2.12.1/index.php, /2.12.1/index.php, 10.3.5.235, create.leadid.com, 443, HTTP/1.1, nginx/1.20.2, leadid}|\n",
      "|Aws\\DynamoDb\\Exception\\DynamoDbException: Error executing \"UpdateItem\" on \"https://dynamodb.us-east-1.amazonaws.com\"; AWS HTTP error: Client error: `POST https://dynamodb.us-east-1.amazonaws.com` resulted in a `400 Bad Request` response:\\n{\"__type\":\"com.amazon.coral.validate#ValidationException\",\"message\":\"Item size to update has exceeded the maximum allowe (truncated...)\\n ValidationException (client): Item size to update has exceeded the maximum allowed size - {\"__type\":\"com.amazon.coral.validate#ValidationException\",\"message\":\"Item size to update has exceeded the maximum allowed size\"}|Aws\\DynamoDb\\Exception\\DynamoDbException|WrappedHttpHandler.php|{GuzzleHttp\\Promise\\RejectedPromise, /var/www/create.leadid.com/webroot/2.12.1/vendor/guzzlehttp/promises/src/TaskQueue.php, 48, GuzzleHttp\\Promise\\{closure}}|create-other-prod-0dab316da5be365c7.leadid.com|create.leadid.com|/2.12.1/SaveDeviceId.js?lac=CEC22BC0-D61E-81AA-EDC7-D24BFA82BE71&lck=CEC22BC0-FEED-BEEF-CAFE-D24BFA82BE71&methods=40&token=5EE73786-56CC-A0C1-3C6B-C6D1BCE8FC9D&uuid=eca4f18968dd44ea9702866fe82aa23e|GET              |141.158.48.165  |{CEC22BC0-D61E-81AA-EDC7-D24BFA82BE71, CEC22BC0-FEED-BEEF-CAFE-D24BFA82BE71, 40, 5EE73786-56CC-A0C1-3C6B-C6D1BCE8FC9D, eca4f18968dd44ea9702866fe82aa23e}|{*/*, gzip, deflate, br, en-US,en;q=0.9, , , create.leadid.com, https://deviceid.trueleadid.com/, script, no-cors, cross-site, Mozilla/5.0 (iPhone; CPU iPhone OS 16_7_5 like Mac OS X) AppleWebKit/605.1.15 (KHTML, like Gecko) Version/16.6 Mobile/15E148 Safari/604.1, Root=1-65ed05d1-422602304d53b79743e437fd, 141.158.48.165, 443, https}|{, , /var/www/create.leadid.com/webroot, /2.12.1/index.php, RESPONDER, CGI/1.1, Bristol, NA, US, 19007, PA, /home/leadid, on, */*, gzip, deflate, br, en-US,en;q=0.9, create.leadid.com, https://deviceid.trueleadid.com/, script, no-cors, cross-site, Mozilla/5.0 (iPhone; CPU iPhone OS 16_7_5 like Mac OS X) AppleWebKit/605.1.15 (KHTML, like Gecko) Version/16.6 Mobile/15E148 Safari/604.1, Root=1-65ed05d1-422602304d53b79743e437fd, 141.158.48.165, 443, https, 1, /2.12.1/index.php, lac=CEC22BC0-D61E-81AA-EDC7-D24BFA82BE71&lck=CEC22BC0-FEED-BEEF-CAFE-D24BFA82BE71&methods=40&token=5EE73786-56CC-A0C1-3C6B-C6D1BCE8FC9D&uuid=eca4f18968dd44ea9702866fe82aa23e, 200, 10.3.8.249, 15800, GET, https, 1710032337, 1710032337.037, /2.12.1/SaveDeviceId.js?lac=CEC22BC0-D61E-81AA-EDC7-D24BFA82BE71&lck=CEC22BC0-FEED-BEEF-CAFE-D24BFA82BE71&methods=40&token=5EE73786-56CC-A0C1-3C6B-C6D1BCE8FC9D&uuid=eca4f18968dd44ea9702866fe82aa23e, /var/www/create.leadid.com/webroot/2.12.1/index.php, /2.12.1/index.php, 10.3.5.235, create.leadid.com, 443, HTTP/1.1, nginx/1.20.2, leadid}|\n",
      "|Aws\\DynamoDb\\Exception\\DynamoDbException: Error executing \"UpdateItem\" on \"https://dynamodb.us-east-1.amazonaws.com\"; AWS HTTP error: Client error: `POST https://dynamodb.us-east-1.amazonaws.com` resulted in a `400 Bad Request` response:\\n{\"__type\":\"com.amazon.coral.validate#ValidationException\",\"message\":\"Item size to update has exceeded the maximum allowe (truncated...)\\n ValidationException (client): Item size to update has exceeded the maximum allowed size - {\"__type\":\"com.amazon.coral.validate#ValidationException\",\"message\":\"Item size to update has exceeded the maximum allowed size\"}|Aws\\DynamoDb\\Exception\\DynamoDbException|WrappedHttpHandler.php|{GuzzleHttp\\Promise\\TaskQueue, /var/www/create.leadid.com/webroot/2.12.1/vendor/guzzlehttp/guzzle/src/Handler/CurlMultiHandler.php, 158, run}                 |create-other-prod-0dab316da5be365c7.leadid.com|create.leadid.com|/2.12.1/SaveDeviceId.js?lac=CEC22BC0-D61E-81AA-EDC7-D24BFA82BE71&lck=CEC22BC0-FEED-BEEF-CAFE-D24BFA82BE71&methods=40&token=5EE73786-56CC-A0C1-3C6B-C6D1BCE8FC9D&uuid=eca4f18968dd44ea9702866fe82aa23e|GET              |141.158.48.165  |{CEC22BC0-D61E-81AA-EDC7-D24BFA82BE71, CEC22BC0-FEED-BEEF-CAFE-D24BFA82BE71, 40, 5EE73786-56CC-A0C1-3C6B-C6D1BCE8FC9D, eca4f18968dd44ea9702866fe82aa23e}|{*/*, gzip, deflate, br, en-US,en;q=0.9, , , create.leadid.com, https://deviceid.trueleadid.com/, script, no-cors, cross-site, Mozilla/5.0 (iPhone; CPU iPhone OS 16_7_5 like Mac OS X) AppleWebKit/605.1.15 (KHTML, like Gecko) Version/16.6 Mobile/15E148 Safari/604.1, Root=1-65ed05d1-422602304d53b79743e437fd, 141.158.48.165, 443, https}|{, , /var/www/create.leadid.com/webroot, /2.12.1/index.php, RESPONDER, CGI/1.1, Bristol, NA, US, 19007, PA, /home/leadid, on, */*, gzip, deflate, br, en-US,en;q=0.9, create.leadid.com, https://deviceid.trueleadid.com/, script, no-cors, cross-site, Mozilla/5.0 (iPhone; CPU iPhone OS 16_7_5 like Mac OS X) AppleWebKit/605.1.15 (KHTML, like Gecko) Version/16.6 Mobile/15E148 Safari/604.1, Root=1-65ed05d1-422602304d53b79743e437fd, 141.158.48.165, 443, https, 1, /2.12.1/index.php, lac=CEC22BC0-D61E-81AA-EDC7-D24BFA82BE71&lck=CEC22BC0-FEED-BEEF-CAFE-D24BFA82BE71&methods=40&token=5EE73786-56CC-A0C1-3C6B-C6D1BCE8FC9D&uuid=eca4f18968dd44ea9702866fe82aa23e, 200, 10.3.8.249, 15800, GET, https, 1710032337, 1710032337.037, /2.12.1/SaveDeviceId.js?lac=CEC22BC0-D61E-81AA-EDC7-D24BFA82BE71&lck=CEC22BC0-FEED-BEEF-CAFE-D24BFA82BE71&methods=40&token=5EE73786-56CC-A0C1-3C6B-C6D1BCE8FC9D&uuid=eca4f18968dd44ea9702866fe82aa23e, /var/www/create.leadid.com/webroot/2.12.1/index.php, /2.12.1/index.php, 10.3.5.235, create.leadid.com, 443, HTTP/1.1, nginx/1.20.2, leadid}|\n",
      "|Aws\\DynamoDb\\Exception\\DynamoDbException: Error executing \"UpdateItem\" on \"https://dynamodb.us-east-1.amazonaws.com\"; AWS HTTP error: Client error: `POST https://dynamodb.us-east-1.amazonaws.com` resulted in a `400 Bad Request` response:\\n{\"__type\":\"com.amazon.coral.validate#ValidationException\",\"message\":\"Item size to update has exceeded the maximum allowe (truncated...)\\n ValidationException (client): Item size to update has exceeded the maximum allowed size - {\"__type\":\"com.amazon.coral.validate#ValidationException\",\"message\":\"Item size to update has exceeded the maximum allowed size\"}|Aws\\DynamoDb\\Exception\\DynamoDbException|WrappedHttpHandler.php|{GuzzleHttp\\Handler\\CurlMultiHandler, /var/www/create.leadid.com/webroot/2.12.1/vendor/guzzlehttp/guzzle/src/Handler/CurlMultiHandler.php, 183, tick}         |create-other-prod-0dab316da5be365c7.leadid.com|create.leadid.com|/2.12.1/SaveDeviceId.js?lac=CEC22BC0-D61E-81AA-EDC7-D24BFA82BE71&lck=CEC22BC0-FEED-BEEF-CAFE-D24BFA82BE71&methods=40&token=5EE73786-56CC-A0C1-3C6B-C6D1BCE8FC9D&uuid=eca4f18968dd44ea9702866fe82aa23e|GET              |141.158.48.165  |{CEC22BC0-D61E-81AA-EDC7-D24BFA82BE71, CEC22BC0-FEED-BEEF-CAFE-D24BFA82BE71, 40, 5EE73786-56CC-A0C1-3C6B-C6D1BCE8FC9D, eca4f18968dd44ea9702866fe82aa23e}|{*/*, gzip, deflate, br, en-US,en;q=0.9, , , create.leadid.com, https://deviceid.trueleadid.com/, script, no-cors, cross-site, Mozilla/5.0 (iPhone; CPU iPhone OS 16_7_5 like Mac OS X) AppleWebKit/605.1.15 (KHTML, like Gecko) Version/16.6 Mobile/15E148 Safari/604.1, Root=1-65ed05d1-422602304d53b79743e437fd, 141.158.48.165, 443, https}|{, , /var/www/create.leadid.com/webroot, /2.12.1/index.php, RESPONDER, CGI/1.1, Bristol, NA, US, 19007, PA, /home/leadid, on, */*, gzip, deflate, br, en-US,en;q=0.9, create.leadid.com, https://deviceid.trueleadid.com/, script, no-cors, cross-site, Mozilla/5.0 (iPhone; CPU iPhone OS 16_7_5 like Mac OS X) AppleWebKit/605.1.15 (KHTML, like Gecko) Version/16.6 Mobile/15E148 Safari/604.1, Root=1-65ed05d1-422602304d53b79743e437fd, 141.158.48.165, 443, https, 1, /2.12.1/index.php, lac=CEC22BC0-D61E-81AA-EDC7-D24BFA82BE71&lck=CEC22BC0-FEED-BEEF-CAFE-D24BFA82BE71&methods=40&token=5EE73786-56CC-A0C1-3C6B-C6D1BCE8FC9D&uuid=eca4f18968dd44ea9702866fe82aa23e, 200, 10.3.8.249, 15800, GET, https, 1710032337, 1710032337.037, /2.12.1/SaveDeviceId.js?lac=CEC22BC0-D61E-81AA-EDC7-D24BFA82BE71&lck=CEC22BC0-FEED-BEEF-CAFE-D24BFA82BE71&methods=40&token=5EE73786-56CC-A0C1-3C6B-C6D1BCE8FC9D&uuid=eca4f18968dd44ea9702866fe82aa23e, /var/www/create.leadid.com/webroot/2.12.1/index.php, /2.12.1/index.php, 10.3.5.235, create.leadid.com, 443, HTTP/1.1, nginx/1.20.2, leadid}|\n",
      "|Aws\\DynamoDb\\Exception\\DynamoDbException: Error executing \"UpdateItem\" on \"https://dynamodb.us-east-1.amazonaws.com\"; AWS HTTP error: Client error: `POST https://dynamodb.us-east-1.amazonaws.com` resulted in a `400 Bad Request` response:\\n{\"__type\":\"com.amazon.coral.validate#ValidationException\",\"message\":\"Item size to update has exceeded the maximum allowe (truncated...)\\n ValidationException (client): Item size to update has exceeded the maximum allowed size - {\"__type\":\"com.amazon.coral.validate#ValidationException\",\"message\":\"Item size to update has exceeded the maximum allowed size\"}|Aws\\DynamoDb\\Exception\\DynamoDbException|WrappedHttpHandler.php|{GuzzleHttp\\Handler\\CurlMultiHandler, /var/www/create.leadid.com/webroot/2.12.1/vendor/guzzlehttp/promises/src/Promise.php, 248, execute}                     |create-other-prod-0dab316da5be365c7.leadid.com|create.leadid.com|/2.12.1/SaveDeviceId.js?lac=CEC22BC0-D61E-81AA-EDC7-D24BFA82BE71&lck=CEC22BC0-FEED-BEEF-CAFE-D24BFA82BE71&methods=40&token=5EE73786-56CC-A0C1-3C6B-C6D1BCE8FC9D&uuid=eca4f18968dd44ea9702866fe82aa23e|GET              |141.158.48.165  |{CEC22BC0-D61E-81AA-EDC7-D24BFA82BE71, CEC22BC0-FEED-BEEF-CAFE-D24BFA82BE71, 40, 5EE73786-56CC-A0C1-3C6B-C6D1BCE8FC9D, eca4f18968dd44ea9702866fe82aa23e}|{*/*, gzip, deflate, br, en-US,en;q=0.9, , , create.leadid.com, https://deviceid.trueleadid.com/, script, no-cors, cross-site, Mozilla/5.0 (iPhone; CPU iPhone OS 16_7_5 like Mac OS X) AppleWebKit/605.1.15 (KHTML, like Gecko) Version/16.6 Mobile/15E148 Safari/604.1, Root=1-65ed05d1-422602304d53b79743e437fd, 141.158.48.165, 443, https}|{, , /var/www/create.leadid.com/webroot, /2.12.1/index.php, RESPONDER, CGI/1.1, Bristol, NA, US, 19007, PA, /home/leadid, on, */*, gzip, deflate, br, en-US,en;q=0.9, create.leadid.com, https://deviceid.trueleadid.com/, script, no-cors, cross-site, Mozilla/5.0 (iPhone; CPU iPhone OS 16_7_5 like Mac OS X) AppleWebKit/605.1.15 (KHTML, like Gecko) Version/16.6 Mobile/15E148 Safari/604.1, Root=1-65ed05d1-422602304d53b79743e437fd, 141.158.48.165, 443, https, 1, /2.12.1/index.php, lac=CEC22BC0-D61E-81AA-EDC7-D24BFA82BE71&lck=CEC22BC0-FEED-BEEF-CAFE-D24BFA82BE71&methods=40&token=5EE73786-56CC-A0C1-3C6B-C6D1BCE8FC9D&uuid=eca4f18968dd44ea9702866fe82aa23e, 200, 10.3.8.249, 15800, GET, https, 1710032337, 1710032337.037, /2.12.1/SaveDeviceId.js?lac=CEC22BC0-D61E-81AA-EDC7-D24BFA82BE71&lck=CEC22BC0-FEED-BEEF-CAFE-D24BFA82BE71&methods=40&token=5EE73786-56CC-A0C1-3C6B-C6D1BCE8FC9D&uuid=eca4f18968dd44ea9702866fe82aa23e, /var/www/create.leadid.com/webroot/2.12.1/index.php, /2.12.1/index.php, 10.3.5.235, create.leadid.com, 443, HTTP/1.1, nginx/1.20.2, leadid}|\n",
      "|Aws\\DynamoDb\\Exception\\DynamoDbException: Error executing \"UpdateItem\" on \"https://dynamodb.us-east-1.amazonaws.com\"; AWS HTTP error: Client error: `POST https://dynamodb.us-east-1.amazonaws.com` resulted in a `400 Bad Request` response:\\n{\"__type\":\"com.amazon.coral.validate#ValidationException\",\"message\":\"Item size to update has exceeded the maximum allowe (truncated...)\\n ValidationException (client): Item size to update has exceeded the maximum allowed size - {\"__type\":\"com.amazon.coral.validate#ValidationException\",\"message\":\"Item size to update has exceeded the maximum allowed size\"}|Aws\\DynamoDb\\Exception\\DynamoDbException|WrappedHttpHandler.php|{GuzzleHttp\\Promise\\Promise, /var/www/create.leadid.com/webroot/2.12.1/vendor/guzzlehttp/promises/src/Promise.php, 224, invokeWaitFn}                         |create-other-prod-0dab316da5be365c7.leadid.com|create.leadid.com|/2.12.1/SaveDeviceId.js?lac=CEC22BC0-D61E-81AA-EDC7-D24BFA82BE71&lck=CEC22BC0-FEED-BEEF-CAFE-D24BFA82BE71&methods=40&token=5EE73786-56CC-A0C1-3C6B-C6D1BCE8FC9D&uuid=eca4f18968dd44ea9702866fe82aa23e|GET              |141.158.48.165  |{CEC22BC0-D61E-81AA-EDC7-D24BFA82BE71, CEC22BC0-FEED-BEEF-CAFE-D24BFA82BE71, 40, 5EE73786-56CC-A0C1-3C6B-C6D1BCE8FC9D, eca4f18968dd44ea9702866fe82aa23e}|{*/*, gzip, deflate, br, en-US,en;q=0.9, , , create.leadid.com, https://deviceid.trueleadid.com/, script, no-cors, cross-site, Mozilla/5.0 (iPhone; CPU iPhone OS 16_7_5 like Mac OS X) AppleWebKit/605.1.15 (KHTML, like Gecko) Version/16.6 Mobile/15E148 Safari/604.1, Root=1-65ed05d1-422602304d53b79743e437fd, 141.158.48.165, 443, https}|{, , /var/www/create.leadid.com/webroot, /2.12.1/index.php, RESPONDER, CGI/1.1, Bristol, NA, US, 19007, PA, /home/leadid, on, */*, gzip, deflate, br, en-US,en;q=0.9, create.leadid.com, https://deviceid.trueleadid.com/, script, no-cors, cross-site, Mozilla/5.0 (iPhone; CPU iPhone OS 16_7_5 like Mac OS X) AppleWebKit/605.1.15 (KHTML, like Gecko) Version/16.6 Mobile/15E148 Safari/604.1, Root=1-65ed05d1-422602304d53b79743e437fd, 141.158.48.165, 443, https, 1, /2.12.1/index.php, lac=CEC22BC0-D61E-81AA-EDC7-D24BFA82BE71&lck=CEC22BC0-FEED-BEEF-CAFE-D24BFA82BE71&methods=40&token=5EE73786-56CC-A0C1-3C6B-C6D1BCE8FC9D&uuid=eca4f18968dd44ea9702866fe82aa23e, 200, 10.3.8.249, 15800, GET, https, 1710032337, 1710032337.037, /2.12.1/SaveDeviceId.js?lac=CEC22BC0-D61E-81AA-EDC7-D24BFA82BE71&lck=CEC22BC0-FEED-BEEF-CAFE-D24BFA82BE71&methods=40&token=5EE73786-56CC-A0C1-3C6B-C6D1BCE8FC9D&uuid=eca4f18968dd44ea9702866fe82aa23e, /var/www/create.leadid.com/webroot/2.12.1/index.php, /2.12.1/index.php, 10.3.5.235, create.leadid.com, 443, HTTP/1.1, nginx/1.20.2, leadid}|\n",
      "|Aws\\DynamoDb\\Exception\\DynamoDbException: Error executing \"UpdateItem\" on \"https://dynamodb.us-east-1.amazonaws.com\"; AWS HTTP error: Client error: `POST https://dynamodb.us-east-1.amazonaws.com` resulted in a `400 Bad Request` response:\\n{\"__type\":\"com.amazon.coral.validate#ValidationException\",\"message\":\"Item size to update has exceeded the maximum allowe (truncated...)\\n ValidationException (client): Item size to update has exceeded the maximum allowed size - {\"__type\":\"com.amazon.coral.validate#ValidationException\",\"message\":\"Item size to update has exceeded the maximum allowed size\"}|Aws\\DynamoDb\\Exception\\DynamoDbException|WrappedHttpHandler.php|{GuzzleHttp\\Promise\\Promise, /var/www/create.leadid.com/webroot/2.12.1/vendor/guzzlehttp/promises/src/Promise.php, 269, waitIfPending}                        |create-other-prod-0dab316da5be365c7.leadid.com|create.leadid.com|/2.12.1/SaveDeviceId.js?lac=CEC22BC0-D61E-81AA-EDC7-D24BFA82BE71&lck=CEC22BC0-FEED-BEEF-CAFE-D24BFA82BE71&methods=40&token=5EE73786-56CC-A0C1-3C6B-C6D1BCE8FC9D&uuid=eca4f18968dd44ea9702866fe82aa23e|GET              |141.158.48.165  |{CEC22BC0-D61E-81AA-EDC7-D24BFA82BE71, CEC22BC0-FEED-BEEF-CAFE-D24BFA82BE71, 40, 5EE73786-56CC-A0C1-3C6B-C6D1BCE8FC9D, eca4f18968dd44ea9702866fe82aa23e}|{*/*, gzip, deflate, br, en-US,en;q=0.9, , , create.leadid.com, https://deviceid.trueleadid.com/, script, no-cors, cross-site, Mozilla/5.0 (iPhone; CPU iPhone OS 16_7_5 like Mac OS X) AppleWebKit/605.1.15 (KHTML, like Gecko) Version/16.6 Mobile/15E148 Safari/604.1, Root=1-65ed05d1-422602304d53b79743e437fd, 141.158.48.165, 443, https}|{, , /var/www/create.leadid.com/webroot, /2.12.1/index.php, RESPONDER, CGI/1.1, Bristol, NA, US, 19007, PA, /home/leadid, on, */*, gzip, deflate, br, en-US,en;q=0.9, create.leadid.com, https://deviceid.trueleadid.com/, script, no-cors, cross-site, Mozilla/5.0 (iPhone; CPU iPhone OS 16_7_5 like Mac OS X) AppleWebKit/605.1.15 (KHTML, like Gecko) Version/16.6 Mobile/15E148 Safari/604.1, Root=1-65ed05d1-422602304d53b79743e437fd, 141.158.48.165, 443, https, 1, /2.12.1/index.php, lac=CEC22BC0-D61E-81AA-EDC7-D24BFA82BE71&lck=CEC22BC0-FEED-BEEF-CAFE-D24BFA82BE71&methods=40&token=5EE73786-56CC-A0C1-3C6B-C6D1BCE8FC9D&uuid=eca4f18968dd44ea9702866fe82aa23e, 200, 10.3.8.249, 15800, GET, https, 1710032337, 1710032337.037, /2.12.1/SaveDeviceId.js?lac=CEC22BC0-D61E-81AA-EDC7-D24BFA82BE71&lck=CEC22BC0-FEED-BEEF-CAFE-D24BFA82BE71&methods=40&token=5EE73786-56CC-A0C1-3C6B-C6D1BCE8FC9D&uuid=eca4f18968dd44ea9702866fe82aa23e, /var/www/create.leadid.com/webroot/2.12.1/index.php, /2.12.1/index.php, 10.3.5.235, create.leadid.com, 443, HTTP/1.1, nginx/1.20.2, leadid}|\n",
      "+-------------------------------------------------------------------------------------------------------------------------------------------------------------------------------------------------------------------------------------------------------------------------------------------------------------------------------------------------------------------------------------------------------------------------------------------------------------------------------------------------------------------------------------------------------------------------------------------------------------------+----------------------------------------+----------------------+--------------------------------------------------------------------------------------------------------------------------------------------------------------+----------------------------------------------+-----------------+-----------------------------------------------------------------------------------------------------------------------------------------------------------------------------------------------------+-----------------+----------------+--------------------------------------------------------------------------------------------------------------------------------------------------------+-----------------------------------------------------------------------------------------------------------------------------------------------------------------------------------------------------------------------------------------------------------------------------------------------------------------------------------------------+------------------------------------------------------------------------------------------------------------------------------------------------------------------------------------------------------------------------------------------------------------------------------------------------------------------------------------------------------------------------------------------------------------------------------------------------------------------------------------------------------------------------------------------------------------------------------------------------------------------------------------------------------------------------------------------------------------------------------------------------------------------------------------------------------------------------------------------------------------------------------------------------------------------------------------------------------------------------------------------------------------------------------------------------------------------------------------------------+\n",
      "\n"
     ]
    }
   ],
   "source": [
    "# Verify the data is saved correctly\n",
    "spark.sql(\"SELECT * FROM raygun_error_traces LIMIT 10\").show(truncate=False)"
   ]
  },
  {
   "cell_type": "code",
   "execution_count": 73,
   "metadata": {},
   "outputs": [
    {
     "name": "stdout",
     "output_type": "stream",
     "text": [
      "+----------------+\n",
      "|RequestIpAddress|\n",
      "+----------------+\n",
      "|141.158.48.165  |\n",
      "|174.231.133.8   |\n",
      "|47.34.163.48    |\n",
      "|172.58.166.179  |\n",
      "+----------------+\n",
      "\n"
     ]
    }
   ],
   "source": [
    "# Get the IP addresses summary\n",
    "spark.sql(\"SELECT RequestIpAddress FROM raygun_error_traces GROUP BY RequestIpAddress\").show(truncate=False)"
   ]
  },
  {
   "cell_type": "markdown",
   "metadata": {},
   "source": [
    "Step 5: Query with Trino"
   ]
  },
  {
   "cell_type": "code",
   "execution_count": 62,
   "metadata": {},
   "outputs": [],
   "source": [
    "# Connect to Trino\n",
    "\n",
    "# With trino-python-client\n",
    "# https://github.com/trinodb/trino-python-client\n",
    "\n",
    "from trino.dbapi import connect\n",
    "conn = connect(\n",
    "    host='trino',\n",
    "    port=8081,\n",
    "    user='admin',\n",
    "    catalog='hive',\n",
    "    schema='default',\n",
    ")\n",
    "# Create a cursor object using the cursor() method\n",
    "cursor = conn.cursor()"
   ]
  },
  {
   "cell_type": "code",
   "execution_count": 63,
   "metadata": {},
   "outputs": [],
   "source": [
    "# Connect to Trino\n",
    "\n",
    "# With SQLAlchhemy\n",
    "# https://github.com/trinodb/trino-python-client?tab=readme-ov-file#sqlalchemy\n",
    "\n",
    "# engine = create_engine('trino://admin@trino:8081')\n",
    "# conn = engine.connect()"
   ]
  },
  {
   "cell_type": "code",
   "execution_count": 74,
   "metadata": {},
   "outputs": [
    {
     "ename": "TrinoExternalError",
     "evalue": "TrinoExternalError(type=EXTERNAL, name=HIVE_FILE_NOT_FOUND, message=\"Partition location does not exist: file:/opt/hive/data/warehouse/raygun_error_traces\", query_id=20240612_152818_00004_7zbnr)",
     "output_type": "error",
     "traceback": [
      "\u001b[0;31m---------------------------------------------------------------------------\u001b[0m",
      "\u001b[0;31mTrinoExternalError\u001b[0m                        Traceback (most recent call last)",
      "Cell \u001b[0;32mIn[74], line 2\u001b[0m\n\u001b[1;32m      1\u001b[0m \u001b[38;5;66;03m# Execute a query\u001b[39;00m\n\u001b[0;32m----> 2\u001b[0m \u001b[43mcursor\u001b[49m\u001b[38;5;241;43m.\u001b[39;49m\u001b[43mexecute\u001b[49m\u001b[43m(\u001b[49m\u001b[38;5;124;43m\"\u001b[39;49m\u001b[38;5;124;43mSELECT * FROM raygun_error_traces LIMIT 10\u001b[39;49m\u001b[38;5;124;43m\"\u001b[39;49m\u001b[43m)\u001b[49m\n",
      "File \u001b[0;32m/home/PyCon2024/venv/lib/python3.11/site-packages/trino/dbapi.py:589\u001b[0m, in \u001b[0;36mCursor.execute\u001b[0;34m(self, operation, params)\u001b[0m\n\u001b[1;32m    586\u001b[0m \u001b[38;5;28;01melse\u001b[39;00m:\n\u001b[1;32m    587\u001b[0m     \u001b[38;5;28mself\u001b[39m\u001b[38;5;241m.\u001b[39m_query \u001b[38;5;241m=\u001b[39m trino\u001b[38;5;241m.\u001b[39mclient\u001b[38;5;241m.\u001b[39mTrinoQuery(\u001b[38;5;28mself\u001b[39m\u001b[38;5;241m.\u001b[39m_request, query\u001b[38;5;241m=\u001b[39moperation,\n\u001b[1;32m    588\u001b[0m                                           legacy_primitive_types\u001b[38;5;241m=\u001b[39m\u001b[38;5;28mself\u001b[39m\u001b[38;5;241m.\u001b[39m_legacy_primitive_types)\n\u001b[0;32m--> 589\u001b[0m     \u001b[38;5;28mself\u001b[39m\u001b[38;5;241m.\u001b[39m_iterator \u001b[38;5;241m=\u001b[39m \u001b[38;5;28miter\u001b[39m(\u001b[38;5;28;43mself\u001b[39;49m\u001b[38;5;241;43m.\u001b[39;49m\u001b[43m_query\u001b[49m\u001b[38;5;241;43m.\u001b[39;49m\u001b[43mexecute\u001b[49m\u001b[43m(\u001b[49m\u001b[43m)\u001b[49m)\n\u001b[1;32m    590\u001b[0m \u001b[38;5;28;01mreturn\u001b[39;00m \u001b[38;5;28mself\u001b[39m\n",
      "File \u001b[0;32m/home/PyCon2024/venv/lib/python3.11/site-packages/trino/client.py:797\u001b[0m, in \u001b[0;36mTrinoQuery.execute\u001b[0;34m(self, additional_http_headers)\u001b[0m\n\u001b[1;32m    795\u001b[0m \u001b[38;5;66;03m# Execute should block until at least one row is received or query is finished or cancelled\u001b[39;00m\n\u001b[1;32m    796\u001b[0m \u001b[38;5;28;01mwhile\u001b[39;00m \u001b[38;5;129;01mnot\u001b[39;00m \u001b[38;5;28mself\u001b[39m\u001b[38;5;241m.\u001b[39mfinished \u001b[38;5;129;01mand\u001b[39;00m \u001b[38;5;129;01mnot\u001b[39;00m \u001b[38;5;28mself\u001b[39m\u001b[38;5;241m.\u001b[39mcancelled \u001b[38;5;129;01mand\u001b[39;00m \u001b[38;5;28mlen\u001b[39m(\u001b[38;5;28mself\u001b[39m\u001b[38;5;241m.\u001b[39m_result\u001b[38;5;241m.\u001b[39mrows) \u001b[38;5;241m==\u001b[39m \u001b[38;5;241m0\u001b[39m:\n\u001b[0;32m--> 797\u001b[0m     \u001b[38;5;28mself\u001b[39m\u001b[38;5;241m.\u001b[39m_result\u001b[38;5;241m.\u001b[39mrows \u001b[38;5;241m+\u001b[39m\u001b[38;5;241m=\u001b[39m \u001b[38;5;28;43mself\u001b[39;49m\u001b[38;5;241;43m.\u001b[39;49m\u001b[43mfetch\u001b[49m\u001b[43m(\u001b[49m\u001b[43m)\u001b[49m\n\u001b[1;32m    798\u001b[0m \u001b[38;5;28;01mreturn\u001b[39;00m \u001b[38;5;28mself\u001b[39m\u001b[38;5;241m.\u001b[39m_result\n",
      "File \u001b[0;32m/home/PyCon2024/venv/lib/python3.11/site-packages/trino/client.py:817\u001b[0m, in \u001b[0;36mTrinoQuery.fetch\u001b[0;34m(self)\u001b[0m\n\u001b[1;32m    815\u001b[0m \u001b[38;5;28;01mexcept\u001b[39;00m requests\u001b[38;5;241m.\u001b[39mexceptions\u001b[38;5;241m.\u001b[39mRequestException \u001b[38;5;28;01mas\u001b[39;00m e:\n\u001b[1;32m    816\u001b[0m     \u001b[38;5;28;01mraise\u001b[39;00m trino\u001b[38;5;241m.\u001b[39mexceptions\u001b[38;5;241m.\u001b[39mTrinoConnectionError(\u001b[38;5;124m\"\u001b[39m\u001b[38;5;124mfailed to fetch: \u001b[39m\u001b[38;5;132;01m{}\u001b[39;00m\u001b[38;5;124m\"\u001b[39m\u001b[38;5;241m.\u001b[39mformat(e))\n\u001b[0;32m--> 817\u001b[0m status \u001b[38;5;241m=\u001b[39m \u001b[38;5;28;43mself\u001b[39;49m\u001b[38;5;241;43m.\u001b[39;49m\u001b[43m_request\u001b[49m\u001b[38;5;241;43m.\u001b[39;49m\u001b[43mprocess\u001b[49m\u001b[43m(\u001b[49m\u001b[43mresponse\u001b[49m\u001b[43m)\u001b[49m\n\u001b[1;32m    818\u001b[0m \u001b[38;5;28mself\u001b[39m\u001b[38;5;241m.\u001b[39m_update_state(status)\n\u001b[1;32m    819\u001b[0m \u001b[38;5;28;01mif\u001b[39;00m status\u001b[38;5;241m.\u001b[39mnext_uri \u001b[38;5;129;01mis\u001b[39;00m \u001b[38;5;28;01mNone\u001b[39;00m:\n",
      "File \u001b[0;32m/home/PyCon2024/venv/lib/python3.11/site-packages/trino/client.py:595\u001b[0m, in \u001b[0;36mTrinoRequest.process\u001b[0;34m(self, http_response)\u001b[0m\n\u001b[1;32m    593\u001b[0m response \u001b[38;5;241m=\u001b[39m http_response\u001b[38;5;241m.\u001b[39mjson()\n\u001b[1;32m    594\u001b[0m \u001b[38;5;28;01mif\u001b[39;00m \u001b[38;5;124m\"\u001b[39m\u001b[38;5;124merror\u001b[39m\u001b[38;5;124m\"\u001b[39m \u001b[38;5;129;01min\u001b[39;00m response:\n\u001b[0;32m--> 595\u001b[0m     \u001b[38;5;28;01mraise\u001b[39;00m \u001b[38;5;28;43mself\u001b[39;49m\u001b[38;5;241;43m.\u001b[39;49m\u001b[43m_process_error\u001b[49m\u001b[43m(\u001b[49m\u001b[43mresponse\u001b[49m\u001b[43m[\u001b[49m\u001b[38;5;124;43m\"\u001b[39;49m\u001b[38;5;124;43merror\u001b[39;49m\u001b[38;5;124;43m\"\u001b[39;49m\u001b[43m]\u001b[49m\u001b[43m,\u001b[49m\u001b[43m \u001b[49m\u001b[43mresponse\u001b[49m\u001b[38;5;241;43m.\u001b[39;49m\u001b[43mget\u001b[49m\u001b[43m(\u001b[49m\u001b[38;5;124;43m\"\u001b[39;49m\u001b[38;5;124;43mid\u001b[39;49m\u001b[38;5;124;43m\"\u001b[39;49m\u001b[43m)\u001b[49m\u001b[43m)\u001b[49m\n\u001b[1;32m    597\u001b[0m \u001b[38;5;28;01mif\u001b[39;00m constants\u001b[38;5;241m.\u001b[39mHEADER_CLEAR_SESSION \u001b[38;5;129;01min\u001b[39;00m http_response\u001b[38;5;241m.\u001b[39mheaders:\n\u001b[1;32m    598\u001b[0m     \u001b[38;5;28;01mfor\u001b[39;00m prop \u001b[38;5;129;01min\u001b[39;00m get_header_values(\n\u001b[1;32m    599\u001b[0m         http_response\u001b[38;5;241m.\u001b[39mheaders, constants\u001b[38;5;241m.\u001b[39mHEADER_CLEAR_SESSION\n\u001b[1;32m    600\u001b[0m     ):\n",
      "File \u001b[0;32m/home/PyCon2024/venv/lib/python3.11/site-packages/trino/client.py:565\u001b[0m, in \u001b[0;36mTrinoRequest._process_error\u001b[0;34m(self, error, query_id)\u001b[0m\n\u001b[1;32m    563\u001b[0m error_type \u001b[38;5;241m=\u001b[39m error[\u001b[38;5;124m\"\u001b[39m\u001b[38;5;124merrorType\u001b[39m\u001b[38;5;124m\"\u001b[39m]\n\u001b[1;32m    564\u001b[0m \u001b[38;5;28;01mif\u001b[39;00m error_type \u001b[38;5;241m==\u001b[39m \u001b[38;5;124m\"\u001b[39m\u001b[38;5;124mEXTERNAL\u001b[39m\u001b[38;5;124m\"\u001b[39m:\n\u001b[0;32m--> 565\u001b[0m     \u001b[38;5;28;01mraise\u001b[39;00m exceptions\u001b[38;5;241m.\u001b[39mTrinoExternalError(error, query_id)\n\u001b[1;32m    566\u001b[0m \u001b[38;5;28;01melif\u001b[39;00m error_type \u001b[38;5;241m==\u001b[39m \u001b[38;5;124m\"\u001b[39m\u001b[38;5;124mUSER_ERROR\u001b[39m\u001b[38;5;124m\"\u001b[39m:\n\u001b[1;32m    567\u001b[0m     \u001b[38;5;28;01mreturn\u001b[39;00m exceptions\u001b[38;5;241m.\u001b[39mTrinoUserError(error, query_id)\n",
      "\u001b[0;31mTrinoExternalError\u001b[0m: TrinoExternalError(type=EXTERNAL, name=HIVE_FILE_NOT_FOUND, message=\"Partition location does not exist: file:/opt/hive/data/warehouse/raygun_error_traces\", query_id=20240612_152818_00004_7zbnr)"
     ]
    }
   ],
   "source": [
    "\n",
    "# Execute a query\n",
    "cursor.execute(\"SELECT * FROM raygun_error_traces LIMIT 10\")"
   ]
  },
  {
   "cell_type": "code",
   "execution_count": 65,
   "metadata": {},
   "outputs": [
    {
     "ename": "AssertionError",
     "evalue": "",
     "output_type": "error",
     "traceback": [
      "\u001b[0;31m---------------------------------------------------------------------------\u001b[0m",
      "\u001b[0;31mAssertionError\u001b[0m                            Traceback (most recent call last)",
      "Cell \u001b[0;32mIn[65], line 2\u001b[0m\n\u001b[1;32m      1\u001b[0m \u001b[38;5;66;03m# Fetch the data\u001b[39;00m\n\u001b[0;32m----> 2\u001b[0m rows \u001b[38;5;241m=\u001b[39m \u001b[43mcursor\u001b[49m\u001b[38;5;241;43m.\u001b[39;49m\u001b[43mfetchall\u001b[49m\u001b[43m(\u001b[49m\u001b[43m)\u001b[49m\n",
      "File \u001b[0;32m/home/PyCon2024/venv/lib/python3.11/site-packages/trino/dbapi.py:689\u001b[0m, in \u001b[0;36mCursor.fetchall\u001b[0;34m(self)\u001b[0m\n\u001b[1;32m    688\u001b[0m \u001b[38;5;28;01mdef\u001b[39;00m \u001b[38;5;21mfetchall\u001b[39m(\u001b[38;5;28mself\u001b[39m) \u001b[38;5;241m-\u001b[39m\u001b[38;5;241m>\u001b[39m List[List[Any]]:\n\u001b[0;32m--> 689\u001b[0m     \u001b[38;5;28;01mreturn\u001b[39;00m \u001b[38;5;28;43mlist\u001b[39;49m\u001b[43m(\u001b[49m\u001b[38;5;28;43miter\u001b[39;49m\u001b[43m(\u001b[49m\u001b[38;5;28;43mself\u001b[39;49m\u001b[38;5;241;43m.\u001b[39;49m\u001b[43mfetchone\u001b[49m\u001b[43m,\u001b[49m\u001b[43m \u001b[49m\u001b[38;5;28;43;01mNone\u001b[39;49;00m\u001b[43m)\u001b[49m\u001b[43m)\u001b[49m\n",
      "File \u001b[0;32m/home/PyCon2024/venv/lib/python3.11/site-packages/trino/dbapi.py:630\u001b[0m, in \u001b[0;36mCursor.fetchone\u001b[0;34m(self)\u001b[0m\n\u001b[1;32m    620\u001b[0m \u001b[38;5;250m\u001b[39m\u001b[38;5;124;03m\"\"\"\u001b[39;00m\n\u001b[1;32m    621\u001b[0m \n\u001b[1;32m    622\u001b[0m \u001b[38;5;124;03mPEP-0249: Fetch the next row of a query result set, returning a single\u001b[39;00m\n\u001b[0;32m   (...)\u001b[0m\n\u001b[1;32m    626\u001b[0m \u001b[38;5;124;03m.execute*() did not produce any result set or no call was issued yet.\u001b[39;00m\n\u001b[1;32m    627\u001b[0m \u001b[38;5;124;03m\"\"\"\u001b[39;00m\n\u001b[1;32m    629\u001b[0m \u001b[38;5;28;01mtry\u001b[39;00m:\n\u001b[0;32m--> 630\u001b[0m     \u001b[38;5;28;01massert\u001b[39;00m \u001b[38;5;28mself\u001b[39m\u001b[38;5;241m.\u001b[39m_iterator \u001b[38;5;129;01mis\u001b[39;00m \u001b[38;5;129;01mnot\u001b[39;00m \u001b[38;5;28;01mNone\u001b[39;00m\n\u001b[1;32m    631\u001b[0m     \u001b[38;5;28;01mreturn\u001b[39;00m \u001b[38;5;28mnext\u001b[39m(\u001b[38;5;28mself\u001b[39m\u001b[38;5;241m.\u001b[39m_iterator)\n\u001b[1;32m    632\u001b[0m \u001b[38;5;28;01mexcept\u001b[39;00m \u001b[38;5;167;01mStopIteration\u001b[39;00m:\n",
      "\u001b[0;31mAssertionError\u001b[0m: "
     ]
    }
   ],
   "source": [
    "# Fetch the data\n",
    "rows = cursor.fetchall()"
   ]
  },
  {
   "cell_type": "code",
   "execution_count": null,
   "metadata": {},
   "outputs": [],
   "source": [
    "# Display the data\n",
    "for row in rows:\n",
    "    print(row)"
   ]
  }
 ],
 "metadata": {
  "kernelspec": {
   "display_name": "Python 3 (ipykernel)",
   "language": "python",
   "name": "python3"
  },
  "language_info": {
   "codemirror_mode": {
    "name": "ipython",
    "version": 3
   },
   "file_extension": ".py",
   "mimetype": "text/x-python",
   "name": "python",
   "nbconvert_exporter": "python",
   "pygments_lexer": "ipython3",
   "version": "3.11.2"
  }
 },
 "nbformat": 4,
 "nbformat_minor": 4
}
