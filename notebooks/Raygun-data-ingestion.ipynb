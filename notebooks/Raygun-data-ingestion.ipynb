{
 "cells": [
  {
   "cell_type": "code",
   "execution_count": null,
   "metadata": {},
   "outputs": [],
   "source": [
    "# To connect to the Jupiter Server\n",
    "# In the docker attach screen, look for a message like this:\n",
    "#    http://127.0.0.1:8888/lab?token=xxxx\n",
    "# The \"xxxx\" is the password to be used when the Jupyter Kernel Connection ask for it...\n",
    "# Then select the \"Existing Jupiter Server\" option\n",
    "# Specify the URL: http://127.0.0.1:8888\n",
    "# Specify the password: xxxx\n",
    "# Select the desired Kernel from the list\n",
    "\n",
    "# References:\n",
    "# google: what is the default python jupiterlab server password\n",
    "# https://stackoverflow.com/questions/41117554/what-is-default-password-for-jupyter-created-on-googles-data-proc\n",
    "\n",
    "# https://github.com/jupyter/notebook/commit/7fa5d5a1be147e9c8e14f61a2f4b3c0db1e2c00b\n",
    "# For servers with token-authentication enabled, the URL in the above listing will include the token,\n",
    "# so you can copy and paste that URL into your browser to login."
   ]
  },
  {
   "cell_type": "markdown",
   "metadata": {},
   "source": [
    "Step 1.1: Setup Environment"
   ]
  },
  {
   "cell_type": "code",
   "execution_count": null,
   "metadata": {},
   "outputs": [],
   "source": [
    "# Init Minio\n",
    "!sh /home/PyCon2024/Project/Scripts/1.init_minio.sh \"data/raygun\""
   ]
  },
  {
   "cell_type": "code",
   "execution_count": null,
   "metadata": {},
   "outputs": [],
   "source": [
    "# Install necessary packages\n",
    "# !pip install pyspark\n",
    "# !pip install s3fs\n",
    "# !pip install minio\n",
    "# !pip install pyhive\n",
    "import sys\n",
    "!{sys.executable} -m pip install pyspark\n",
    "!{sys.executable} -m pip install s3fs\n",
    "!{sys.executable} -m pip install minio\n",
    "!{sys.executable} -m pip install pyhive\n",
    "!{sys.executable} -m pip install trino"
   ]
  },
  {
   "cell_type": "code",
   "execution_count": null,
   "metadata": {},
   "outputs": [],
   "source": [
    "# Install dotenv to load environment variables\n",
    "!{sys.executable} -m pip install python-dotenv"
   ]
  },
  {
   "cell_type": "code",
   "execution_count": null,
   "metadata": {},
   "outputs": [],
   "source": [
    "# Load environment variables\n",
    "import os\n",
    "from dotenv import load_dotenv\n",
    "load_dotenv('minio.env')\n",
    "\n",
    "# Access the environment variables\n",
    "minio_access_key = os.getenv('MINIO_ACCESS_KEY')\n",
    "minio_secret_key = os.getenv('MINIO_SECRET_KEY')\n",
    "minio_endpoint = os.getenv('MINIO_ENDPOINT', \"http://minio:9000\")\n",
    "minio_bucket_name = os.getenv('MINIO_BUCKET_NAME', \"data-lakehouse\")"
   ]
  },
  {
   "cell_type": "code",
   "execution_count": null,
   "metadata": {},
   "outputs": [],
   "source": [
    "print(\"Minio Access Key:\", minio_access_key)\n",
    "print(\"Minio Secret Key:\", minio_secret_key)\n",
    "print(\"Minio Endpoint:\", minio_endpoint)\n",
    "print(\"Minio Bucket Name:\", minio_bucket_name)"
   ]
  },
  {
   "cell_type": "code",
   "execution_count": null,
   "metadata": {
    "editable": true,
    "slideshow": {
     "slide_type": ""
    },
    "tags": []
   },
   "outputs": [],
   "source": [
    "# Import libraries\n",
    "from pyspark.sql import SparkSession\n",
    "from pyspark.sql.functions import col, explode\n",
    "from minio import Minio\n",
    "import os"
   ]
  },
  {
   "cell_type": "code",
   "execution_count": null,
   "metadata": {},
   "outputs": [],
   "source": [
    "import pyspark\n",
    "import pyspark.sql. functions as sqlF\n",
    "\n",
    "from sqlalchemy.sql import text\n",
    "from sqlalchemy import create_engine\n",
    "\n",
    "import pandas as pd"
   ]
  },
  {
   "cell_type": "code",
   "execution_count": null,
   "metadata": {
    "scrolled": true
   },
   "outputs": [],
   "source": [
    "# Initialize Spark session\n",
    "# spark = SparkSession.builder \\\n",
    "#     .appName(\"RaygunErrorTraceAnalysis\") \\\n",
    "#     .config(\"spark.hadoop.fs.s3a.endpoint\", minio_endpoint) \\\n",
    "#     .config(\"spark.hadoop.fs.s3a.access.key\", minio_access_key) \\\n",
    "#     .config(\"spark.hadoop.fs.s3a.secret.key\", minio_secret_key) \\\n",
    "#     .config(\"spark.hadoop.fs.s3a.path.style.access\", True) \\\n",
    "#     .config(\"spark.hadoop.fs.s3a.impl\", \"org.apache.hadoop.fs.s3a.S3AFileSystem\") \\\n",
    "#     .config(\"spark.jars.packages\", \"io.delta:delta-core_2.13:2.1.0\") \\\n",
    "#     .config(\"spark.sql.extensions\", \"io.delta.sql.DeltaSparkSessionExtension\") \\\n",
    "#     .config(\"spark.sql.catalog.spark_catalog\", \"org.apache.spark.sql.delta.catalog.DeltaCatalog\") \\\n",
    "#     .enableHiveSupport() \\\n",
    "#     .getOrCreate()\n",
    "\n",
    "spark = SparkSession.builder \\\n",
    "    .appName(\"RaygunErrorTraceAnalysis\") \\\n",
    "    .config(\"spark.driver.host\", \"localhost\") \\\n",
    "    .config(\"spark.jars.packages\", \"io.delta:delta-spark_2.12:3.1.0,org.apache.hadoop:hadoop-aws:3.3.3\") \\\n",
    "    .config(\"spark.sql.extensions\", \"io.delta.sql.DeltaSparkSessionExtension\") \\\n",
    "    .config(\"spark.sql.catalog.spark_catalog\", \"org.apache.spark.sql.delta.catalog.DeltaCatalog\") \\\n",
    "    .config(\"hive.metastore.uris\", \"thrift://metastore:9083\") \\\n",
    "    .enableHiveSupport() \\\n",
    "    .getOrCreate()"
   ]
  },
  {
   "cell_type": "code",
   "execution_count": null,
   "metadata": {
    "scrolled": true
   },
   "outputs": [],
   "source": [
    "spark.sparkContext.getConf().getAll()"
   ]
  },
  {
   "cell_type": "markdown",
   "metadata": {},
   "source": [
    "Step 1.2: Upload Multiple JSON Files to MinIO"
   ]
  },
  {
   "cell_type": "code",
   "execution_count": null,
   "metadata": {},
   "outputs": [],
   "source": [
    "# Local directory path containing JSON files\n",
    "local_directory = \"../data/raygun\"\n",
    "\n",
    "# MinIO bucket name\n",
    "bucket_name = minio_bucket_name\n",
    "\n",
    "# Path to the JSON files in MinIO\n",
    "json_files_path = f\"s3a://{minio_bucket_name}/Raw/raygun/\"\n",
    "\n",
    "# Minio endpoint (only domian and port)\n",
    "minio_endpoint_domain_port = minio_endpoint.replace('http://', '').replace('https://', '')\n",
    "\n",
    "print(\"Local directory:\", local_directory)\n",
    "print(\"Minio bucket name:\", bucket_name)\n",
    "print(\"JSON files path:\", json_files_path)\n",
    "print(\"Minio endpoint (domain and port only):\", minio_endpoint_domain_port)"
   ]
  },
  {
   "cell_type": "code",
   "execution_count": null,
   "metadata": {},
   "outputs": [],
   "source": [
    "# Initialize Minio client\n",
    "minio_client = Minio(\n",
    "    minio_endpoint_domain_port,\n",
    "    access_key=minio_access_key,\n",
    "    secret_key=minio_secret_key,\n",
    "    secure=False\n",
    ")"
   ]
  },
  {
   "cell_type": "code",
   "execution_count": null,
   "metadata": {},
   "outputs": [],
   "source": [
    "# Create the bucket if it doesn't exist\n",
    "if minio_client.bucket_exists(bucket_name):\n",
    "    print(f\"Bucket {bucket_name} already exists\")\n",
    "else:\n",
    "    minio_client.make_bucket(bucket_name)\n",
    "    # Upload JSON files to MinIO\n",
    "    for filename in os.listdir(local_directory):\n",
    "        if filename.endswith(\".json\"):\n",
    "            file_path = os.path.join(local_directory, filename)\n",
    "            minio_client.fput_object(bucket_name, filename, file_path)\n",
    "            print(f\"Uploaded {filename} to {bucket_name}\")"
   ]
  },
  {
   "cell_type": "markdown",
   "metadata": {},
   "source": [
    "Step 2: Read Multiple JSON Files from MinIO"
   ]
  },
  {
   "cell_type": "code",
   "execution_count": null,
   "metadata": {},
   "outputs": [],
   "source": [
    "# Read JSON files into DataFrame\n",
    "print(f\"Set 'df' from: {json_files_path}\")\n",
    "df = spark.read.option(\"multiline\",\"true\").json(json_files_path)"
   ]
  },
  {
   "cell_type": "code",
   "execution_count": null,
   "metadata": {
    "scrolled": true
   },
   "outputs": [],
   "source": [
    "df.printSchema()"
   ]
  },
  {
   "cell_type": "code",
   "execution_count": null,
   "metadata": {},
   "outputs": [],
   "source": [
    "# df.show(truncate=False)\n",
    "df.show()"
   ]
  },
  {
   "cell_type": "markdown",
   "metadata": {},
   "source": [
    "Step 3: Process JSON Data"
   ]
  },
  {
   "cell_type": "code",
   "execution_count": null,
   "metadata": {
    "scrolled": true
   },
   "outputs": [],
   "source": [
    "# Flatten the nested structure for easier analysis\n",
    "df_flattened = df.select(\n",
    "    col(\"Error.Message\").alias(\"ErrorMessage\"),\n",
    "    col(\"Error.ClassName\").alias(\"ErrorClassName\"),\n",
    "    col(\"Error.FileName\").alias(\"ErrorFileName\"),\n",
    "    explode(\"Error.StackTrace\").alias(\"StackTrace\"),\n",
    "    col(\"MachineName\"),\n",
    "    col(\"Request.HostName\").alias(\"RequestHostName\"),\n",
    "    col(\"Request.Url\").alias(\"RequestUrl\"),\n",
    "    col(\"Request.HttpMethod\").alias(\"RequestHttpMethod\"),\n",
    "    col(\"Request.IpAddress\").alias(\"RequestIpAddress\"),\n",
    "    col(\"Request.QueryString\"),\n",
    "    col(\"Request.Headers\"),\n",
    "    col(\"Request.Data\")\n",
    ")"
   ]
  },
  {
   "cell_type": "code",
   "execution_count": null,
   "metadata": {
    "scrolled": true
   },
   "outputs": [],
   "source": [
    "df_flattened.printSchema()"
   ]
  },
  {
   "cell_type": "code",
   "execution_count": null,
   "metadata": {
    "scrolled": true
   },
   "outputs": [],
   "source": [
    "df_flattened.show(truncate=False)"
   ]
  },
  {
   "cell_type": "markdown",
   "metadata": {},
   "source": [
    "Step 4: Save Data into Apache Hive"
   ]
  },
  {
   "cell_type": "code",
   "execution_count": null,
   "metadata": {
    "scrolled": true
   },
   "outputs": [],
   "source": [
    "hive_location = \"/opt/hive/data/warehouse\"\n",
    "dest = f\"{hive_location}/raygun_error_traces\"\n",
    "\n",
    "import shutil\n",
    "shutil.rmtree(dest, ignore_errors=True)\n"
   ]
  },
  {
   "cell_type": "code",
   "execution_count": null,
   "metadata": {},
   "outputs": [],
   "source": [
    "# Save the processed data into Hive table\n",
    "df_flattened \\\n",
    "    .write \\\n",
    "    .mode(\"overwrite\") \\\n",
    "    .saveAsTable(\"raygun_error_traces\")\n"
   ]
  },
  {
   "cell_type": "code",
   "execution_count": null,
   "metadata": {},
   "outputs": [],
   "source": [
    "# Verify the data is saved correctly\n",
    "spark.sql(\"SELECT * FROM raygun_error_traces LIMIT 10\").show(truncate=False)"
   ]
  },
  {
   "cell_type": "code",
   "execution_count": null,
   "metadata": {},
   "outputs": [],
   "source": [
    "# Get the IP addresses summary\n",
    "spark.sql(\"SELECT RequestIpAddress FROM raygun_error_traces GROUP BY RequestIpAddress\").show(truncate=False)"
   ]
  },
  {
   "cell_type": "markdown",
   "metadata": {},
   "source": [
    "Step 5: Query with Trino"
   ]
  },
  {
   "cell_type": "code",
   "execution_count": null,
   "metadata": {},
   "outputs": [],
   "source": [
    "# Connect to Trino\n",
    "\n",
    "# With trino-python-client\n",
    "# https://github.com/trinodb/trino-python-client\n",
    "\n",
    "from trino.dbapi import connect\n",
    "conn = connect(\n",
    "    host='trino',\n",
    "    port=8081,\n",
    "    user='admin',\n",
    "    catalog='hive',\n",
    "    schema='default',\n",
    ")\n",
    "# Create a cursor object using the cursor() method\n",
    "cursor = conn.cursor()"
   ]
  },
  {
   "cell_type": "code",
   "execution_count": null,
   "metadata": {},
   "outputs": [],
   "source": [
    "# Connect to Trino\n",
    "\n",
    "# With SQLAlchhemy\n",
    "# https://github.com/trinodb/trino-python-client?tab=readme-ov-file#sqlalchemy\n",
    "\n",
    "# engine = create_engine('trino://admin@trino:8081')\n",
    "# conn = engine.connect()"
   ]
  },
  {
   "cell_type": "code",
   "execution_count": null,
   "metadata": {},
   "outputs": [],
   "source": [
    "\n",
    "# Execute a query\n",
    "cursor.execute(\"SELECT * FROM raygun_error_traces LIMIT 10\")"
   ]
  },
  {
   "cell_type": "code",
   "execution_count": null,
   "metadata": {},
   "outputs": [],
   "source": [
    "# Fetch the data\n",
    "rows = cursor.fetchall()"
   ]
  },
  {
   "cell_type": "code",
   "execution_count": null,
   "metadata": {},
   "outputs": [],
   "source": [
    "# Display the data\n",
    "for row in rows:\n",
    "    print(row)"
   ]
  }
 ],
 "metadata": {
  "kernelspec": {
   "display_name": "Python 3 (ipykernel)",
   "language": "python",
   "name": "python3"
  },
  "language_info": {
   "codemirror_mode": {
    "name": "ipython",
    "version": 3
   },
   "file_extension": ".py",
   "mimetype": "text/x-python",
   "name": "python",
   "nbconvert_exporter": "python",
   "pygments_lexer": "ipython3",
   "version": "3.11.2"
  }
 },
 "nbformat": 4,
 "nbformat_minor": 4
}
